{
 "cells": [
  {
   "cell_type": "markdown",
   "id": "b7cb1210",
   "metadata": {
    "tags": []
   },
   "source": [
    "# Translational invariance restoration\n",
    "In this notebook we evaluate the solutions proposed by the literature, i.e., anti-aliasing and data augmentation, to restore translational invariance in CNNs in our use case of JPEG image analysis.  \n",
    "We are then going to compare three variants of the various BondiNets:\n",
    "1. Standard network;\n",
    "2. Anti-Aliasing (AA) full and pool only;\n",
    "3. Training a standard network with random crop data-augmentation.\n"
   ]
  },
  {
   "cell_type": "markdown",
   "id": "e48edd1f",
   "metadata": {},
   "source": [
    "## Libraries import"
   ]
  },
  {
   "cell_type": "code",
   "execution_count": 1,
   "id": "bf531a7a",
   "metadata": {},
   "outputs": [
    {
     "name": "stderr",
     "output_type": "stream",
     "text": [
      "/tmp/ipykernel_3671715/3055428795.py:18: MatplotlibDeprecationWarning: Support for setting an rcParam that expects a str value to a non-str value is deprecated since 3.5 and support will be removed two minor releases later.\n",
      "  mpl.rcParams['text.latex.preamble'] = [\n"
     ]
    }
   ],
   "source": [
    "# Sys libraries\n",
    "import os\n",
    "import glob\n",
    "import sys\n",
    "sys.path.append('../')\n",
    "from tqdm.notebook import tqdm\n",
    "\n",
    "# Plotting libraries\n",
    "import matplotlib.pyplot as plt\n",
    "import numpy as np\n",
    "from matplotlib import rc\n",
    "# SETTING THE PLOT parameters to the ACM font\n",
    "import matplotlib as mpl\n",
    "\n",
    "mpl.rcParams['font.family'] = 'serif'\n",
    "mpl.rcParams['font.serif'] = 'Linux Libertine O'\n",
    "mpl.rcParams['text.usetex'] = True\n",
    "mpl.rcParams['text.latex.preamble'] = [\n",
    "    r'\\usepackage{libertine}'\n",
    "]\n",
    "\n",
    "%matplotlib inline\n",
    "\n",
    "# Torch and data libraries\n",
    "import torch\n",
    "import torchvision\n",
    "import torchvision.transforms as transforms\n",
    "import torchvision.transforms.functional as TF\n",
    "from torch.utils.data import SubsetRandomSampler, SequentialSampler, DataLoader\n",
    "from isplutils.data import CustomBlockJPEGBalancedDataset\n",
    "import albumentations as A\n",
    "from albumentations.pytorch import ToTensorV2\n",
    "import pandas as pd\n",
    "from architectures import fornet\n",
    "from architectures.fornet import FeatureExtractor, create_model\n"
   ]
  },
  {
   "cell_type": "markdown",
   "id": "8b4c3f0c",
   "metadata": {},
   "source": [
    "## Helpers functions and classes"
   ]
  },
  {
   "cell_type": "code",
   "execution_count": 3,
   "id": "e229c35f",
   "metadata": {},
   "outputs": [],
   "source": [
    "def bin_acc(y_pred, y_test) -> float:\n",
    "    y_pred_sig = torch.sigmoid(y_pred)\n",
    "    y_pred_tags = y_pred_sig > 0.5\n",
    "    correct_pred = (y_pred_tags == y_test).float()\n",
    "    acc = correct_pred.sum() / len(correct_pred)\n",
    "    acc *= 100\n",
    "    return acc\n",
    "\n",
    "\n",
    "def multi_acc(y_pred, y_test):\n",
    "    y_pred_softmax = torch.nn.functional.log_softmax(y_pred, dim = 1)\n",
    "    _, y_pred_tags = torch.max(y_pred_softmax, dim = 1)\n",
    "    correct_pred = (y_pred_tags == y_test).float()\n",
    "    acc = correct_pred.sum() / len(correct_pred)\n",
    "    acc = torch.round(acc) * 100\n",
    "    return acc\n",
    "\n",
    "\n",
    "def batch_forward(net: torch.nn.Module, device, criterion,\n",
    "                  data: torch.Tensor, labels: torch.Tensor) -> (torch.Tensor, float):\n",
    "    if torch.cuda.is_available():\n",
    "        data = data.to(device)\n",
    "        labels = labels.to(device)\n",
    "    out = net(data).squeeze()\n",
    "    loss = criterion(out, labels)\n",
    "    pred = torch.sigmoid(out)\n",
    "    return loss, pred\n",
    "\n",
    "\n",
    "def balanced_collate_fn(batch):\n",
    "    return [torch.cat([elem[0] for elem in batch]), torch.cat([elem[1] for elem in batch])]\n"
   ]
  },
  {
   "cell_type": "markdown",
   "id": "d4131acd",
   "metadata": {},
   "source": [
    "## Execution parameters"
   ]
  },
  {
   "cell_type": "code",
   "execution_count": 5,
   "id": "41ce0a37",
   "metadata": {},
   "outputs": [],
   "source": [
    "models_dir = '../models'\n",
    "gpu_id = 2\n",
    "precomputed = True  # whether to use the precomputed results or let the notebook do the job\n",
    "data_root = '../data'  # PLACE HERE THE DIRECTORY WHERE YOU SAVED THE DATASETS!"
   ]
  },
  {
   "cell_type": "markdown",
   "id": "04801123",
   "metadata": {},
   "source": [
    "### Let's build a Dataframe with all the models we need divided by stride"
   ]
  },
  {
   "cell_type": "code",
   "execution_count": 71,
   "id": "08bf62ee",
   "metadata": {},
   "outputs": [
    {
     "data": {
      "text/html": [
       "<div>\n",
       "<style scoped>\n",
       "    .dataframe tbody tr th:only-of-type {\n",
       "        vertical-align: middle;\n",
       "    }\n",
       "\n",
       "    .dataframe tbody tr th {\n",
       "        vertical-align: top;\n",
       "    }\n",
       "\n",
       "    .dataframe thead th {\n",
       "        text-align: right;\n",
       "    }\n",
       "</style>\n",
       "<table border=\"1\" class=\"dataframe\">\n",
       "  <thead>\n",
       "    <tr style=\"text-align: right;\">\n",
       "      <th></th>\n",
       "      <th></th>\n",
       "      <th></th>\n",
       "      <th>Model path</th>\n",
       "    </tr>\n",
       "    <tr>\n",
       "      <th>JPEG block size</th>\n",
       "      <th>Stride factor</th>\n",
       "      <th>Model variant</th>\n",
       "      <th></th>\n",
       "    </tr>\n",
       "  </thead>\n",
       "  <tbody>\n",
       "    <tr>\n",
       "      <th rowspan=\"5\" valign=\"top\">7</th>\n",
       "      <th rowspan=\"4\" valign=\"top\">1</th>\n",
       "      <th>BondiNetVS</th>\n",
       "      <td>../models/BondiNets/7x7_block_nets/net-BondiNe...</td>\n",
       "    </tr>\n",
       "    <tr>\n",
       "      <th>AA-BondiNetVS full</th>\n",
       "      <td></td>\n",
       "    </tr>\n",
       "    <tr>\n",
       "      <th>AA-BondiNetVS pool only</th>\n",
       "      <td></td>\n",
       "    </tr>\n",
       "    <tr>\n",
       "      <th>BondiNetVS random crop</th>\n",
       "      <td></td>\n",
       "    </tr>\n",
       "    <tr>\n",
       "      <th>2</th>\n",
       "      <th>BondiNetVS</th>\n",
       "      <td>../models/BondiNets/7x7_block_nets/net-BondiNe...</td>\n",
       "    </tr>\n",
       "    <tr>\n",
       "      <th>...</th>\n",
       "      <th>...</th>\n",
       "      <th>...</th>\n",
       "      <td>...</td>\n",
       "    </tr>\n",
       "    <tr>\n",
       "      <th rowspan=\"5\" valign=\"top\">12</th>\n",
       "      <th>3</th>\n",
       "      <th>BondiNetVS random crop</th>\n",
       "      <td>../models/BondiNets_random_crop/12x12_block_ne...</td>\n",
       "    </tr>\n",
       "    <tr>\n",
       "      <th rowspan=\"4\" valign=\"top\">4</th>\n",
       "      <th>BondiNetVS</th>\n",
       "      <td>../models/BondiNets/12x12_block_nets/net-Bondi...</td>\n",
       "    </tr>\n",
       "    <tr>\n",
       "      <th>AA-BondiNetVS full</th>\n",
       "      <td>../models/AABondiNets/12x12_block_nets/net-AAB...</td>\n",
       "    </tr>\n",
       "    <tr>\n",
       "      <th>AA-BondiNetVS pool only</th>\n",
       "      <td>../models/AABondiNets_pool_only/12x12_block_ne...</td>\n",
       "    </tr>\n",
       "    <tr>\n",
       "      <th>BondiNetVS random crop</th>\n",
       "      <td>../models/BondiNets_random_crop/12x12_block_ne...</td>\n",
       "    </tr>\n",
       "  </tbody>\n",
       "</table>\n",
       "<p>64 rows × 1 columns</p>\n",
       "</div>"
      ],
      "text/plain": [
       "                                                                                              Model path\n",
       "JPEG block size Stride factor Model variant                                                             \n",
       "7               1             BondiNetVS               ../models/BondiNets/7x7_block_nets/net-BondiNe...\n",
       "                              AA-BondiNetVS full                                                        \n",
       "                              AA-BondiNetVS pool only                                                   \n",
       "                              BondiNetVS random crop                                                    \n",
       "                2             BondiNetVS               ../models/BondiNets/7x7_block_nets/net-BondiNe...\n",
       "...                                                                                                  ...\n",
       "12              3             BondiNetVS random crop   ../models/BondiNets_random_crop/12x12_block_ne...\n",
       "                4             BondiNetVS               ../models/BondiNets/12x12_block_nets/net-Bondi...\n",
       "                              AA-BondiNetVS full       ../models/AABondiNets/12x12_block_nets/net-AAB...\n",
       "                              AA-BondiNetVS pool only  ../models/AABondiNets_pool_only/12x12_block_ne...\n",
       "                              BondiNetVS random crop   ../models/BondiNets_random_crop/12x12_block_ne...\n",
       "\n",
       "[64 rows x 1 columns]"
      ]
     },
     "execution_count": 71,
     "metadata": {},
     "output_type": "execute_result"
    }
   ],
   "source": [
    "# Build the Dataframe\n",
    "strides = [1, 2, 3, 4]\n",
    "jpeg_blocks = [7, 8, 9, 12]\n",
    "model_variants = ['BondiNetVS', 'AA-BondiNetVS full', 'AA-BondiNetVS pool only', 'BondiNetVS random crop']\n",
    "all_models_df = pd.DataFrame(index=pd.MultiIndex.from_product([jpeg_blocks, strides, model_variants], \n",
    "                                                              names=['JPEG block size', 'Stride factor', 'Model variant']),\n",
    "                            )\n",
    "all_models_df['Model path'] = ''\n",
    "for model_path in glob.glob(os.path.join(models_dir, '**/bestval.pth'), recursive=True):\n",
    "    # Parse the parameters we need from the model path\n",
    "    tag = model_path.split('/')[-2]\n",
    "    net_class = tag.split('net-')[1].split('_')[0]\n",
    "    if 'BondiNet' in net_class:\n",
    "        random_crop = tag.split('random_crop-')[1].split('_')[0] == 'True'\n",
    "        jpeg_bs = int(tag.split('jpeg_bs-')[1].split('_')[0])\n",
    "        fl_stride = int(tag.split('fl_stride-')[1].split('_')[0])\n",
    "        if net_class == 'AABondiNet':\n",
    "            aa_pool = tag.split('aa_pool_only-')[1].split('/')[0] == 'True'\n",
    "            if aa_pool:\n",
    "                all_models_df.loc[(jpeg_bs, fl_stride, 'AA-BondiNetVS pool only'), 'Model path'] = model_path\n",
    "            else:\n",
    "                all_models_df.loc[(jpeg_bs, fl_stride, 'AA-BondiNetVS full'), 'Model path'] = model_path\n",
    "        else:\n",
    "            if random_crop:\n",
    "                all_models_df.loc[(jpeg_bs, fl_stride, 'BondiNetVS random crop'), 'Model path'] = model_path\n",
    "            else:\n",
    "                all_models_df.loc[(jpeg_bs, fl_stride, 'BondiNetVS'), 'Model path'] = model_path\n",
    "\n",
    "all_models_df"
   ]
  },
  {
   "cell_type": "markdown",
   "id": "b45b4c29-ea76-4753-a36a-85064e3abf2f",
   "metadata": {},
   "source": [
    "## Before starting\n",
    "**Please note** that the considered BondiNets are **already** translation invariant with respect to some JPEG images, e.g., on `7x7` samples all networks are translational invariant, on `8x8` the stride 1 and 3 networks are invariant, etc.  \n",
    "Therefore, the most straightforward scenario to consider to evaluate the efficacy of anti-aliasing and data-augmentation is training and testing on `12x12` blocks JPEG images, since all the networks considered are only shiftable.  \n",
    "Please note that similar results are valid for the other scenarios as well."
   ]
  },
  {
   "cell_type": "markdown",
   "id": "ebf9755c",
   "metadata": {},
   "source": [
    "### 12x12 block JPEG images"
   ]
  },
  {
   "cell_type": "code",
   "execution_count": 72,
   "id": "bd94457d",
   "metadata": {},
   "outputs": [
    {
     "data": {
      "text/html": [
       "<div>\n",
       "<style scoped>\n",
       "    .dataframe tbody tr th:only-of-type {\n",
       "        vertical-align: middle;\n",
       "    }\n",
       "\n",
       "    .dataframe tbody tr th {\n",
       "        vertical-align: top;\n",
       "    }\n",
       "\n",
       "    .dataframe thead th {\n",
       "        text-align: right;\n",
       "    }\n",
       "</style>\n",
       "<table border=\"1\" class=\"dataframe\">\n",
       "  <thead>\n",
       "    <tr style=\"text-align: right;\">\n",
       "      <th></th>\n",
       "      <th></th>\n",
       "      <th>Model path</th>\n",
       "    </tr>\n",
       "    <tr>\n",
       "      <th>Stride factor</th>\n",
       "      <th>Model variant</th>\n",
       "      <th></th>\n",
       "    </tr>\n",
       "  </thead>\n",
       "  <tbody>\n",
       "    <tr>\n",
       "      <th rowspan=\"4\" valign=\"top\">1</th>\n",
       "      <th>BondiNetVS</th>\n",
       "      <td>../models/BondiNets/12x12_block_nets/net-Bondi...</td>\n",
       "    </tr>\n",
       "    <tr>\n",
       "      <th>AA-BondiNetVS full</th>\n",
       "      <td></td>\n",
       "    </tr>\n",
       "    <tr>\n",
       "      <th>AA-BondiNetVS pool only</th>\n",
       "      <td>../models/AABondiNets_pool_only/12x12_block_ne...</td>\n",
       "    </tr>\n",
       "    <tr>\n",
       "      <th>BondiNetVS random crop</th>\n",
       "      <td>../models/BondiNets_random_crop/12x12_block_ne...</td>\n",
       "    </tr>\n",
       "    <tr>\n",
       "      <th rowspan=\"4\" valign=\"top\">2</th>\n",
       "      <th>BondiNetVS</th>\n",
       "      <td>../models/BondiNets/12x12_block_nets/net-Bondi...</td>\n",
       "    </tr>\n",
       "    <tr>\n",
       "      <th>AA-BondiNetVS full</th>\n",
       "      <td>../models/AABondiNets/12x12_block_nets/net-AAB...</td>\n",
       "    </tr>\n",
       "    <tr>\n",
       "      <th>AA-BondiNetVS pool only</th>\n",
       "      <td>../models/AABondiNets_pool_only/12x12_block_ne...</td>\n",
       "    </tr>\n",
       "    <tr>\n",
       "      <th>BondiNetVS random crop</th>\n",
       "      <td>../models/BondiNets_random_crop/12x12_block_ne...</td>\n",
       "    </tr>\n",
       "    <tr>\n",
       "      <th rowspan=\"4\" valign=\"top\">3</th>\n",
       "      <th>BondiNetVS</th>\n",
       "      <td>../models/BondiNets/12x12_block_nets/net-Bondi...</td>\n",
       "    </tr>\n",
       "    <tr>\n",
       "      <th>AA-BondiNetVS full</th>\n",
       "      <td>../models/AABondiNets/12x12_block_nets/net-AAB...</td>\n",
       "    </tr>\n",
       "    <tr>\n",
       "      <th>AA-BondiNetVS pool only</th>\n",
       "      <td>../models/AABondiNets_pool_only/12x12_block_ne...</td>\n",
       "    </tr>\n",
       "    <tr>\n",
       "      <th>BondiNetVS random crop</th>\n",
       "      <td>../models/BondiNets_random_crop/12x12_block_ne...</td>\n",
       "    </tr>\n",
       "    <tr>\n",
       "      <th rowspan=\"4\" valign=\"top\">4</th>\n",
       "      <th>BondiNetVS</th>\n",
       "      <td>../models/BondiNets/12x12_block_nets/net-Bondi...</td>\n",
       "    </tr>\n",
       "    <tr>\n",
       "      <th>AA-BondiNetVS full</th>\n",
       "      <td>../models/AABondiNets/12x12_block_nets/net-AAB...</td>\n",
       "    </tr>\n",
       "    <tr>\n",
       "      <th>AA-BondiNetVS pool only</th>\n",
       "      <td>../models/AABondiNets_pool_only/12x12_block_ne...</td>\n",
       "    </tr>\n",
       "    <tr>\n",
       "      <th>BondiNetVS random crop</th>\n",
       "      <td>../models/BondiNets_random_crop/12x12_block_ne...</td>\n",
       "    </tr>\n",
       "  </tbody>\n",
       "</table>\n",
       "</div>"
      ],
      "text/plain": [
       "                                                                              Model path\n",
       "Stride factor Model variant                                                             \n",
       "1             BondiNetVS               ../models/BondiNets/12x12_block_nets/net-Bondi...\n",
       "              AA-BondiNetVS full                                                        \n",
       "              AA-BondiNetVS pool only  ../models/AABondiNets_pool_only/12x12_block_ne...\n",
       "              BondiNetVS random crop   ../models/BondiNets_random_crop/12x12_block_ne...\n",
       "2             BondiNetVS               ../models/BondiNets/12x12_block_nets/net-Bondi...\n",
       "              AA-BondiNetVS full       ../models/AABondiNets/12x12_block_nets/net-AAB...\n",
       "              AA-BondiNetVS pool only  ../models/AABondiNets_pool_only/12x12_block_ne...\n",
       "              BondiNetVS random crop   ../models/BondiNets_random_crop/12x12_block_ne...\n",
       "3             BondiNetVS               ../models/BondiNets/12x12_block_nets/net-Bondi...\n",
       "              AA-BondiNetVS full       ../models/AABondiNets/12x12_block_nets/net-AAB...\n",
       "              AA-BondiNetVS pool only  ../models/AABondiNets_pool_only/12x12_block_ne...\n",
       "              BondiNetVS random crop   ../models/BondiNets_random_crop/12x12_block_ne...\n",
       "4             BondiNetVS               ../models/BondiNets/12x12_block_nets/net-Bondi...\n",
       "              AA-BondiNetVS full       ../models/AABondiNets/12x12_block_nets/net-AAB...\n",
       "              AA-BondiNetVS pool only  ../models/AABondiNets_pool_only/12x12_block_ne...\n",
       "              BondiNetVS random crop   ../models/BondiNets_random_crop/12x12_block_ne..."
      ]
     },
     "execution_count": 72,
     "metadata": {},
     "output_type": "execute_result"
    }
   ],
   "source": [
    "block_size = 12\n",
    "moi_df = all_models_df.loc[block_size]  # MOI = models of interest\n",
    "moi_df"
   ]
  },
  {
   "cell_type": "code",
   "execution_count": 78,
   "id": "3e17d84a",
   "metadata": {
    "scrolled": false
   },
   "outputs": [
    {
     "name": "stdout",
     "output_type": "stream",
     "text": [
      "Doing networks with stride 1 in the first layer...\n",
      "Loading model ../models/BondiNets/12x12_block_nets/net-BondiNet_lr-0.001_batch_size-32_split_train_test-0.75_split_train_val-0.75_split_seed-42_in_channels-1_init_period-10_jpeg_bs-12_fl_stride-1_grayscale-True_random_crop-False/bestval.pth...\n",
      "<All keys matched successfully>\n",
      "Model loaded!\n"
     ]
    },
    {
     "name": "stderr",
     "output_type": "stream",
     "text": [
      "/nas/home/ecannas/miniconda3/envs/jpeg_expl/lib/python3.9/site-packages/torch/nn/modules/lazy.py:180: UserWarning: Lazy modules are a new feature under heavy development so changes to the API or functionality can happen at any moment.\n",
      "  warnings.warn('Lazy modules are a new feature under heavy development '\n"
     ]
    },
    {
     "data": {
      "application/vnd.jupyter.widget-view+json": {
       "model_id": "",
       "version_major": 2,
       "version_minor": 0
      },
      "text/plain": [
       "Test sample:   0%|          | 0/334 [00:00<?, ?it/s]"
      ]
     },
     "metadata": {},
     "output_type": "display_data"
    },
    {
     "data": {
      "application/vnd.jupyter.widget-view+json": {
       "model_id": "",
       "version_major": 2,
       "version_minor": 0
      },
      "text/plain": [
       "Test sample:   0%|          | 0/334 [00:00<?, ?it/s]"
      ]
     },
     "metadata": {},
     "output_type": "display_data"
    },
    {
     "data": {
      "application/vnd.jupyter.widget-view+json": {
       "model_id": "",
       "version_major": 2,
       "version_minor": 0
      },
      "text/plain": [
       "Test sample:   0%|          | 0/334 [00:00<?, ?it/s]"
      ]
     },
     "metadata": {},
     "output_type": "display_data"
    },
    {
     "data": {
      "application/vnd.jupyter.widget-view+json": {
       "model_id": "",
       "version_major": 2,
       "version_minor": 0
      },
      "text/plain": [
       "Test sample:   0%|          | 0/334 [00:00<?, ?it/s]"
      ]
     },
     "metadata": {},
     "output_type": "display_data"
    },
    {
     "data": {
      "application/vnd.jupyter.widget-view+json": {
       "model_id": "",
       "version_major": 2,
       "version_minor": 0
      },
      "text/plain": [
       "Test sample:   0%|          | 0/334 [00:00<?, ?it/s]"
      ]
     },
     "metadata": {},
     "output_type": "display_data"
    },
    {
     "data": {
      "application/vnd.jupyter.widget-view+json": {
       "model_id": "",
       "version_major": 2,
       "version_minor": 0
      },
      "text/plain": [
       "Test sample:   0%|          | 0/334 [00:00<?, ?it/s]"
      ]
     },
     "metadata": {},
     "output_type": "display_data"
    },
    {
     "data": {
      "application/vnd.jupyter.widget-view+json": {
       "model_id": "",
       "version_major": 2,
       "version_minor": 0
      },
      "text/plain": [
       "Test sample:   0%|          | 0/334 [00:00<?, ?it/s]"
      ]
     },
     "metadata": {},
     "output_type": "display_data"
    },
    {
     "data": {
      "application/vnd.jupyter.widget-view+json": {
       "model_id": "",
       "version_major": 2,
       "version_minor": 0
      },
      "text/plain": [
       "Test sample:   0%|          | 0/334 [00:00<?, ?it/s]"
      ]
     },
     "metadata": {},
     "output_type": "display_data"
    },
    {
     "data": {
      "application/vnd.jupyter.widget-view+json": {
       "model_id": "",
       "version_major": 2,
       "version_minor": 0
      },
      "text/plain": [
       "Test sample:   0%|          | 0/334 [00:00<?, ?it/s]"
      ]
     },
     "metadata": {},
     "output_type": "display_data"
    },
    {
     "data": {
      "application/vnd.jupyter.widget-view+json": {
       "model_id": "",
       "version_major": 2,
       "version_minor": 0
      },
      "text/plain": [
       "Test sample:   0%|          | 0/334 [00:00<?, ?it/s]"
      ]
     },
     "metadata": {},
     "output_type": "display_data"
    },
    {
     "data": {
      "application/vnd.jupyter.widget-view+json": {
       "model_id": "",
       "version_major": 2,
       "version_minor": 0
      },
      "text/plain": [
       "Test sample:   0%|          | 0/334 [00:00<?, ?it/s]"
      ]
     },
     "metadata": {},
     "output_type": "display_data"
    },
    {
     "data": {
      "application/vnd.jupyter.widget-view+json": {
       "model_id": "",
       "version_major": 2,
       "version_minor": 0
      },
      "text/plain": [
       "Test sample:   0%|          | 0/334 [00:00<?, ?it/s]"
      ]
     },
     "metadata": {},
     "output_type": "display_data"
    },
    {
     "data": {
      "application/vnd.jupyter.widget-view+json": {
       "model_id": "",
       "version_major": 2,
       "version_minor": 0
      },
      "text/plain": [
       "Test sample:   0%|          | 0/334 [00:00<?, ?it/s]"
      ]
     },
     "metadata": {},
     "output_type": "display_data"
    },
    {
     "name": "stdout",
     "output_type": "stream",
     "text": [
      "Loading model ../models/AABondiNets_pool_only/12x12_block_nets/net-AABondiNet_lr-0.001_batch_size-32_split_train_test-0.75_split_train_val-0.75_split_seed-42_in_channels-1_init_period-10_jpeg_bs-12_fl_stride-1_grayscale-True_random_crop-False_aa_pool_only-True/bestval.pth...\n",
      "<All keys matched successfully>\n",
      "Model loaded!\n"
     ]
    },
    {
     "name": "stderr",
     "output_type": "stream",
     "text": [
      "/nas/home/ecannas/miniconda3/envs/jpeg_expl/lib/python3.9/site-packages/torch/nn/modules/lazy.py:180: UserWarning: Lazy modules are a new feature under heavy development so changes to the API or functionality can happen at any moment.\n",
      "  warnings.warn('Lazy modules are a new feature under heavy development '\n"
     ]
    },
    {
     "data": {
      "application/vnd.jupyter.widget-view+json": {
       "model_id": "",
       "version_major": 2,
       "version_minor": 0
      },
      "text/plain": [
       "Test sample:   0%|          | 0/334 [00:00<?, ?it/s]"
      ]
     },
     "metadata": {},
     "output_type": "display_data"
    },
    {
     "data": {
      "application/vnd.jupyter.widget-view+json": {
       "model_id": "",
       "version_major": 2,
       "version_minor": 0
      },
      "text/plain": [
       "Test sample:   0%|          | 0/334 [00:00<?, ?it/s]"
      ]
     },
     "metadata": {},
     "output_type": "display_data"
    },
    {
     "data": {
      "application/vnd.jupyter.widget-view+json": {
       "model_id": "",
       "version_major": 2,
       "version_minor": 0
      },
      "text/plain": [
       "Test sample:   0%|          | 0/334 [00:00<?, ?it/s]"
      ]
     },
     "metadata": {},
     "output_type": "display_data"
    },
    {
     "data": {
      "application/vnd.jupyter.widget-view+json": {
       "model_id": "",
       "version_major": 2,
       "version_minor": 0
      },
      "text/plain": [
       "Test sample:   0%|          | 0/334 [00:00<?, ?it/s]"
      ]
     },
     "metadata": {},
     "output_type": "display_data"
    },
    {
     "data": {
      "application/vnd.jupyter.widget-view+json": {
       "model_id": "",
       "version_major": 2,
       "version_minor": 0
      },
      "text/plain": [
       "Test sample:   0%|          | 0/334 [00:00<?, ?it/s]"
      ]
     },
     "metadata": {},
     "output_type": "display_data"
    },
    {
     "data": {
      "application/vnd.jupyter.widget-view+json": {
       "model_id": "",
       "version_major": 2,
       "version_minor": 0
      },
      "text/plain": [
       "Test sample:   0%|          | 0/334 [00:00<?, ?it/s]"
      ]
     },
     "metadata": {},
     "output_type": "display_data"
    },
    {
     "data": {
      "application/vnd.jupyter.widget-view+json": {
       "model_id": "",
       "version_major": 2,
       "version_minor": 0
      },
      "text/plain": [
       "Test sample:   0%|          | 0/334 [00:00<?, ?it/s]"
      ]
     },
     "metadata": {},
     "output_type": "display_data"
    },
    {
     "data": {
      "application/vnd.jupyter.widget-view+json": {
       "model_id": "",
       "version_major": 2,
       "version_minor": 0
      },
      "text/plain": [
       "Test sample:   0%|          | 0/334 [00:00<?, ?it/s]"
      ]
     },
     "metadata": {},
     "output_type": "display_data"
    },
    {
     "data": {
      "application/vnd.jupyter.widget-view+json": {
       "model_id": "",
       "version_major": 2,
       "version_minor": 0
      },
      "text/plain": [
       "Test sample:   0%|          | 0/334 [00:00<?, ?it/s]"
      ]
     },
     "metadata": {},
     "output_type": "display_data"
    },
    {
     "data": {
      "application/vnd.jupyter.widget-view+json": {
       "model_id": "",
       "version_major": 2,
       "version_minor": 0
      },
      "text/plain": [
       "Test sample:   0%|          | 0/334 [00:00<?, ?it/s]"
      ]
     },
     "metadata": {},
     "output_type": "display_data"
    },
    {
     "data": {
      "application/vnd.jupyter.widget-view+json": {
       "model_id": "",
       "version_major": 2,
       "version_minor": 0
      },
      "text/plain": [
       "Test sample:   0%|          | 0/334 [00:00<?, ?it/s]"
      ]
     },
     "metadata": {},
     "output_type": "display_data"
    },
    {
     "data": {
      "application/vnd.jupyter.widget-view+json": {
       "model_id": "",
       "version_major": 2,
       "version_minor": 0
      },
      "text/plain": [
       "Test sample:   0%|          | 0/334 [00:00<?, ?it/s]"
      ]
     },
     "metadata": {},
     "output_type": "display_data"
    },
    {
     "data": {
      "application/vnd.jupyter.widget-view+json": {
       "model_id": "",
       "version_major": 2,
       "version_minor": 0
      },
      "text/plain": [
       "Test sample:   0%|          | 0/334 [00:00<?, ?it/s]"
      ]
     },
     "metadata": {},
     "output_type": "display_data"
    },
    {
     "name": "stdout",
     "output_type": "stream",
     "text": [
      "Loading model ../models/BondiNets_random_crop/12x12_block_nets/net-BondiNet_lr-0.001_batch_size-32_split_train_test-0.75_split_train_val-0.75_split_seed-42_in_channels-1_init_period-10_jpeg_bs-12_fl_stride-1_grayscale-True_random_crop-True/bestval.pth...\n",
      "<All keys matched successfully>\n",
      "Model loaded!\n"
     ]
    },
    {
     "name": "stderr",
     "output_type": "stream",
     "text": [
      "/nas/home/ecannas/miniconda3/envs/jpeg_expl/lib/python3.9/site-packages/torch/nn/modules/lazy.py:180: UserWarning: Lazy modules are a new feature under heavy development so changes to the API or functionality can happen at any moment.\n",
      "  warnings.warn('Lazy modules are a new feature under heavy development '\n"
     ]
    },
    {
     "data": {
      "application/vnd.jupyter.widget-view+json": {
       "model_id": "",
       "version_major": 2,
       "version_minor": 0
      },
      "text/plain": [
       "Test sample:   0%|          | 0/334 [00:00<?, ?it/s]"
      ]
     },
     "metadata": {},
     "output_type": "display_data"
    },
    {
     "data": {
      "application/vnd.jupyter.widget-view+json": {
       "model_id": "",
       "version_major": 2,
       "version_minor": 0
      },
      "text/plain": [
       "Test sample:   0%|          | 0/334 [00:00<?, ?it/s]"
      ]
     },
     "metadata": {},
     "output_type": "display_data"
    },
    {
     "data": {
      "application/vnd.jupyter.widget-view+json": {
       "model_id": "",
       "version_major": 2,
       "version_minor": 0
      },
      "text/plain": [
       "Test sample:   0%|          | 0/334 [00:00<?, ?it/s]"
      ]
     },
     "metadata": {},
     "output_type": "display_data"
    },
    {
     "data": {
      "application/vnd.jupyter.widget-view+json": {
       "model_id": "",
       "version_major": 2,
       "version_minor": 0
      },
      "text/plain": [
       "Test sample:   0%|          | 0/334 [00:00<?, ?it/s]"
      ]
     },
     "metadata": {},
     "output_type": "display_data"
    },
    {
     "data": {
      "application/vnd.jupyter.widget-view+json": {
       "model_id": "",
       "version_major": 2,
       "version_minor": 0
      },
      "text/plain": [
       "Test sample:   0%|          | 0/334 [00:00<?, ?it/s]"
      ]
     },
     "metadata": {},
     "output_type": "display_data"
    },
    {
     "data": {
      "application/vnd.jupyter.widget-view+json": {
       "model_id": "",
       "version_major": 2,
       "version_minor": 0
      },
      "text/plain": [
       "Test sample:   0%|          | 0/334 [00:00<?, ?it/s]"
      ]
     },
     "metadata": {},
     "output_type": "display_data"
    },
    {
     "data": {
      "application/vnd.jupyter.widget-view+json": {
       "model_id": "",
       "version_major": 2,
       "version_minor": 0
      },
      "text/plain": [
       "Test sample:   0%|          | 0/334 [00:00<?, ?it/s]"
      ]
     },
     "metadata": {},
     "output_type": "display_data"
    },
    {
     "data": {
      "application/vnd.jupyter.widget-view+json": {
       "model_id": "",
       "version_major": 2,
       "version_minor": 0
      },
      "text/plain": [
       "Test sample:   0%|          | 0/334 [00:00<?, ?it/s]"
      ]
     },
     "metadata": {},
     "output_type": "display_data"
    },
    {
     "data": {
      "application/vnd.jupyter.widget-view+json": {
       "model_id": "",
       "version_major": 2,
       "version_minor": 0
      },
      "text/plain": [
       "Test sample:   0%|          | 0/334 [00:00<?, ?it/s]"
      ]
     },
     "metadata": {},
     "output_type": "display_data"
    },
    {
     "data": {
      "application/vnd.jupyter.widget-view+json": {
       "model_id": "",
       "version_major": 2,
       "version_minor": 0
      },
      "text/plain": [
       "Test sample:   0%|          | 0/334 [00:00<?, ?it/s]"
      ]
     },
     "metadata": {},
     "output_type": "display_data"
    },
    {
     "data": {
      "application/vnd.jupyter.widget-view+json": {
       "model_id": "",
       "version_major": 2,
       "version_minor": 0
      },
      "text/plain": [
       "Test sample:   0%|          | 0/334 [00:00<?, ?it/s]"
      ]
     },
     "metadata": {},
     "output_type": "display_data"
    },
    {
     "data": {
      "application/vnd.jupyter.widget-view+json": {
       "model_id": "",
       "version_major": 2,
       "version_minor": 0
      },
      "text/plain": [
       "Test sample:   0%|          | 0/334 [00:00<?, ?it/s]"
      ]
     },
     "metadata": {},
     "output_type": "display_data"
    },
    {
     "data": {
      "application/vnd.jupyter.widget-view+json": {
       "model_id": "",
       "version_major": 2,
       "version_minor": 0
      },
      "text/plain": [
       "Test sample:   0%|          | 0/334 [00:00<?, ?it/s]"
      ]
     },
     "metadata": {},
     "output_type": "display_data"
    },
    {
     "name": "stdout",
     "output_type": "stream",
     "text": [
      "Doing networks with stride 2 in the first layer...\n",
      "Loading model ../models/BondiNets/12x12_block_nets/net-BondiNet_lr-0.001_batch_size-32_split_train_test-0.75_split_train_val-0.75_split_seed-42_in_channels-1_init_period-10_jpeg_bs-12_fl_stride-2_grayscale-True_random_crop-False/bestval.pth...\n",
      "<All keys matched successfully>\n",
      "Model loaded!\n"
     ]
    },
    {
     "name": "stderr",
     "output_type": "stream",
     "text": [
      "/nas/home/ecannas/miniconda3/envs/jpeg_expl/lib/python3.9/site-packages/torch/nn/modules/lazy.py:180: UserWarning: Lazy modules are a new feature under heavy development so changes to the API or functionality can happen at any moment.\n",
      "  warnings.warn('Lazy modules are a new feature under heavy development '\n"
     ]
    },
    {
     "data": {
      "application/vnd.jupyter.widget-view+json": {
       "model_id": "",
       "version_major": 2,
       "version_minor": 0
      },
      "text/plain": [
       "Test sample:   0%|          | 0/334 [00:00<?, ?it/s]"
      ]
     },
     "metadata": {},
     "output_type": "display_data"
    },
    {
     "data": {
      "application/vnd.jupyter.widget-view+json": {
       "model_id": "",
       "version_major": 2,
       "version_minor": 0
      },
      "text/plain": [
       "Test sample:   0%|          | 0/334 [00:00<?, ?it/s]"
      ]
     },
     "metadata": {},
     "output_type": "display_data"
    },
    {
     "data": {
      "application/vnd.jupyter.widget-view+json": {
       "model_id": "",
       "version_major": 2,
       "version_minor": 0
      },
      "text/plain": [
       "Test sample:   0%|          | 0/334 [00:00<?, ?it/s]"
      ]
     },
     "metadata": {},
     "output_type": "display_data"
    },
    {
     "data": {
      "application/vnd.jupyter.widget-view+json": {
       "model_id": "",
       "version_major": 2,
       "version_minor": 0
      },
      "text/plain": [
       "Test sample:   0%|          | 0/334 [00:00<?, ?it/s]"
      ]
     },
     "metadata": {},
     "output_type": "display_data"
    },
    {
     "data": {
      "application/vnd.jupyter.widget-view+json": {
       "model_id": "",
       "version_major": 2,
       "version_minor": 0
      },
      "text/plain": [
       "Test sample:   0%|          | 0/334 [00:00<?, ?it/s]"
      ]
     },
     "metadata": {},
     "output_type": "display_data"
    },
    {
     "data": {
      "application/vnd.jupyter.widget-view+json": {
       "model_id": "",
       "version_major": 2,
       "version_minor": 0
      },
      "text/plain": [
       "Test sample:   0%|          | 0/334 [00:00<?, ?it/s]"
      ]
     },
     "metadata": {},
     "output_type": "display_data"
    },
    {
     "data": {
      "application/vnd.jupyter.widget-view+json": {
       "model_id": "",
       "version_major": 2,
       "version_minor": 0
      },
      "text/plain": [
       "Test sample:   0%|          | 0/334 [00:00<?, ?it/s]"
      ]
     },
     "metadata": {},
     "output_type": "display_data"
    },
    {
     "data": {
      "application/vnd.jupyter.widget-view+json": {
       "model_id": "",
       "version_major": 2,
       "version_minor": 0
      },
      "text/plain": [
       "Test sample:   0%|          | 0/334 [00:00<?, ?it/s]"
      ]
     },
     "metadata": {},
     "output_type": "display_data"
    },
    {
     "data": {
      "application/vnd.jupyter.widget-view+json": {
       "model_id": "",
       "version_major": 2,
       "version_minor": 0
      },
      "text/plain": [
       "Test sample:   0%|          | 0/334 [00:00<?, ?it/s]"
      ]
     },
     "metadata": {},
     "output_type": "display_data"
    },
    {
     "data": {
      "application/vnd.jupyter.widget-view+json": {
       "model_id": "",
       "version_major": 2,
       "version_minor": 0
      },
      "text/plain": [
       "Test sample:   0%|          | 0/334 [00:00<?, ?it/s]"
      ]
     },
     "metadata": {},
     "output_type": "display_data"
    },
    {
     "data": {
      "application/vnd.jupyter.widget-view+json": {
       "model_id": "",
       "version_major": 2,
       "version_minor": 0
      },
      "text/plain": [
       "Test sample:   0%|          | 0/334 [00:00<?, ?it/s]"
      ]
     },
     "metadata": {},
     "output_type": "display_data"
    },
    {
     "data": {
      "application/vnd.jupyter.widget-view+json": {
       "model_id": "",
       "version_major": 2,
       "version_minor": 0
      },
      "text/plain": [
       "Test sample:   0%|          | 0/334 [00:00<?, ?it/s]"
      ]
     },
     "metadata": {},
     "output_type": "display_data"
    },
    {
     "data": {
      "application/vnd.jupyter.widget-view+json": {
       "model_id": "",
       "version_major": 2,
       "version_minor": 0
      },
      "text/plain": [
       "Test sample:   0%|          | 0/334 [00:00<?, ?it/s]"
      ]
     },
     "metadata": {},
     "output_type": "display_data"
    },
    {
     "name": "stdout",
     "output_type": "stream",
     "text": [
      "Loading model ../models/AABondiNets/12x12_block_nets/net-AABondiNet_lr-0.001_batch_size-32_split_train_test-0.75_split_train_val-0.75_split_seed-42_in_channels-1_init_period-10_jpeg_bs-12_fl_stride-2_grayscale-True_random_crop-False_aa_pool_only-False/bestval.pth...\n",
      "<All keys matched successfully>\n",
      "Model loaded!\n"
     ]
    },
    {
     "name": "stderr",
     "output_type": "stream",
     "text": [
      "/nas/home/ecannas/miniconda3/envs/jpeg_expl/lib/python3.9/site-packages/torch/nn/modules/lazy.py:180: UserWarning: Lazy modules are a new feature under heavy development so changes to the API or functionality can happen at any moment.\n",
      "  warnings.warn('Lazy modules are a new feature under heavy development '\n"
     ]
    },
    {
     "data": {
      "application/vnd.jupyter.widget-view+json": {
       "model_id": "",
       "version_major": 2,
       "version_minor": 0
      },
      "text/plain": [
       "Test sample:   0%|          | 0/334 [00:00<?, ?it/s]"
      ]
     },
     "metadata": {},
     "output_type": "display_data"
    },
    {
     "data": {
      "application/vnd.jupyter.widget-view+json": {
       "model_id": "",
       "version_major": 2,
       "version_minor": 0
      },
      "text/plain": [
       "Test sample:   0%|          | 0/334 [00:00<?, ?it/s]"
      ]
     },
     "metadata": {},
     "output_type": "display_data"
    },
    {
     "data": {
      "application/vnd.jupyter.widget-view+json": {
       "model_id": "",
       "version_major": 2,
       "version_minor": 0
      },
      "text/plain": [
       "Test sample:   0%|          | 0/334 [00:00<?, ?it/s]"
      ]
     },
     "metadata": {},
     "output_type": "display_data"
    },
    {
     "data": {
      "application/vnd.jupyter.widget-view+json": {
       "model_id": "",
       "version_major": 2,
       "version_minor": 0
      },
      "text/plain": [
       "Test sample:   0%|          | 0/334 [00:00<?, ?it/s]"
      ]
     },
     "metadata": {},
     "output_type": "display_data"
    },
    {
     "data": {
      "application/vnd.jupyter.widget-view+json": {
       "model_id": "",
       "version_major": 2,
       "version_minor": 0
      },
      "text/plain": [
       "Test sample:   0%|          | 0/334 [00:00<?, ?it/s]"
      ]
     },
     "metadata": {},
     "output_type": "display_data"
    },
    {
     "data": {
      "application/vnd.jupyter.widget-view+json": {
       "model_id": "",
       "version_major": 2,
       "version_minor": 0
      },
      "text/plain": [
       "Test sample:   0%|          | 0/334 [00:00<?, ?it/s]"
      ]
     },
     "metadata": {},
     "output_type": "display_data"
    },
    {
     "data": {
      "application/vnd.jupyter.widget-view+json": {
       "model_id": "",
       "version_major": 2,
       "version_minor": 0
      },
      "text/plain": [
       "Test sample:   0%|          | 0/334 [00:00<?, ?it/s]"
      ]
     },
     "metadata": {},
     "output_type": "display_data"
    },
    {
     "data": {
      "application/vnd.jupyter.widget-view+json": {
       "model_id": "",
       "version_major": 2,
       "version_minor": 0
      },
      "text/plain": [
       "Test sample:   0%|          | 0/334 [00:00<?, ?it/s]"
      ]
     },
     "metadata": {},
     "output_type": "display_data"
    },
    {
     "data": {
      "application/vnd.jupyter.widget-view+json": {
       "model_id": "",
       "version_major": 2,
       "version_minor": 0
      },
      "text/plain": [
       "Test sample:   0%|          | 0/334 [00:00<?, ?it/s]"
      ]
     },
     "metadata": {},
     "output_type": "display_data"
    },
    {
     "data": {
      "application/vnd.jupyter.widget-view+json": {
       "model_id": "",
       "version_major": 2,
       "version_minor": 0
      },
      "text/plain": [
       "Test sample:   0%|          | 0/334 [00:00<?, ?it/s]"
      ]
     },
     "metadata": {},
     "output_type": "display_data"
    },
    {
     "data": {
      "application/vnd.jupyter.widget-view+json": {
       "model_id": "",
       "version_major": 2,
       "version_minor": 0
      },
      "text/plain": [
       "Test sample:   0%|          | 0/334 [00:00<?, ?it/s]"
      ]
     },
     "metadata": {},
     "output_type": "display_data"
    },
    {
     "data": {
      "application/vnd.jupyter.widget-view+json": {
       "model_id": "",
       "version_major": 2,
       "version_minor": 0
      },
      "text/plain": [
       "Test sample:   0%|          | 0/334 [00:00<?, ?it/s]"
      ]
     },
     "metadata": {},
     "output_type": "display_data"
    },
    {
     "data": {
      "application/vnd.jupyter.widget-view+json": {
       "model_id": "",
       "version_major": 2,
       "version_minor": 0
      },
      "text/plain": [
       "Test sample:   0%|          | 0/334 [00:00<?, ?it/s]"
      ]
     },
     "metadata": {},
     "output_type": "display_data"
    },
    {
     "name": "stdout",
     "output_type": "stream",
     "text": [
      "Loading model ../models/AABondiNets_pool_only/12x12_block_nets/net-AABondiNet_lr-0.001_batch_size-32_split_train_test-0.75_split_train_val-0.75_split_seed-42_in_channels-1_init_period-10_jpeg_bs-12_fl_stride-2_grayscale-True_random_crop-False_aa_pool_only-True/bestval.pth...\n",
      "<All keys matched successfully>\n",
      "Model loaded!\n"
     ]
    },
    {
     "name": "stderr",
     "output_type": "stream",
     "text": [
      "/nas/home/ecannas/miniconda3/envs/jpeg_expl/lib/python3.9/site-packages/torch/nn/modules/lazy.py:180: UserWarning: Lazy modules are a new feature under heavy development so changes to the API or functionality can happen at any moment.\n",
      "  warnings.warn('Lazy modules are a new feature under heavy development '\n"
     ]
    },
    {
     "data": {
      "application/vnd.jupyter.widget-view+json": {
       "model_id": "",
       "version_major": 2,
       "version_minor": 0
      },
      "text/plain": [
       "Test sample:   0%|          | 0/334 [00:00<?, ?it/s]"
      ]
     },
     "metadata": {},
     "output_type": "display_data"
    },
    {
     "data": {
      "application/vnd.jupyter.widget-view+json": {
       "model_id": "",
       "version_major": 2,
       "version_minor": 0
      },
      "text/plain": [
       "Test sample:   0%|          | 0/334 [00:00<?, ?it/s]"
      ]
     },
     "metadata": {},
     "output_type": "display_data"
    },
    {
     "data": {
      "application/vnd.jupyter.widget-view+json": {
       "model_id": "",
       "version_major": 2,
       "version_minor": 0
      },
      "text/plain": [
       "Test sample:   0%|          | 0/334 [00:00<?, ?it/s]"
      ]
     },
     "metadata": {},
     "output_type": "display_data"
    },
    {
     "data": {
      "application/vnd.jupyter.widget-view+json": {
       "model_id": "",
       "version_major": 2,
       "version_minor": 0
      },
      "text/plain": [
       "Test sample:   0%|          | 0/334 [00:00<?, ?it/s]"
      ]
     },
     "metadata": {},
     "output_type": "display_data"
    },
    {
     "data": {
      "application/vnd.jupyter.widget-view+json": {
       "model_id": "",
       "version_major": 2,
       "version_minor": 0
      },
      "text/plain": [
       "Test sample:   0%|          | 0/334 [00:00<?, ?it/s]"
      ]
     },
     "metadata": {},
     "output_type": "display_data"
    },
    {
     "data": {
      "application/vnd.jupyter.widget-view+json": {
       "model_id": "",
       "version_major": 2,
       "version_minor": 0
      },
      "text/plain": [
       "Test sample:   0%|          | 0/334 [00:00<?, ?it/s]"
      ]
     },
     "metadata": {},
     "output_type": "display_data"
    },
    {
     "data": {
      "application/vnd.jupyter.widget-view+json": {
       "model_id": "",
       "version_major": 2,
       "version_minor": 0
      },
      "text/plain": [
       "Test sample:   0%|          | 0/334 [00:00<?, ?it/s]"
      ]
     },
     "metadata": {},
     "output_type": "display_data"
    },
    {
     "data": {
      "application/vnd.jupyter.widget-view+json": {
       "model_id": "",
       "version_major": 2,
       "version_minor": 0
      },
      "text/plain": [
       "Test sample:   0%|          | 0/334 [00:00<?, ?it/s]"
      ]
     },
     "metadata": {},
     "output_type": "display_data"
    },
    {
     "data": {
      "application/vnd.jupyter.widget-view+json": {
       "model_id": "",
       "version_major": 2,
       "version_minor": 0
      },
      "text/plain": [
       "Test sample:   0%|          | 0/334 [00:00<?, ?it/s]"
      ]
     },
     "metadata": {},
     "output_type": "display_data"
    },
    {
     "data": {
      "application/vnd.jupyter.widget-view+json": {
       "model_id": "",
       "version_major": 2,
       "version_minor": 0
      },
      "text/plain": [
       "Test sample:   0%|          | 0/334 [00:00<?, ?it/s]"
      ]
     },
     "metadata": {},
     "output_type": "display_data"
    },
    {
     "data": {
      "application/vnd.jupyter.widget-view+json": {
       "model_id": "",
       "version_major": 2,
       "version_minor": 0
      },
      "text/plain": [
       "Test sample:   0%|          | 0/334 [00:00<?, ?it/s]"
      ]
     },
     "metadata": {},
     "output_type": "display_data"
    },
    {
     "data": {
      "application/vnd.jupyter.widget-view+json": {
       "model_id": "",
       "version_major": 2,
       "version_minor": 0
      },
      "text/plain": [
       "Test sample:   0%|          | 0/334 [00:00<?, ?it/s]"
      ]
     },
     "metadata": {},
     "output_type": "display_data"
    },
    {
     "data": {
      "application/vnd.jupyter.widget-view+json": {
       "model_id": "",
       "version_major": 2,
       "version_minor": 0
      },
      "text/plain": [
       "Test sample:   0%|          | 0/334 [00:00<?, ?it/s]"
      ]
     },
     "metadata": {},
     "output_type": "display_data"
    },
    {
     "name": "stdout",
     "output_type": "stream",
     "text": [
      "Loading model ../models/BondiNets_random_crop/12x12_block_nets/net-BondiNet_lr-0.001_batch_size-32_split_train_test-0.75_split_train_val-0.75_split_seed-42_in_channels-1_init_period-10_jpeg_bs-12_fl_stride-2_grayscale-True_random_crop-True/bestval.pth...\n",
      "<All keys matched successfully>\n",
      "Model loaded!\n"
     ]
    },
    {
     "name": "stderr",
     "output_type": "stream",
     "text": [
      "/nas/home/ecannas/miniconda3/envs/jpeg_expl/lib/python3.9/site-packages/torch/nn/modules/lazy.py:180: UserWarning: Lazy modules are a new feature under heavy development so changes to the API or functionality can happen at any moment.\n",
      "  warnings.warn('Lazy modules are a new feature under heavy development '\n"
     ]
    },
    {
     "data": {
      "application/vnd.jupyter.widget-view+json": {
       "model_id": "",
       "version_major": 2,
       "version_minor": 0
      },
      "text/plain": [
       "Test sample:   0%|          | 0/334 [00:00<?, ?it/s]"
      ]
     },
     "metadata": {},
     "output_type": "display_data"
    },
    {
     "data": {
      "application/vnd.jupyter.widget-view+json": {
       "model_id": "",
       "version_major": 2,
       "version_minor": 0
      },
      "text/plain": [
       "Test sample:   0%|          | 0/334 [00:00<?, ?it/s]"
      ]
     },
     "metadata": {},
     "output_type": "display_data"
    },
    {
     "data": {
      "application/vnd.jupyter.widget-view+json": {
       "model_id": "",
       "version_major": 2,
       "version_minor": 0
      },
      "text/plain": [
       "Test sample:   0%|          | 0/334 [00:00<?, ?it/s]"
      ]
     },
     "metadata": {},
     "output_type": "display_data"
    },
    {
     "data": {
      "application/vnd.jupyter.widget-view+json": {
       "model_id": "",
       "version_major": 2,
       "version_minor": 0
      },
      "text/plain": [
       "Test sample:   0%|          | 0/334 [00:00<?, ?it/s]"
      ]
     },
     "metadata": {},
     "output_type": "display_data"
    },
    {
     "data": {
      "application/vnd.jupyter.widget-view+json": {
       "model_id": "",
       "version_major": 2,
       "version_minor": 0
      },
      "text/plain": [
       "Test sample:   0%|          | 0/334 [00:00<?, ?it/s]"
      ]
     },
     "metadata": {},
     "output_type": "display_data"
    },
    {
     "data": {
      "application/vnd.jupyter.widget-view+json": {
       "model_id": "",
       "version_major": 2,
       "version_minor": 0
      },
      "text/plain": [
       "Test sample:   0%|          | 0/334 [00:00<?, ?it/s]"
      ]
     },
     "metadata": {},
     "output_type": "display_data"
    },
    {
     "data": {
      "application/vnd.jupyter.widget-view+json": {
       "model_id": "",
       "version_major": 2,
       "version_minor": 0
      },
      "text/plain": [
       "Test sample:   0%|          | 0/334 [00:00<?, ?it/s]"
      ]
     },
     "metadata": {},
     "output_type": "display_data"
    },
    {
     "data": {
      "application/vnd.jupyter.widget-view+json": {
       "model_id": "",
       "version_major": 2,
       "version_minor": 0
      },
      "text/plain": [
       "Test sample:   0%|          | 0/334 [00:00<?, ?it/s]"
      ]
     },
     "metadata": {},
     "output_type": "display_data"
    },
    {
     "data": {
      "application/vnd.jupyter.widget-view+json": {
       "model_id": "",
       "version_major": 2,
       "version_minor": 0
      },
      "text/plain": [
       "Test sample:   0%|          | 0/334 [00:00<?, ?it/s]"
      ]
     },
     "metadata": {},
     "output_type": "display_data"
    },
    {
     "data": {
      "application/vnd.jupyter.widget-view+json": {
       "model_id": "",
       "version_major": 2,
       "version_minor": 0
      },
      "text/plain": [
       "Test sample:   0%|          | 0/334 [00:00<?, ?it/s]"
      ]
     },
     "metadata": {},
     "output_type": "display_data"
    },
    {
     "data": {
      "application/vnd.jupyter.widget-view+json": {
       "model_id": "",
       "version_major": 2,
       "version_minor": 0
      },
      "text/plain": [
       "Test sample:   0%|          | 0/334 [00:00<?, ?it/s]"
      ]
     },
     "metadata": {},
     "output_type": "display_data"
    },
    {
     "data": {
      "application/vnd.jupyter.widget-view+json": {
       "model_id": "",
       "version_major": 2,
       "version_minor": 0
      },
      "text/plain": [
       "Test sample:   0%|          | 0/334 [00:00<?, ?it/s]"
      ]
     },
     "metadata": {},
     "output_type": "display_data"
    },
    {
     "data": {
      "application/vnd.jupyter.widget-view+json": {
       "model_id": "",
       "version_major": 2,
       "version_minor": 0
      },
      "text/plain": [
       "Test sample:   0%|          | 0/334 [00:00<?, ?it/s]"
      ]
     },
     "metadata": {},
     "output_type": "display_data"
    },
    {
     "name": "stdout",
     "output_type": "stream",
     "text": [
      "Doing networks with stride 3 in the first layer...\n",
      "Loading model ../models/BondiNets/12x12_block_nets/net-BondiNet_lr-0.001_batch_size-32_split_train_test-0.75_split_train_val-0.75_split_seed-42_in_channels-1_init_period-10_jpeg_bs-12_fl_stride-3_grayscale-True_random_crop-False/bestval.pth...\n",
      "<All keys matched successfully>\n",
      "Model loaded!\n"
     ]
    },
    {
     "name": "stderr",
     "output_type": "stream",
     "text": [
      "/nas/home/ecannas/miniconda3/envs/jpeg_expl/lib/python3.9/site-packages/torch/nn/modules/lazy.py:180: UserWarning: Lazy modules are a new feature under heavy development so changes to the API or functionality can happen at any moment.\n",
      "  warnings.warn('Lazy modules are a new feature under heavy development '\n"
     ]
    },
    {
     "data": {
      "application/vnd.jupyter.widget-view+json": {
       "model_id": "",
       "version_major": 2,
       "version_minor": 0
      },
      "text/plain": [
       "Test sample:   0%|          | 0/334 [00:00<?, ?it/s]"
      ]
     },
     "metadata": {},
     "output_type": "display_data"
    },
    {
     "data": {
      "application/vnd.jupyter.widget-view+json": {
       "model_id": "",
       "version_major": 2,
       "version_minor": 0
      },
      "text/plain": [
       "Test sample:   0%|          | 0/334 [00:00<?, ?it/s]"
      ]
     },
     "metadata": {},
     "output_type": "display_data"
    },
    {
     "data": {
      "application/vnd.jupyter.widget-view+json": {
       "model_id": "",
       "version_major": 2,
       "version_minor": 0
      },
      "text/plain": [
       "Test sample:   0%|          | 0/334 [00:00<?, ?it/s]"
      ]
     },
     "metadata": {},
     "output_type": "display_data"
    },
    {
     "data": {
      "application/vnd.jupyter.widget-view+json": {
       "model_id": "",
       "version_major": 2,
       "version_minor": 0
      },
      "text/plain": [
       "Test sample:   0%|          | 0/334 [00:00<?, ?it/s]"
      ]
     },
     "metadata": {},
     "output_type": "display_data"
    },
    {
     "data": {
      "application/vnd.jupyter.widget-view+json": {
       "model_id": "",
       "version_major": 2,
       "version_minor": 0
      },
      "text/plain": [
       "Test sample:   0%|          | 0/334 [00:00<?, ?it/s]"
      ]
     },
     "metadata": {},
     "output_type": "display_data"
    },
    {
     "data": {
      "application/vnd.jupyter.widget-view+json": {
       "model_id": "",
       "version_major": 2,
       "version_minor": 0
      },
      "text/plain": [
       "Test sample:   0%|          | 0/334 [00:00<?, ?it/s]"
      ]
     },
     "metadata": {},
     "output_type": "display_data"
    },
    {
     "data": {
      "application/vnd.jupyter.widget-view+json": {
       "model_id": "",
       "version_major": 2,
       "version_minor": 0
      },
      "text/plain": [
       "Test sample:   0%|          | 0/334 [00:00<?, ?it/s]"
      ]
     },
     "metadata": {},
     "output_type": "display_data"
    },
    {
     "data": {
      "application/vnd.jupyter.widget-view+json": {
       "model_id": "",
       "version_major": 2,
       "version_minor": 0
      },
      "text/plain": [
       "Test sample:   0%|          | 0/334 [00:00<?, ?it/s]"
      ]
     },
     "metadata": {},
     "output_type": "display_data"
    },
    {
     "data": {
      "application/vnd.jupyter.widget-view+json": {
       "model_id": "",
       "version_major": 2,
       "version_minor": 0
      },
      "text/plain": [
       "Test sample:   0%|          | 0/334 [00:00<?, ?it/s]"
      ]
     },
     "metadata": {},
     "output_type": "display_data"
    },
    {
     "data": {
      "application/vnd.jupyter.widget-view+json": {
       "model_id": "",
       "version_major": 2,
       "version_minor": 0
      },
      "text/plain": [
       "Test sample:   0%|          | 0/334 [00:00<?, ?it/s]"
      ]
     },
     "metadata": {},
     "output_type": "display_data"
    },
    {
     "data": {
      "application/vnd.jupyter.widget-view+json": {
       "model_id": "",
       "version_major": 2,
       "version_minor": 0
      },
      "text/plain": [
       "Test sample:   0%|          | 0/334 [00:00<?, ?it/s]"
      ]
     },
     "metadata": {},
     "output_type": "display_data"
    },
    {
     "data": {
      "application/vnd.jupyter.widget-view+json": {
       "model_id": "",
       "version_major": 2,
       "version_minor": 0
      },
      "text/plain": [
       "Test sample:   0%|          | 0/334 [00:00<?, ?it/s]"
      ]
     },
     "metadata": {},
     "output_type": "display_data"
    },
    {
     "data": {
      "application/vnd.jupyter.widget-view+json": {
       "model_id": "",
       "version_major": 2,
       "version_minor": 0
      },
      "text/plain": [
       "Test sample:   0%|          | 0/334 [00:00<?, ?it/s]"
      ]
     },
     "metadata": {},
     "output_type": "display_data"
    },
    {
     "name": "stdout",
     "output_type": "stream",
     "text": [
      "Loading model ../models/AABondiNets/12x12_block_nets/net-AABondiNet_lr-0.001_batch_size-32_split_train_test-0.75_split_train_val-0.75_split_seed-42_in_channels-1_init_period-10_jpeg_bs-12_fl_stride-3_grayscale-True_random_crop-False_aa_pool_only-False/bestval.pth...\n",
      "<All keys matched successfully>\n",
      "Model loaded!\n"
     ]
    },
    {
     "name": "stderr",
     "output_type": "stream",
     "text": [
      "/nas/home/ecannas/miniconda3/envs/jpeg_expl/lib/python3.9/site-packages/torch/nn/modules/lazy.py:180: UserWarning: Lazy modules are a new feature under heavy development so changes to the API or functionality can happen at any moment.\n",
      "  warnings.warn('Lazy modules are a new feature under heavy development '\n"
     ]
    },
    {
     "data": {
      "application/vnd.jupyter.widget-view+json": {
       "model_id": "",
       "version_major": 2,
       "version_minor": 0
      },
      "text/plain": [
       "Test sample:   0%|          | 0/334 [00:00<?, ?it/s]"
      ]
     },
     "metadata": {},
     "output_type": "display_data"
    },
    {
     "data": {
      "application/vnd.jupyter.widget-view+json": {
       "model_id": "",
       "version_major": 2,
       "version_minor": 0
      },
      "text/plain": [
       "Test sample:   0%|          | 0/334 [00:00<?, ?it/s]"
      ]
     },
     "metadata": {},
     "output_type": "display_data"
    },
    {
     "data": {
      "application/vnd.jupyter.widget-view+json": {
       "model_id": "",
       "version_major": 2,
       "version_minor": 0
      },
      "text/plain": [
       "Test sample:   0%|          | 0/334 [00:00<?, ?it/s]"
      ]
     },
     "metadata": {},
     "output_type": "display_data"
    },
    {
     "data": {
      "application/vnd.jupyter.widget-view+json": {
       "model_id": "",
       "version_major": 2,
       "version_minor": 0
      },
      "text/plain": [
       "Test sample:   0%|          | 0/334 [00:00<?, ?it/s]"
      ]
     },
     "metadata": {},
     "output_type": "display_data"
    },
    {
     "data": {
      "application/vnd.jupyter.widget-view+json": {
       "model_id": "",
       "version_major": 2,
       "version_minor": 0
      },
      "text/plain": [
       "Test sample:   0%|          | 0/334 [00:00<?, ?it/s]"
      ]
     },
     "metadata": {},
     "output_type": "display_data"
    },
    {
     "data": {
      "application/vnd.jupyter.widget-view+json": {
       "model_id": "",
       "version_major": 2,
       "version_minor": 0
      },
      "text/plain": [
       "Test sample:   0%|          | 0/334 [00:00<?, ?it/s]"
      ]
     },
     "metadata": {},
     "output_type": "display_data"
    },
    {
     "data": {
      "application/vnd.jupyter.widget-view+json": {
       "model_id": "",
       "version_major": 2,
       "version_minor": 0
      },
      "text/plain": [
       "Test sample:   0%|          | 0/334 [00:00<?, ?it/s]"
      ]
     },
     "metadata": {},
     "output_type": "display_data"
    },
    {
     "data": {
      "application/vnd.jupyter.widget-view+json": {
       "model_id": "",
       "version_major": 2,
       "version_minor": 0
      },
      "text/plain": [
       "Test sample:   0%|          | 0/334 [00:00<?, ?it/s]"
      ]
     },
     "metadata": {},
     "output_type": "display_data"
    },
    {
     "data": {
      "application/vnd.jupyter.widget-view+json": {
       "model_id": "",
       "version_major": 2,
       "version_minor": 0
      },
      "text/plain": [
       "Test sample:   0%|          | 0/334 [00:00<?, ?it/s]"
      ]
     },
     "metadata": {},
     "output_type": "display_data"
    },
    {
     "data": {
      "application/vnd.jupyter.widget-view+json": {
       "model_id": "",
       "version_major": 2,
       "version_minor": 0
      },
      "text/plain": [
       "Test sample:   0%|          | 0/334 [00:00<?, ?it/s]"
      ]
     },
     "metadata": {},
     "output_type": "display_data"
    },
    {
     "data": {
      "application/vnd.jupyter.widget-view+json": {
       "model_id": "",
       "version_major": 2,
       "version_minor": 0
      },
      "text/plain": [
       "Test sample:   0%|          | 0/334 [00:00<?, ?it/s]"
      ]
     },
     "metadata": {},
     "output_type": "display_data"
    },
    {
     "data": {
      "application/vnd.jupyter.widget-view+json": {
       "model_id": "",
       "version_major": 2,
       "version_minor": 0
      },
      "text/plain": [
       "Test sample:   0%|          | 0/334 [00:00<?, ?it/s]"
      ]
     },
     "metadata": {},
     "output_type": "display_data"
    },
    {
     "data": {
      "application/vnd.jupyter.widget-view+json": {
       "model_id": "",
       "version_major": 2,
       "version_minor": 0
      },
      "text/plain": [
       "Test sample:   0%|          | 0/334 [00:00<?, ?it/s]"
      ]
     },
     "metadata": {},
     "output_type": "display_data"
    },
    {
     "name": "stdout",
     "output_type": "stream",
     "text": [
      "Loading model ../models/AABondiNets_pool_only/12x12_block_nets/net-AABondiNet_lr-0.001_batch_size-32_split_train_test-0.75_split_train_val-0.75_split_seed-42_in_channels-1_init_period-10_jpeg_bs-12_fl_stride-3_grayscale-True_random_crop-False_aa_pool_only-True/bestval.pth...\n",
      "<All keys matched successfully>\n",
      "Model loaded!\n"
     ]
    },
    {
     "name": "stderr",
     "output_type": "stream",
     "text": [
      "/nas/home/ecannas/miniconda3/envs/jpeg_expl/lib/python3.9/site-packages/torch/nn/modules/lazy.py:180: UserWarning: Lazy modules are a new feature under heavy development so changes to the API or functionality can happen at any moment.\n",
      "  warnings.warn('Lazy modules are a new feature under heavy development '\n"
     ]
    },
    {
     "data": {
      "application/vnd.jupyter.widget-view+json": {
       "model_id": "",
       "version_major": 2,
       "version_minor": 0
      },
      "text/plain": [
       "Test sample:   0%|          | 0/334 [00:00<?, ?it/s]"
      ]
     },
     "metadata": {},
     "output_type": "display_data"
    },
    {
     "data": {
      "application/vnd.jupyter.widget-view+json": {
       "model_id": "",
       "version_major": 2,
       "version_minor": 0
      },
      "text/plain": [
       "Test sample:   0%|          | 0/334 [00:00<?, ?it/s]"
      ]
     },
     "metadata": {},
     "output_type": "display_data"
    },
    {
     "data": {
      "application/vnd.jupyter.widget-view+json": {
       "model_id": "",
       "version_major": 2,
       "version_minor": 0
      },
      "text/plain": [
       "Test sample:   0%|          | 0/334 [00:00<?, ?it/s]"
      ]
     },
     "metadata": {},
     "output_type": "display_data"
    },
    {
     "data": {
      "application/vnd.jupyter.widget-view+json": {
       "model_id": "",
       "version_major": 2,
       "version_minor": 0
      },
      "text/plain": [
       "Test sample:   0%|          | 0/334 [00:00<?, ?it/s]"
      ]
     },
     "metadata": {},
     "output_type": "display_data"
    },
    {
     "data": {
      "application/vnd.jupyter.widget-view+json": {
       "model_id": "",
       "version_major": 2,
       "version_minor": 0
      },
      "text/plain": [
       "Test sample:   0%|          | 0/334 [00:00<?, ?it/s]"
      ]
     },
     "metadata": {},
     "output_type": "display_data"
    },
    {
     "data": {
      "application/vnd.jupyter.widget-view+json": {
       "model_id": "",
       "version_major": 2,
       "version_minor": 0
      },
      "text/plain": [
       "Test sample:   0%|          | 0/334 [00:00<?, ?it/s]"
      ]
     },
     "metadata": {},
     "output_type": "display_data"
    },
    {
     "data": {
      "application/vnd.jupyter.widget-view+json": {
       "model_id": "",
       "version_major": 2,
       "version_minor": 0
      },
      "text/plain": [
       "Test sample:   0%|          | 0/334 [00:00<?, ?it/s]"
      ]
     },
     "metadata": {},
     "output_type": "display_data"
    },
    {
     "data": {
      "application/vnd.jupyter.widget-view+json": {
       "model_id": "",
       "version_major": 2,
       "version_minor": 0
      },
      "text/plain": [
       "Test sample:   0%|          | 0/334 [00:00<?, ?it/s]"
      ]
     },
     "metadata": {},
     "output_type": "display_data"
    },
    {
     "data": {
      "application/vnd.jupyter.widget-view+json": {
       "model_id": "",
       "version_major": 2,
       "version_minor": 0
      },
      "text/plain": [
       "Test sample:   0%|          | 0/334 [00:00<?, ?it/s]"
      ]
     },
     "metadata": {},
     "output_type": "display_data"
    },
    {
     "data": {
      "application/vnd.jupyter.widget-view+json": {
       "model_id": "",
       "version_major": 2,
       "version_minor": 0
      },
      "text/plain": [
       "Test sample:   0%|          | 0/334 [00:00<?, ?it/s]"
      ]
     },
     "metadata": {},
     "output_type": "display_data"
    },
    {
     "data": {
      "application/vnd.jupyter.widget-view+json": {
       "model_id": "",
       "version_major": 2,
       "version_minor": 0
      },
      "text/plain": [
       "Test sample:   0%|          | 0/334 [00:00<?, ?it/s]"
      ]
     },
     "metadata": {},
     "output_type": "display_data"
    },
    {
     "data": {
      "application/vnd.jupyter.widget-view+json": {
       "model_id": "",
       "version_major": 2,
       "version_minor": 0
      },
      "text/plain": [
       "Test sample:   0%|          | 0/334 [00:00<?, ?it/s]"
      ]
     },
     "metadata": {},
     "output_type": "display_data"
    },
    {
     "data": {
      "application/vnd.jupyter.widget-view+json": {
       "model_id": "",
       "version_major": 2,
       "version_minor": 0
      },
      "text/plain": [
       "Test sample:   0%|          | 0/334 [00:00<?, ?it/s]"
      ]
     },
     "metadata": {},
     "output_type": "display_data"
    },
    {
     "name": "stdout",
     "output_type": "stream",
     "text": [
      "Loading model ../models/BondiNets_random_crop/12x12_block_nets/net-BondiNet_lr-0.001_batch_size-32_split_train_test-0.75_split_train_val-0.75_split_seed-42_in_channels-1_init_period-10_jpeg_bs-12_fl_stride-3_grayscale-True_random_crop-True/bestval.pth...\n",
      "<All keys matched successfully>\n",
      "Model loaded!\n"
     ]
    },
    {
     "name": "stderr",
     "output_type": "stream",
     "text": [
      "/nas/home/ecannas/miniconda3/envs/jpeg_expl/lib/python3.9/site-packages/torch/nn/modules/lazy.py:180: UserWarning: Lazy modules are a new feature under heavy development so changes to the API or functionality can happen at any moment.\n",
      "  warnings.warn('Lazy modules are a new feature under heavy development '\n"
     ]
    },
    {
     "data": {
      "application/vnd.jupyter.widget-view+json": {
       "model_id": "",
       "version_major": 2,
       "version_minor": 0
      },
      "text/plain": [
       "Test sample:   0%|          | 0/334 [00:00<?, ?it/s]"
      ]
     },
     "metadata": {},
     "output_type": "display_data"
    },
    {
     "data": {
      "application/vnd.jupyter.widget-view+json": {
       "model_id": "",
       "version_major": 2,
       "version_minor": 0
      },
      "text/plain": [
       "Test sample:   0%|          | 0/334 [00:00<?, ?it/s]"
      ]
     },
     "metadata": {},
     "output_type": "display_data"
    },
    {
     "data": {
      "application/vnd.jupyter.widget-view+json": {
       "model_id": "",
       "version_major": 2,
       "version_minor": 0
      },
      "text/plain": [
       "Test sample:   0%|          | 0/334 [00:00<?, ?it/s]"
      ]
     },
     "metadata": {},
     "output_type": "display_data"
    },
    {
     "data": {
      "application/vnd.jupyter.widget-view+json": {
       "model_id": "",
       "version_major": 2,
       "version_minor": 0
      },
      "text/plain": [
       "Test sample:   0%|          | 0/334 [00:00<?, ?it/s]"
      ]
     },
     "metadata": {},
     "output_type": "display_data"
    },
    {
     "data": {
      "application/vnd.jupyter.widget-view+json": {
       "model_id": "",
       "version_major": 2,
       "version_minor": 0
      },
      "text/plain": [
       "Test sample:   0%|          | 0/334 [00:00<?, ?it/s]"
      ]
     },
     "metadata": {},
     "output_type": "display_data"
    },
    {
     "data": {
      "application/vnd.jupyter.widget-view+json": {
       "model_id": "",
       "version_major": 2,
       "version_minor": 0
      },
      "text/plain": [
       "Test sample:   0%|          | 0/334 [00:00<?, ?it/s]"
      ]
     },
     "metadata": {},
     "output_type": "display_data"
    },
    {
     "data": {
      "application/vnd.jupyter.widget-view+json": {
       "model_id": "",
       "version_major": 2,
       "version_minor": 0
      },
      "text/plain": [
       "Test sample:   0%|          | 0/334 [00:00<?, ?it/s]"
      ]
     },
     "metadata": {},
     "output_type": "display_data"
    },
    {
     "data": {
      "application/vnd.jupyter.widget-view+json": {
       "model_id": "",
       "version_major": 2,
       "version_minor": 0
      },
      "text/plain": [
       "Test sample:   0%|          | 0/334 [00:00<?, ?it/s]"
      ]
     },
     "metadata": {},
     "output_type": "display_data"
    },
    {
     "data": {
      "application/vnd.jupyter.widget-view+json": {
       "model_id": "",
       "version_major": 2,
       "version_minor": 0
      },
      "text/plain": [
       "Test sample:   0%|          | 0/334 [00:00<?, ?it/s]"
      ]
     },
     "metadata": {},
     "output_type": "display_data"
    },
    {
     "data": {
      "application/vnd.jupyter.widget-view+json": {
       "model_id": "",
       "version_major": 2,
       "version_minor": 0
      },
      "text/plain": [
       "Test sample:   0%|          | 0/334 [00:00<?, ?it/s]"
      ]
     },
     "metadata": {},
     "output_type": "display_data"
    },
    {
     "data": {
      "application/vnd.jupyter.widget-view+json": {
       "model_id": "",
       "version_major": 2,
       "version_minor": 0
      },
      "text/plain": [
       "Test sample:   0%|          | 0/334 [00:00<?, ?it/s]"
      ]
     },
     "metadata": {},
     "output_type": "display_data"
    },
    {
     "data": {
      "application/vnd.jupyter.widget-view+json": {
       "model_id": "",
       "version_major": 2,
       "version_minor": 0
      },
      "text/plain": [
       "Test sample:   0%|          | 0/334 [00:00<?, ?it/s]"
      ]
     },
     "metadata": {},
     "output_type": "display_data"
    },
    {
     "data": {
      "application/vnd.jupyter.widget-view+json": {
       "model_id": "",
       "version_major": 2,
       "version_minor": 0
      },
      "text/plain": [
       "Test sample:   0%|          | 0/334 [00:00<?, ?it/s]"
      ]
     },
     "metadata": {},
     "output_type": "display_data"
    },
    {
     "name": "stdout",
     "output_type": "stream",
     "text": [
      "Doing networks with stride 4 in the first layer...\n",
      "Loading model ../models/BondiNets/12x12_block_nets/net-BondiNet_lr-0.001_batch_size-32_split_train_test-0.75_split_train_val-0.75_split_seed-42_in_channels-1_init_period-10_jpeg_bs-12_fl_stride-4_grayscale-True_random_crop-False/bestval.pth...\n",
      "<All keys matched successfully>\n",
      "Model loaded!\n"
     ]
    },
    {
     "name": "stderr",
     "output_type": "stream",
     "text": [
      "/nas/home/ecannas/miniconda3/envs/jpeg_expl/lib/python3.9/site-packages/torch/nn/modules/lazy.py:180: UserWarning: Lazy modules are a new feature under heavy development so changes to the API or functionality can happen at any moment.\n",
      "  warnings.warn('Lazy modules are a new feature under heavy development '\n"
     ]
    },
    {
     "data": {
      "application/vnd.jupyter.widget-view+json": {
       "model_id": "",
       "version_major": 2,
       "version_minor": 0
      },
      "text/plain": [
       "Test sample:   0%|          | 0/334 [00:00<?, ?it/s]"
      ]
     },
     "metadata": {},
     "output_type": "display_data"
    },
    {
     "data": {
      "application/vnd.jupyter.widget-view+json": {
       "model_id": "",
       "version_major": 2,
       "version_minor": 0
      },
      "text/plain": [
       "Test sample:   0%|          | 0/334 [00:00<?, ?it/s]"
      ]
     },
     "metadata": {},
     "output_type": "display_data"
    },
    {
     "data": {
      "application/vnd.jupyter.widget-view+json": {
       "model_id": "",
       "version_major": 2,
       "version_minor": 0
      },
      "text/plain": [
       "Test sample:   0%|          | 0/334 [00:00<?, ?it/s]"
      ]
     },
     "metadata": {},
     "output_type": "display_data"
    },
    {
     "data": {
      "application/vnd.jupyter.widget-view+json": {
       "model_id": "",
       "version_major": 2,
       "version_minor": 0
      },
      "text/plain": [
       "Test sample:   0%|          | 0/334 [00:00<?, ?it/s]"
      ]
     },
     "metadata": {},
     "output_type": "display_data"
    },
    {
     "data": {
      "application/vnd.jupyter.widget-view+json": {
       "model_id": "",
       "version_major": 2,
       "version_minor": 0
      },
      "text/plain": [
       "Test sample:   0%|          | 0/334 [00:00<?, ?it/s]"
      ]
     },
     "metadata": {},
     "output_type": "display_data"
    },
    {
     "data": {
      "application/vnd.jupyter.widget-view+json": {
       "model_id": "",
       "version_major": 2,
       "version_minor": 0
      },
      "text/plain": [
       "Test sample:   0%|          | 0/334 [00:00<?, ?it/s]"
      ]
     },
     "metadata": {},
     "output_type": "display_data"
    },
    {
     "data": {
      "application/vnd.jupyter.widget-view+json": {
       "model_id": "",
       "version_major": 2,
       "version_minor": 0
      },
      "text/plain": [
       "Test sample:   0%|          | 0/334 [00:00<?, ?it/s]"
      ]
     },
     "metadata": {},
     "output_type": "display_data"
    },
    {
     "data": {
      "application/vnd.jupyter.widget-view+json": {
       "model_id": "",
       "version_major": 2,
       "version_minor": 0
      },
      "text/plain": [
       "Test sample:   0%|          | 0/334 [00:00<?, ?it/s]"
      ]
     },
     "metadata": {},
     "output_type": "display_data"
    },
    {
     "data": {
      "application/vnd.jupyter.widget-view+json": {
       "model_id": "",
       "version_major": 2,
       "version_minor": 0
      },
      "text/plain": [
       "Test sample:   0%|          | 0/334 [00:00<?, ?it/s]"
      ]
     },
     "metadata": {},
     "output_type": "display_data"
    },
    {
     "data": {
      "application/vnd.jupyter.widget-view+json": {
       "model_id": "",
       "version_major": 2,
       "version_minor": 0
      },
      "text/plain": [
       "Test sample:   0%|          | 0/334 [00:00<?, ?it/s]"
      ]
     },
     "metadata": {},
     "output_type": "display_data"
    },
    {
     "name": "stderr",
     "output_type": "stream",
     "text": [
      "Exception ignored in: <function _MultiProcessingDataLoaderIter.__del__ at 0x7fb91f7af8b0>\n",
      "Traceback (most recent call last):\n",
      "  File \"/nas/home/ecannas/miniconda3/envs/jpeg_expl/lib/python3.9/site-packages/torch/utils/data/dataloader.py\", line 1466, in __del__\n",
      "    self._shutdown_workers()\n",
      "  File \"/nas/home/ecannas/miniconda3/envs/jpeg_expl/lib/python3.9/site-packages/torch/utils/data/dataloader.py\", line 1449, in _shutdown_workers\n",
      "    if w.is_alive():  File \"/nas/home/ecannas/miniconda3/envs/jpeg_expl/lib/python3.9/multiprocessing/process.py\", line 160, in is_alive\n",
      "\n",
      "    assert self._parent_pid == os.getpid(), 'can only test a child process'\n",
      "AssertionError: can only test a child process\n",
      "Exception ignored in: <function _MultiProcessingDataLoaderIter.__del__ at 0x7fb91f7af8b0>\n",
      "Traceback (most recent call last):\n",
      "  File \"/nas/home/ecannas/miniconda3/envs/jpeg_expl/lib/python3.9/site-packages/torch/utils/data/dataloader.py\", line 1466, in __del__\n",
      "    self._shutdown_workers()\n",
      "  File \"/nas/home/ecannas/miniconda3/envs/jpeg_expl/lib/python3.9/site-packages/torch/utils/data/dataloader.py\", line 1449, in _shutdown_workers\n",
      "    if w.is_alive():  File \"/nas/home/ecannas/miniconda3/envs/jpeg_expl/lib/python3.9/multiprocessing/process.py\", line 160, in is_alive\n",
      "\n",
      "    assert self._parent_pid == os.getpid(), 'can only test a child process'\n",
      "AssertionError: can only test a child process\n",
      "Exception ignored in: <function _MultiProcessingDataLoaderIter.__del__ at 0x7fb91f7af8b0>\n",
      "Traceback (most recent call last):\n",
      "  File \"/nas/home/ecannas/miniconda3/envs/jpeg_expl/lib/python3.9/site-packages/torch/utils/data/dataloader.py\", line 1466, in __del__\n",
      "    self._shutdown_workers()\n",
      "  File \"/nas/home/ecannas/miniconda3/envs/jpeg_expl/lib/python3.9/site-packages/torch/utils/data/dataloader.py\", line 1449, in _shutdown_workers\n",
      "    if w.is_alive():\n",
      "  File \"/nas/home/ecannas/miniconda3/envs/jpeg_expl/lib/python3.9/multiprocessing/process.py\", line 160, in is_alive\n",
      "    assert self._parent_pid == os.getpid(), 'can only test a child process'\n",
      "AssertionError: can only test a child process\n",
      "Exception ignored in: <function _MultiProcessingDataLoaderIter.__del__ at 0x7fb91f7af8b0>\n",
      "Traceback (most recent call last):\n",
      "  File \"/nas/home/ecannas/miniconda3/envs/jpeg_expl/lib/python3.9/site-packages/torch/utils/data/dataloader.py\", line 1466, in __del__\n",
      "    self._shutdown_workers()\n",
      "  File \"/nas/home/ecannas/miniconda3/envs/jpeg_expl/lib/python3.9/site-packages/torch/utils/data/dataloader.py\", line 1449, in _shutdown_workers\n",
      "    if w.is_alive():\n",
      "  File \"/nas/home/ecannas/miniconda3/envs/jpeg_expl/lib/python3.9/multiprocessing/process.py\", line 160, in is_alive\n",
      "    assert self._parent_pid == os.getpid(), 'can only test a child process'\n",
      "AssertionError: can only test a child process\n"
     ]
    },
    {
     "data": {
      "application/vnd.jupyter.widget-view+json": {
       "model_id": "",
       "version_major": 2,
       "version_minor": 0
      },
      "text/plain": [
       "Test sample:   0%|          | 0/334 [00:00<?, ?it/s]"
      ]
     },
     "metadata": {},
     "output_type": "display_data"
    },
    {
     "data": {
      "application/vnd.jupyter.widget-view+json": {
       "model_id": "",
       "version_major": 2,
       "version_minor": 0
      },
      "text/plain": [
       "Test sample:   0%|          | 0/334 [00:00<?, ?it/s]"
      ]
     },
     "metadata": {},
     "output_type": "display_data"
    },
    {
     "data": {
      "application/vnd.jupyter.widget-view+json": {
       "model_id": "",
       "version_major": 2,
       "version_minor": 0
      },
      "text/plain": [
       "Test sample:   0%|          | 0/334 [00:00<?, ?it/s]"
      ]
     },
     "metadata": {},
     "output_type": "display_data"
    },
    {
     "name": "stdout",
     "output_type": "stream",
     "text": [
      "Loading model ../models/AABondiNets/12x12_block_nets/net-AABondiNet_lr-0.001_batch_size-32_split_train_test-0.75_split_train_val-0.75_split_seed-42_in_channels-1_init_period-10_jpeg_bs-12_fl_stride-4_grayscale-True_random_crop-False_aa_pool_only-False/bestval.pth...\n",
      "<All keys matched successfully>\n",
      "Model loaded!\n"
     ]
    },
    {
     "name": "stderr",
     "output_type": "stream",
     "text": [
      "/nas/home/ecannas/miniconda3/envs/jpeg_expl/lib/python3.9/site-packages/torch/nn/modules/lazy.py:180: UserWarning: Lazy modules are a new feature under heavy development so changes to the API or functionality can happen at any moment.\n",
      "  warnings.warn('Lazy modules are a new feature under heavy development '\n"
     ]
    },
    {
     "data": {
      "application/vnd.jupyter.widget-view+json": {
       "model_id": "",
       "version_major": 2,
       "version_minor": 0
      },
      "text/plain": [
       "Test sample:   0%|          | 0/334 [00:00<?, ?it/s]"
      ]
     },
     "metadata": {},
     "output_type": "display_data"
    },
    {
     "data": {
      "application/vnd.jupyter.widget-view+json": {
       "model_id": "",
       "version_major": 2,
       "version_minor": 0
      },
      "text/plain": [
       "Test sample:   0%|          | 0/334 [00:00<?, ?it/s]"
      ]
     },
     "metadata": {},
     "output_type": "display_data"
    },
    {
     "data": {
      "application/vnd.jupyter.widget-view+json": {
       "model_id": "",
       "version_major": 2,
       "version_minor": 0
      },
      "text/plain": [
       "Test sample:   0%|          | 0/334 [00:00<?, ?it/s]"
      ]
     },
     "metadata": {},
     "output_type": "display_data"
    },
    {
     "data": {
      "application/vnd.jupyter.widget-view+json": {
       "model_id": "",
       "version_major": 2,
       "version_minor": 0
      },
      "text/plain": [
       "Test sample:   0%|          | 0/334 [00:00<?, ?it/s]"
      ]
     },
     "metadata": {},
     "output_type": "display_data"
    },
    {
     "data": {
      "application/vnd.jupyter.widget-view+json": {
       "model_id": "",
       "version_major": 2,
       "version_minor": 0
      },
      "text/plain": [
       "Test sample:   0%|          | 0/334 [00:00<?, ?it/s]"
      ]
     },
     "metadata": {},
     "output_type": "display_data"
    },
    {
     "data": {
      "application/vnd.jupyter.widget-view+json": {
       "model_id": "",
       "version_major": 2,
       "version_minor": 0
      },
      "text/plain": [
       "Test sample:   0%|          | 0/334 [00:00<?, ?it/s]"
      ]
     },
     "metadata": {},
     "output_type": "display_data"
    },
    {
     "data": {
      "application/vnd.jupyter.widget-view+json": {
       "model_id": "",
       "version_major": 2,
       "version_minor": 0
      },
      "text/plain": [
       "Test sample:   0%|          | 0/334 [00:00<?, ?it/s]"
      ]
     },
     "metadata": {},
     "output_type": "display_data"
    },
    {
     "data": {
      "application/vnd.jupyter.widget-view+json": {
       "model_id": "",
       "version_major": 2,
       "version_minor": 0
      },
      "text/plain": [
       "Test sample:   0%|          | 0/334 [00:00<?, ?it/s]"
      ]
     },
     "metadata": {},
     "output_type": "display_data"
    },
    {
     "data": {
      "application/vnd.jupyter.widget-view+json": {
       "model_id": "",
       "version_major": 2,
       "version_minor": 0
      },
      "text/plain": [
       "Test sample:   0%|          | 0/334 [00:00<?, ?it/s]"
      ]
     },
     "metadata": {},
     "output_type": "display_data"
    },
    {
     "data": {
      "application/vnd.jupyter.widget-view+json": {
       "model_id": "",
       "version_major": 2,
       "version_minor": 0
      },
      "text/plain": [
       "Test sample:   0%|          | 0/334 [00:00<?, ?it/s]"
      ]
     },
     "metadata": {},
     "output_type": "display_data"
    },
    {
     "data": {
      "application/vnd.jupyter.widget-view+json": {
       "model_id": "",
       "version_major": 2,
       "version_minor": 0
      },
      "text/plain": [
       "Test sample:   0%|          | 0/334 [00:00<?, ?it/s]"
      ]
     },
     "metadata": {},
     "output_type": "display_data"
    },
    {
     "data": {
      "application/vnd.jupyter.widget-view+json": {
       "model_id": "",
       "version_major": 2,
       "version_minor": 0
      },
      "text/plain": [
       "Test sample:   0%|          | 0/334 [00:00<?, ?it/s]"
      ]
     },
     "metadata": {},
     "output_type": "display_data"
    },
    {
     "data": {
      "application/vnd.jupyter.widget-view+json": {
       "model_id": "",
       "version_major": 2,
       "version_minor": 0
      },
      "text/plain": [
       "Test sample:   0%|          | 0/334 [00:00<?, ?it/s]"
      ]
     },
     "metadata": {},
     "output_type": "display_data"
    },
    {
     "name": "stdout",
     "output_type": "stream",
     "text": [
      "Loading model ../models/AABondiNets_pool_only/12x12_block_nets/net-AABondiNet_lr-0.001_batch_size-32_split_train_test-0.75_split_train_val-0.75_split_seed-42_in_channels-1_init_period-10_jpeg_bs-12_fl_stride-4_grayscale-True_random_crop-False_aa_pool_only-True/bestval.pth...\n",
      "<All keys matched successfully>\n",
      "Model loaded!\n"
     ]
    },
    {
     "name": "stderr",
     "output_type": "stream",
     "text": [
      "/nas/home/ecannas/miniconda3/envs/jpeg_expl/lib/python3.9/site-packages/torch/nn/modules/lazy.py:180: UserWarning: Lazy modules are a new feature under heavy development so changes to the API or functionality can happen at any moment.\n",
      "  warnings.warn('Lazy modules are a new feature under heavy development '\n"
     ]
    },
    {
     "data": {
      "application/vnd.jupyter.widget-view+json": {
       "model_id": "",
       "version_major": 2,
       "version_minor": 0
      },
      "text/plain": [
       "Test sample:   0%|          | 0/334 [00:00<?, ?it/s]"
      ]
     },
     "metadata": {},
     "output_type": "display_data"
    },
    {
     "data": {
      "application/vnd.jupyter.widget-view+json": {
       "model_id": "",
       "version_major": 2,
       "version_minor": 0
      },
      "text/plain": [
       "Test sample:   0%|          | 0/334 [00:00<?, ?it/s]"
      ]
     },
     "metadata": {},
     "output_type": "display_data"
    },
    {
     "data": {
      "application/vnd.jupyter.widget-view+json": {
       "model_id": "",
       "version_major": 2,
       "version_minor": 0
      },
      "text/plain": [
       "Test sample:   0%|          | 0/334 [00:00<?, ?it/s]"
      ]
     },
     "metadata": {},
     "output_type": "display_data"
    },
    {
     "data": {
      "application/vnd.jupyter.widget-view+json": {
       "model_id": "",
       "version_major": 2,
       "version_minor": 0
      },
      "text/plain": [
       "Test sample:   0%|          | 0/334 [00:00<?, ?it/s]"
      ]
     },
     "metadata": {},
     "output_type": "display_data"
    },
    {
     "data": {
      "application/vnd.jupyter.widget-view+json": {
       "model_id": "",
       "version_major": 2,
       "version_minor": 0
      },
      "text/plain": [
       "Test sample:   0%|          | 0/334 [00:00<?, ?it/s]"
      ]
     },
     "metadata": {},
     "output_type": "display_data"
    },
    {
     "data": {
      "application/vnd.jupyter.widget-view+json": {
       "model_id": "",
       "version_major": 2,
       "version_minor": 0
      },
      "text/plain": [
       "Test sample:   0%|          | 0/334 [00:00<?, ?it/s]"
      ]
     },
     "metadata": {},
     "output_type": "display_data"
    },
    {
     "data": {
      "application/vnd.jupyter.widget-view+json": {
       "model_id": "",
       "version_major": 2,
       "version_minor": 0
      },
      "text/plain": [
       "Test sample:   0%|          | 0/334 [00:00<?, ?it/s]"
      ]
     },
     "metadata": {},
     "output_type": "display_data"
    },
    {
     "data": {
      "application/vnd.jupyter.widget-view+json": {
       "model_id": "",
       "version_major": 2,
       "version_minor": 0
      },
      "text/plain": [
       "Test sample:   0%|          | 0/334 [00:00<?, ?it/s]"
      ]
     },
     "metadata": {},
     "output_type": "display_data"
    },
    {
     "data": {
      "application/vnd.jupyter.widget-view+json": {
       "model_id": "",
       "version_major": 2,
       "version_minor": 0
      },
      "text/plain": [
       "Test sample:   0%|          | 0/334 [00:00<?, ?it/s]"
      ]
     },
     "metadata": {},
     "output_type": "display_data"
    },
    {
     "data": {
      "application/vnd.jupyter.widget-view+json": {
       "model_id": "",
       "version_major": 2,
       "version_minor": 0
      },
      "text/plain": [
       "Test sample:   0%|          | 0/334 [00:00<?, ?it/s]"
      ]
     },
     "metadata": {},
     "output_type": "display_data"
    },
    {
     "data": {
      "application/vnd.jupyter.widget-view+json": {
       "model_id": "",
       "version_major": 2,
       "version_minor": 0
      },
      "text/plain": [
       "Test sample:   0%|          | 0/334 [00:00<?, ?it/s]"
      ]
     },
     "metadata": {},
     "output_type": "display_data"
    },
    {
     "data": {
      "application/vnd.jupyter.widget-view+json": {
       "model_id": "",
       "version_major": 2,
       "version_minor": 0
      },
      "text/plain": [
       "Test sample:   0%|          | 0/334 [00:00<?, ?it/s]"
      ]
     },
     "metadata": {},
     "output_type": "display_data"
    },
    {
     "data": {
      "application/vnd.jupyter.widget-view+json": {
       "model_id": "",
       "version_major": 2,
       "version_minor": 0
      },
      "text/plain": [
       "Test sample:   0%|          | 0/334 [00:00<?, ?it/s]"
      ]
     },
     "metadata": {},
     "output_type": "display_data"
    },
    {
     "name": "stdout",
     "output_type": "stream",
     "text": [
      "Loading model ../models/BondiNets_random_crop/12x12_block_nets/net-BondiNet_lr-0.001_batch_size-32_split_train_test-0.75_split_train_val-0.75_split_seed-42_in_channels-1_init_period-10_jpeg_bs-12_fl_stride-4_grayscale-True_random_crop-True/bestval.pth...\n",
      "<All keys matched successfully>\n",
      "Model loaded!\n"
     ]
    },
    {
     "name": "stderr",
     "output_type": "stream",
     "text": [
      "/nas/home/ecannas/miniconda3/envs/jpeg_expl/lib/python3.9/site-packages/torch/nn/modules/lazy.py:180: UserWarning: Lazy modules are a new feature under heavy development so changes to the API or functionality can happen at any moment.\n",
      "  warnings.warn('Lazy modules are a new feature under heavy development '\n"
     ]
    },
    {
     "data": {
      "application/vnd.jupyter.widget-view+json": {
       "model_id": "",
       "version_major": 2,
       "version_minor": 0
      },
      "text/plain": [
       "Test sample:   0%|          | 0/334 [00:00<?, ?it/s]"
      ]
     },
     "metadata": {},
     "output_type": "display_data"
    },
    {
     "data": {
      "application/vnd.jupyter.widget-view+json": {
       "model_id": "",
       "version_major": 2,
       "version_minor": 0
      },
      "text/plain": [
       "Test sample:   0%|          | 0/334 [00:00<?, ?it/s]"
      ]
     },
     "metadata": {},
     "output_type": "display_data"
    },
    {
     "data": {
      "application/vnd.jupyter.widget-view+json": {
       "model_id": "",
       "version_major": 2,
       "version_minor": 0
      },
      "text/plain": [
       "Test sample:   0%|          | 0/334 [00:00<?, ?it/s]"
      ]
     },
     "metadata": {},
     "output_type": "display_data"
    },
    {
     "data": {
      "application/vnd.jupyter.widget-view+json": {
       "model_id": "",
       "version_major": 2,
       "version_minor": 0
      },
      "text/plain": [
       "Test sample:   0%|          | 0/334 [00:00<?, ?it/s]"
      ]
     },
     "metadata": {},
     "output_type": "display_data"
    },
    {
     "data": {
      "application/vnd.jupyter.widget-view+json": {
       "model_id": "",
       "version_major": 2,
       "version_minor": 0
      },
      "text/plain": [
       "Test sample:   0%|          | 0/334 [00:00<?, ?it/s]"
      ]
     },
     "metadata": {},
     "output_type": "display_data"
    },
    {
     "data": {
      "application/vnd.jupyter.widget-view+json": {
       "model_id": "",
       "version_major": 2,
       "version_minor": 0
      },
      "text/plain": [
       "Test sample:   0%|          | 0/334 [00:00<?, ?it/s]"
      ]
     },
     "metadata": {},
     "output_type": "display_data"
    },
    {
     "data": {
      "application/vnd.jupyter.widget-view+json": {
       "model_id": "",
       "version_major": 2,
       "version_minor": 0
      },
      "text/plain": [
       "Test sample:   0%|          | 0/334 [00:00<?, ?it/s]"
      ]
     },
     "metadata": {},
     "output_type": "display_data"
    },
    {
     "data": {
      "application/vnd.jupyter.widget-view+json": {
       "model_id": "",
       "version_major": 2,
       "version_minor": 0
      },
      "text/plain": [
       "Test sample:   0%|          | 0/334 [00:00<?, ?it/s]"
      ]
     },
     "metadata": {},
     "output_type": "display_data"
    },
    {
     "data": {
      "application/vnd.jupyter.widget-view+json": {
       "model_id": "",
       "version_major": 2,
       "version_minor": 0
      },
      "text/plain": [
       "Test sample:   0%|          | 0/334 [00:00<?, ?it/s]"
      ]
     },
     "metadata": {},
     "output_type": "display_data"
    },
    {
     "data": {
      "application/vnd.jupyter.widget-view+json": {
       "model_id": "",
       "version_major": 2,
       "version_minor": 0
      },
      "text/plain": [
       "Test sample:   0%|          | 0/334 [00:00<?, ?it/s]"
      ]
     },
     "metadata": {},
     "output_type": "display_data"
    },
    {
     "data": {
      "application/vnd.jupyter.widget-view+json": {
       "model_id": "",
       "version_major": 2,
       "version_minor": 0
      },
      "text/plain": [
       "Test sample:   0%|          | 0/334 [00:00<?, ?it/s]"
      ]
     },
     "metadata": {},
     "output_type": "display_data"
    },
    {
     "data": {
      "application/vnd.jupyter.widget-view+json": {
       "model_id": "",
       "version_major": 2,
       "version_minor": 0
      },
      "text/plain": [
       "Test sample:   0%|          | 0/334 [00:00<?, ?it/s]"
      ]
     },
     "metadata": {},
     "output_type": "display_data"
    },
    {
     "data": {
      "application/vnd.jupyter.widget-view+json": {
       "model_id": "",
       "version_major": 2,
       "version_minor": 0
      },
      "text/plain": [
       "Test sample:   0%|          | 0/334 [00:00<?, ?it/s]"
      ]
     },
     "metadata": {},
     "output_type": "display_data"
    },
    {
     "data": {
      "text/html": [
       "<div>\n",
       "<style scoped>\n",
       "    .dataframe tbody tr th:only-of-type {\n",
       "        vertical-align: middle;\n",
       "    }\n",
       "\n",
       "    .dataframe tbody tr th {\n",
       "        vertical-align: top;\n",
       "    }\n",
       "\n",
       "    .dataframe thead th {\n",
       "        text-align: right;\n",
       "    }\n",
       "</style>\n",
       "<table border=\"1\" class=\"dataframe\">\n",
       "  <thead>\n",
       "    <tr style=\"text-align: right;\">\n",
       "      <th></th>\n",
       "      <th></th>\n",
       "      <th></th>\n",
       "      <th></th>\n",
       "      <th>bce_loss</th>\n",
       "      <th>pred</th>\n",
       "      <th>labels</th>\n",
       "    </tr>\n",
       "    <tr>\n",
       "      <th>Stride factor</th>\n",
       "      <th>Model</th>\n",
       "      <th>Grid displacement</th>\n",
       "      <th></th>\n",
       "      <th></th>\n",
       "      <th></th>\n",
       "      <th></th>\n",
       "    </tr>\n",
       "  </thead>\n",
       "  <tbody>\n",
       "    <tr>\n",
       "      <th rowspan=\"5\" valign=\"top\">1</th>\n",
       "      <th rowspan=\"5\" valign=\"top\">../models/BondiNets/12x12_block_nets/net-BondiNet_lr-0.001_batch_size-32_split_train_test-0.75_split_train_val-0.75_split_seed-42_in_channels-1_init_period-10_jpeg_bs-12_fl_stride-1_grayscale-True_random_crop-False/bestval.pth</th>\n",
       "      <th rowspan=\"5\" valign=\"top\">0</th>\n",
       "      <th>0</th>\n",
       "      <td>0.000000</td>\n",
       "      <td>8.371470e-09</td>\n",
       "      <td>False</td>\n",
       "    </tr>\n",
       "    <tr>\n",
       "      <th>1</th>\n",
       "      <td>0.000000</td>\n",
       "      <td>1.000000e+00</td>\n",
       "      <td>True</td>\n",
       "    </tr>\n",
       "    <tr>\n",
       "      <th>2</th>\n",
       "      <td>0.000209</td>\n",
       "      <td>9.389042e-07</td>\n",
       "      <td>False</td>\n",
       "    </tr>\n",
       "    <tr>\n",
       "      <th>3</th>\n",
       "      <td>0.000209</td>\n",
       "      <td>9.995822e-01</td>\n",
       "      <td>True</td>\n",
       "    </tr>\n",
       "    <tr>\n",
       "      <th>4</th>\n",
       "      <td>0.000016</td>\n",
       "      <td>6.133889e-07</td>\n",
       "      <td>False</td>\n",
       "    </tr>\n",
       "    <tr>\n",
       "      <th>...</th>\n",
       "      <th>...</th>\n",
       "      <th>...</th>\n",
       "      <th>...</th>\n",
       "      <td>...</td>\n",
       "      <td>...</td>\n",
       "      <td>...</td>\n",
       "    </tr>\n",
       "    <tr>\n",
       "      <th rowspan=\"5\" valign=\"top\">4</th>\n",
       "      <th rowspan=\"5\" valign=\"top\">../models/BondiNets_random_crop/12x12_block_nets/net-BondiNet_lr-0.001_batch_size-32_split_train_test-0.75_split_train_val-0.75_split_seed-42_in_channels-1_init_period-10_jpeg_bs-12_fl_stride-4_grayscale-True_random_crop-True/bestval.pth</th>\n",
       "      <th rowspan=\"5\" valign=\"top\">12</th>\n",
       "      <th>663</th>\n",
       "      <td>0.000026</td>\n",
       "      <td>1.000000e+00</td>\n",
       "      <td>True</td>\n",
       "    </tr>\n",
       "    <tr>\n",
       "      <th>664</th>\n",
       "      <td>0.000444</td>\n",
       "      <td>8.868724e-04</td>\n",
       "      <td>False</td>\n",
       "    </tr>\n",
       "    <tr>\n",
       "      <th>665</th>\n",
       "      <td>0.000444</td>\n",
       "      <td>9.999999e-01</td>\n",
       "      <td>True</td>\n",
       "    </tr>\n",
       "    <tr>\n",
       "      <th>666</th>\n",
       "      <td>0.002679</td>\n",
       "      <td>4.554503e-03</td>\n",
       "      <td>False</td>\n",
       "    </tr>\n",
       "    <tr>\n",
       "      <th>667</th>\n",
       "      <td>0.002679</td>\n",
       "      <td>9.992066e-01</td>\n",
       "      <td>True</td>\n",
       "    </tr>\n",
       "  </tbody>\n",
       "</table>\n",
       "<p>130260 rows × 3 columns</p>\n",
       "</div>"
      ],
      "text/plain": [
       "                                                                                        bce_loss  \\\n",
       "Stride factor Model                                              Grid displacement                 \n",
       "1             ../models/BondiNets/12x12_block_nets/net-BondiN... 0                 0    0.000000   \n",
       "                                                                                   1    0.000000   \n",
       "                                                                                   2    0.000209   \n",
       "                                                                                   3    0.000209   \n",
       "                                                                                   4    0.000016   \n",
       "...                                                                                          ...   \n",
       "4             ../models/BondiNets_random_crop/12x12_block_net... 12                663  0.000026   \n",
       "                                                                                   664  0.000444   \n",
       "                                                                                   665  0.000444   \n",
       "                                                                                   666  0.002679   \n",
       "                                                                                   667  0.002679   \n",
       "\n",
       "                                                                                                pred  \\\n",
       "Stride factor Model                                              Grid displacement                     \n",
       "1             ../models/BondiNets/12x12_block_nets/net-BondiN... 0                 0    8.371470e-09   \n",
       "                                                                                   1    1.000000e+00   \n",
       "                                                                                   2    9.389042e-07   \n",
       "                                                                                   3    9.995822e-01   \n",
       "                                                                                   4    6.133889e-07   \n",
       "...                                                                                              ...   \n",
       "4             ../models/BondiNets_random_crop/12x12_block_net... 12                663  1.000000e+00   \n",
       "                                                                                   664  8.868724e-04   \n",
       "                                                                                   665  9.999999e-01   \n",
       "                                                                                   666  4.554503e-03   \n",
       "                                                                                   667  9.992066e-01   \n",
       "\n",
       "                                                                                        labels  \n",
       "Stride factor Model                                              Grid displacement              \n",
       "1             ../models/BondiNets/12x12_block_nets/net-BondiN... 0                 0     False  \n",
       "                                                                                   1      True  \n",
       "                                                                                   2     False  \n",
       "                                                                                   3      True  \n",
       "                                                                                   4     False  \n",
       "...                                                                                        ...  \n",
       "4             ../models/BondiNets_random_crop/12x12_block_net... 12                663    True  \n",
       "                                                                                   664   False  \n",
       "                                                                                   665    True  \n",
       "                                                                                   666   False  \n",
       "                                                                                   667    True  \n",
       "\n",
       "[130260 rows x 3 columns]"
      ]
     },
     "execution_count": 78,
     "metadata": {},
     "output_type": "execute_result"
    }
   ],
   "source": [
    "all_stride_dfs = []\n",
    "\n",
    "for stride in moi_df.index.get_level_values(0).unique():\n",
    "    print(f'Doing networks with stride {stride} in the first layer...')\n",
    "    \n",
    "    # Create the displacement DF\n",
    "    all_models_disp_df = []\n",
    "    \n",
    "    # Cycle over the models\n",
    "    for i, r in moi_df.loc[stride].iterrows():\n",
    "        \n",
    "        # Extract the model path\n",
    "        model_path = r['Model path']\n",
    "        \n",
    "        if len(model_path) == 0:\n",
    "            continue\n",
    "        \n",
    "        # Displace along the diagonal direction\n",
    "        test_dfs = dict()\n",
    "        \n",
    "        # Parse useful params from the model path\n",
    "        split_seed = int(model_path.split('split_seed-')[1].split('_')[0])\n",
    "        p_train_test = float(model_path.split('train_test-')[1].split('_')[0])\n",
    "        p_train_val = float(model_path.split('train_val-')[1].split('_')[0])\n",
    "        net_name = model_path.split('net-')[1].split('_')[0]\n",
    "        in_channels = int(model_path.split('in_channels-')[1].split('_')[0])\n",
    "        batch_size = 1\n",
    "        fl_stride = int(model_path.split('fl_stride-')[1].split('_')[0])\n",
    "        jpeg_bs = int(model_path.split('jpeg_bs-')[1].split('_')[0])\n",
    "        patch_size = 64*fl_stride\n",
    "        aa_pool_only = model_path.split('aa_pool_only-')[1].split('/')[0] == 'True' if 'AA' in model_path else None\n",
    "\n",
    "        # Set the device\n",
    "        device = f'cuda:{gpu_id}' if torch.cuda.is_available() else 'cpu'\n",
    "        \n",
    "        # Load net\n",
    "        params = {'in_channels': in_channels, 'num_classes': 1, 'first_layer_stride': fl_stride,\n",
    "                  'pool_only': aa_pool_only}\n",
    "        net = create_model(net_name, params, device)\n",
    "        net = net.eval()\n",
    "\n",
    "        # load model\n",
    "        print(f'Loading model {model_path}...')\n",
    "        state_tmp = torch.load(model_path, map_location='cpu')\n",
    "        if 'net' not in state_tmp.keys():\n",
    "            state = OrderedDict({'net': OrderedDict()})\n",
    "            [state['net'].update({'model.{}'.format(k): v}) for k, v in state_tmp.items()]\n",
    "        else:\n",
    "            state = state_tmp\n",
    "        incomp_keys = net.load_state_dict(state['net'], strict=True)\n",
    "        print(incomp_keys)\n",
    "        print('Model loaded!')\n",
    "\n",
    "        test_dfs = []\n",
    "        for disp in range(jpeg_bs+1):\n",
    "\n",
    "            # Load the data\n",
    "            dataset = CustomBlockJPEGBalancedDataset(data_root=data_root, \n",
    "                                                     patch_size=patch_size, transforms=A.Compose([ToTensorV2()]),\n",
    "                                                     grayscale=in_channels==1, disaligned_grid_patch=[disp, disp],\n",
    "                                                     coherent_grid_patch=False if 'random_crop-True' in model_path else True,\n",
    "                                                     jpeg_bs=jpeg_bs)\n",
    "            \n",
    "            # Split in training, validation and test\n",
    "            dataset_idxs = list(range(len(dataset)))\n",
    "            np.random.seed(split_seed)  # setting the seed for training-test split\n",
    "            np.random.shuffle(dataset_idxs)\n",
    "            test_split_index = int(np.floor((1 - p_train_test) * len(dataset)))\n",
    "            train_val_idxs, test_idxs = dataset_idxs[test_split_index:], dataset_idxs[:test_split_index]\n",
    "            val_split_index = int(np.floor((1 - p_train_val) * len(train_val_idxs)))\n",
    "            train_idx, val_idx = train_val_idxs[val_split_index:], train_val_idxs[:val_split_index]\n",
    "            \n",
    "            # Take only test idx samples\n",
    "            test_idxs = np.array(test_idxs)\n",
    "            test_sampler = SequentialSampler(test_idxs)\n",
    "            test_dl = DataLoader(dataset=dataset, batch_size=batch_size, num_workers=4, shuffle=False, drop_last=False,\n",
    "                                   sampler=test_sampler, collate_fn=balanced_collate_fn,)\n",
    "\n",
    "\n",
    "            # --- TEST LOOP\n",
    "            test_df = pd.DataFrame(index=np.arange(len(test_idxs)*2))\n",
    "            test_df['bce_loss'] = 0.0\n",
    "            test_df['pred'] = 0.0\n",
    "            test_df['labels'] = False\n",
    "            criterion = torch.nn.BCEWithLogitsLoss()\n",
    "            test_loss = test_acc = test_num = 0\n",
    "            for idx, batch_data in enumerate(tqdm(test_dl, desc='Test sample', leave=False, total=len(test_dl))):\n",
    "                # Fetch data\n",
    "                batch_img, batch_label = batch_data\n",
    "\n",
    "                with torch.no_grad():\n",
    "                    # Forward pass\n",
    "                    batch_loss, batch_pred = batch_forward(net, device, criterion, batch_img, batch_label)\n",
    "                    #batch_loss = batch_forward(net, device, criterion, batch_img, batch_label)\n",
    "\n",
    "                # Save statistics\n",
    "                test_df.loc[idx*2, 'bce_loss'] = batch_loss.detach().cpu().item()\n",
    "                test_df.loc[idx*2, 'labels'] = batch_label[0].detach().cpu().item()>0\n",
    "                test_df.loc[idx*2, 'pred'] = batch_pred[0].detach().cpu().item()\n",
    "                test_df.loc[idx*2+1, 'bce_loss'] = batch_loss.detach().cpu().item()\n",
    "                test_df.loc[idx*2+1, 'labels'] = batch_label[1].detach().cpu().item()>0\n",
    "                test_df.loc[idx*2+1, 'pred'] = batch_pred[1].detach().cpu().item()\n",
    "\n",
    "\n",
    "            # Clean GPU memory\n",
    "            torch.cuda.empty_cache()\n",
    "\n",
    "            # Save the results in the bigger dictionary\n",
    "            test_dfs.append(pd.concat({disp: test_df.copy()}, names=['Grid displacement']))\n",
    "\n",
    "        # Concatenate everything\n",
    "        all_disps_df = pd.concat(test_dfs)\n",
    "        all_models_disp_df.append(pd.concat({model_path: all_disps_df}, names=['Model']))\n",
    "        \n",
    "    all_stride_dfs.append(pd.concat({stride: pd.concat(all_models_disp_df)}, names=['Stride factor']))\n",
    "\n",
    "# Concatenate everything\n",
    "all_stride_dfs = pd.concat(all_stride_dfs)\n",
    "all_stride_dfs"
   ]
  },
  {
   "cell_type": "markdown",
   "id": "6f9cd968",
   "metadata": {},
   "source": [
    "### 1x1 stride networks"
   ]
  },
  {
   "cell_type": "code",
   "execution_count": 79,
   "id": "7552c803",
   "metadata": {},
   "outputs": [
    {
     "data": {
      "text/html": [
       "<div>\n",
       "<style scoped>\n",
       "    .dataframe tbody tr th:only-of-type {\n",
       "        vertical-align: middle;\n",
       "    }\n",
       "\n",
       "    .dataframe tbody tr th {\n",
       "        vertical-align: top;\n",
       "    }\n",
       "\n",
       "    .dataframe thead th {\n",
       "        text-align: right;\n",
       "    }\n",
       "</style>\n",
       "<table border=\"1\" class=\"dataframe\">\n",
       "  <thead>\n",
       "    <tr style=\"text-align: right;\">\n",
       "      <th></th>\n",
       "      <th></th>\n",
       "      <th></th>\n",
       "      <th>bce_loss</th>\n",
       "      <th>pred</th>\n",
       "      <th>labels</th>\n",
       "    </tr>\n",
       "    <tr>\n",
       "      <th>Model</th>\n",
       "      <th>Grid displacement</th>\n",
       "      <th></th>\n",
       "      <th></th>\n",
       "      <th></th>\n",
       "      <th></th>\n",
       "    </tr>\n",
       "  </thead>\n",
       "  <tbody>\n",
       "    <tr>\n",
       "      <th rowspan=\"5\" valign=\"top\">../models/BondiNets/12x12_block_nets/net-BondiNet_lr-0.001_batch_size-32_split_train_test-0.75_split_train_val-0.75_split_seed-42_in_channels-1_init_period-10_jpeg_bs-12_fl_stride-1_grayscale-True_random_crop-False/bestval.pth</th>\n",
       "      <th rowspan=\"5\" valign=\"top\">0</th>\n",
       "      <th>0</th>\n",
       "      <td>0.000000</td>\n",
       "      <td>8.371470e-09</td>\n",
       "      <td>False</td>\n",
       "    </tr>\n",
       "    <tr>\n",
       "      <th>1</th>\n",
       "      <td>0.000000</td>\n",
       "      <td>1.000000e+00</td>\n",
       "      <td>True</td>\n",
       "    </tr>\n",
       "    <tr>\n",
       "      <th>2</th>\n",
       "      <td>0.000209</td>\n",
       "      <td>9.389042e-07</td>\n",
       "      <td>False</td>\n",
       "    </tr>\n",
       "    <tr>\n",
       "      <th>3</th>\n",
       "      <td>0.000209</td>\n",
       "      <td>9.995822e-01</td>\n",
       "      <td>True</td>\n",
       "    </tr>\n",
       "    <tr>\n",
       "      <th>4</th>\n",
       "      <td>0.000016</td>\n",
       "      <td>6.133889e-07</td>\n",
       "      <td>False</td>\n",
       "    </tr>\n",
       "    <tr>\n",
       "      <th>...</th>\n",
       "      <th>...</th>\n",
       "      <th>...</th>\n",
       "      <td>...</td>\n",
       "      <td>...</td>\n",
       "      <td>...</td>\n",
       "    </tr>\n",
       "    <tr>\n",
       "      <th rowspan=\"5\" valign=\"top\">../models/BondiNets_random_crop/12x12_block_nets/net-BondiNet_lr-0.001_batch_size-32_split_train_test-0.75_split_train_val-0.75_split_seed-42_in_channels-1_init_period-10_jpeg_bs-12_fl_stride-1_grayscale-True_random_crop-True/bestval.pth</th>\n",
       "      <th rowspan=\"5\" valign=\"top\">12</th>\n",
       "      <th>663</th>\n",
       "      <td>0.000022</td>\n",
       "      <td>9.999579e-01</td>\n",
       "      <td>True</td>\n",
       "    </tr>\n",
       "    <tr>\n",
       "      <th>664</th>\n",
       "      <td>0.002509</td>\n",
       "      <td>3.239692e-05</td>\n",
       "      <td>False</td>\n",
       "    </tr>\n",
       "    <tr>\n",
       "      <th>665</th>\n",
       "      <td>0.002509</td>\n",
       "      <td>9.950263e-01</td>\n",
       "      <td>True</td>\n",
       "    </tr>\n",
       "    <tr>\n",
       "      <th>666</th>\n",
       "      <td>0.027088</td>\n",
       "      <td>1.641508e-03</td>\n",
       "      <td>False</td>\n",
       "    </tr>\n",
       "    <tr>\n",
       "      <th>667</th>\n",
       "      <td>0.027088</td>\n",
       "      <td>9.488232e-01</td>\n",
       "      <td>True</td>\n",
       "    </tr>\n",
       "  </tbody>\n",
       "</table>\n",
       "<p>26052 rows × 3 columns</p>\n",
       "</div>"
      ],
      "text/plain": [
       "                                                                          bce_loss  \\\n",
       "Model                                              Grid displacement                 \n",
       "../models/BondiNets/12x12_block_nets/net-BondiN... 0                 0    0.000000   \n",
       "                                                                     1    0.000000   \n",
       "                                                                     2    0.000209   \n",
       "                                                                     3    0.000209   \n",
       "                                                                     4    0.000016   \n",
       "...                                                                            ...   \n",
       "../models/BondiNets_random_crop/12x12_block_net... 12                663  0.000022   \n",
       "                                                                     664  0.002509   \n",
       "                                                                     665  0.002509   \n",
       "                                                                     666  0.027088   \n",
       "                                                                     667  0.027088   \n",
       "\n",
       "                                                                                  pred  \\\n",
       "Model                                              Grid displacement                     \n",
       "../models/BondiNets/12x12_block_nets/net-BondiN... 0                 0    8.371470e-09   \n",
       "                                                                     1    1.000000e+00   \n",
       "                                                                     2    9.389042e-07   \n",
       "                                                                     3    9.995822e-01   \n",
       "                                                                     4    6.133889e-07   \n",
       "...                                                                                ...   \n",
       "../models/BondiNets_random_crop/12x12_block_net... 12                663  9.999579e-01   \n",
       "                                                                     664  3.239692e-05   \n",
       "                                                                     665  9.950263e-01   \n",
       "                                                                     666  1.641508e-03   \n",
       "                                                                     667  9.488232e-01   \n",
       "\n",
       "                                                                          labels  \n",
       "Model                                              Grid displacement              \n",
       "../models/BondiNets/12x12_block_nets/net-BondiN... 0                 0     False  \n",
       "                                                                     1      True  \n",
       "                                                                     2     False  \n",
       "                                                                     3      True  \n",
       "                                                                     4     False  \n",
       "...                                                                          ...  \n",
       "../models/BondiNets_random_crop/12x12_block_net... 12                663    True  \n",
       "                                                                     664   False  \n",
       "                                                                     665    True  \n",
       "                                                                     666   False  \n",
       "                                                                     667    True  \n",
       "\n",
       "[26052 rows x 3 columns]"
      ]
     },
     "execution_count": 79,
     "metadata": {},
     "output_type": "execute_result"
    }
   ],
   "source": [
    "# Select the results\n",
    "results_df = all_stride_dfs.loc[1]\n",
    "results_df"
   ]
  },
  {
   "cell_type": "markdown",
   "id": "3082099e",
   "metadata": {},
   "source": [
    "##### Absolute Score Difference (ADS)"
   ]
  },
  {
   "cell_type": "code",
   "execution_count": 81,
   "id": "c956334f",
   "metadata": {},
   "outputs": [
    {
     "name": "stderr",
     "output_type": "stream",
     "text": [
      "/tmp/ipykernel_3671715/128720143.py:16: PerformanceWarning: indexing past lexsort depth may impact performance.\n",
      "  pred_df = results_df.loc[(model_path), 'pred']\n"
     ]
    },
    {
     "data": {
      "image/png": "[encoded data removed]",
      "text/plain": [
       "<Figure size 1000x300 with 1 Axes>"
      ]
     },
     "metadata": {},
     "output_type": "display_data"
    }
   ],
   "source": [
    "# Prepare plot\n",
    "fig, axs = plt.subplots(1, 1, figsize=(10, 3))\n",
    "fontsize=20\n",
    "markers = ['o', '*', 'v', '^']\n",
    "color_maps = {'BondiNetVS': '#1f77b4', 'AA-BondiNetVS pool only': '#ff7f0e', \n",
    "              'AA-BondiNetVS': '#2ca02c', 'BondiNetVS random crop': '#d62728'}\n",
    "for idx, model_path in enumerate(results_df.index.get_level_values(0).unique()):\n",
    "    fl_stride = int(model_path.split('fl_stride-')[1].split('_')[0])\n",
    "    net_name = model_path.split('net-')[1].split('_')[0]\n",
    "    if net_name == 'BondiNet':\n",
    "        label = f'BondiNetVS {fl_stride}x{fl_stride} random crop' if 'random_crop-True' in model_path else f'BondiNetVS {fl_stride}x{fl_stride}'\n",
    "        color = color_maps['BondiNetVS random crop'] if 'random_crop-True' in model_path else color_maps['BondiNetVS']\n",
    "    else:\n",
    "        label = f'AA-BondiNetVS {fl_stride}x{fl_stride}'\n",
    "        color = color_maps['AA-BondiNetVS']\n",
    "    pred_df = results_df.loc[(model_path), 'pred']\n",
    "    differences = []\n",
    "    for disp in range(int(jpeg_bs)+1):\n",
    "        differences.append(np.mean(np.abs(pred_df.loc[disp].to_numpy() - pred_df.loc[0].to_numpy()))*100)\n",
    "    if markers[idx] == '*':\n",
    "        axs.plot(differences, label=label, marker=markers[idx], linewidth=2, markersize=8, color=color)\n",
    "    else:\n",
    "        axs.plot(differences, label=label, marker=markers[idx], linewidth=2, markersize=6, color=color)\n",
    "axs.legend(fontsize=fontsize-5, ncols=1, loc='upper center')\n",
    "axs.set_ylabel(r'ASD \\%', fontsize=fontsize-5)\n",
    "axs.tick_params('both', labelsize=fontsize-5)\n",
    "axs.set_xlabel(r'Diagonal displacement [\\# pixels]', fontsize=fontsize-5)\n",
    "axs.grid('on')\n",
    "axs.set_ylim([-5, 100])\n",
    "axs.set_yticks(np.arange(0, 110, 10))\n",
    "axs.set_xticks(np.arange(int(jpeg_bs)+1))\n",
    "plt.show()"
   ]
  },
  {
   "cell_type": "markdown",
   "id": "532b38e3",
   "metadata": {},
   "source": [
    "##### BCE loss"
   ]
  },
  {
   "cell_type": "code",
   "execution_count": 88,
   "id": "81e6b710",
   "metadata": {},
   "outputs": [
    {
     "data": {
      "image/png": "[encoded data removed]",
      "text/plain": [
       "<Figure size 1000x300 with 1 Axes>"
      ]
     },
     "metadata": {},
     "output_type": "display_data"
    }
   ],
   "source": [
    "# Prepare plot\n",
    "fontsize=20\n",
    "fig, axs = plt.subplots(1, 1, figsize=(10, 3))\n",
    "markers = ['o', '*', 'v', '^']\n",
    "color_maps = {'BondiNetVS': '#1f77b4', 'AA-BondiNetVS pool only': '#ff7f0e', \n",
    "              'AA-BondiNetVS': '#2ca02c', 'BondiNetVS random crop': '#d62728'}\n",
    "for idx, model_path in enumerate(results_df.index.get_level_values(0).unique()):\n",
    "    fl_stride = int(model_path.split('fl_stride-')[1].split('_')[0])\n",
    "    net_name = model_path.split('net-')[1].split('_')[0]\n",
    "    if net_name == 'BondiNet':\n",
    "        label = f'BondiNetVS {fl_stride}x{fl_stride} random crop' if 'random_crop-True' in model_path else f'BondiNetVS {fl_stride}x{fl_stride}'\n",
    "        color = color_maps['BondiNetVS random crop'] if 'random_crop-True' in model_path else color_maps['BondiNetVS']\n",
    "    else:\n",
    "        label = f'AA-BondiNetVS {fl_stride}x{fl_stride}'\n",
    "        color = color_maps['AA-BondiNetVS']\n",
    "    test_df = results_df.loc[(model_path)]\n",
    "    mean_df = test_df.groupby('Grid displacement').mean()\n",
    "    marker_size = 8 if markers[idx] == '*' else 6\n",
    "    axs.plot(mean_df['bce_loss'], label=label, marker=markers[idx], markersize=marker_size, linewidth=2,\n",
    "            color=color)\n",
    "axs.legend(fontsize=fontsize-5)\n",
    "axs.set_ylabel(r'BCE loss', fontsize=fontsize-5)\n",
    "axs.tick_params('both', labelsize=fontsize-5)\n",
    "axs.set_xlabel(r'Diagonal displacement [\\# pixels]', fontsize=fontsize-5)\n",
    "axs.grid('on')\n",
    "axs.set_ylim([-0.5, 12])\n",
    "axs.set_xticks(np.arange(int(jpeg_bs)+1))\n",
    "plt.show()"
   ]
  },
  {
   "cell_type": "markdown",
   "id": "873c77fc",
   "metadata": {},
   "source": [
    "#### 2x2 stride networks"
   ]
  },
  {
   "cell_type": "code",
   "execution_count": 89,
   "id": "d4d43f64",
   "metadata": {},
   "outputs": [
    {
     "data": {
      "text/html": [
       "<div>\n",
       "<style scoped>\n",
       "    .dataframe tbody tr th:only-of-type {\n",
       "        vertical-align: middle;\n",
       "    }\n",
       "\n",
       "    .dataframe tbody tr th {\n",
       "        vertical-align: top;\n",
       "    }\n",
       "\n",
       "    .dataframe thead th {\n",
       "        text-align: right;\n",
       "    }\n",
       "</style>\n",
       "<table border=\"1\" class=\"dataframe\">\n",
       "  <thead>\n",
       "    <tr style=\"text-align: right;\">\n",
       "      <th></th>\n",
       "      <th></th>\n",
       "      <th></th>\n",
       "      <th>bce_loss</th>\n",
       "      <th>pred</th>\n",
       "      <th>labels</th>\n",
       "    </tr>\n",
       "    <tr>\n",
       "      <th>Model</th>\n",
       "      <th>Grid displacement</th>\n",
       "      <th></th>\n",
       "      <th></th>\n",
       "      <th></th>\n",
       "      <th></th>\n",
       "    </tr>\n",
       "  </thead>\n",
       "  <tbody>\n",
       "    <tr>\n",
       "      <th rowspan=\"5\" valign=\"top\">../models/BondiNets/12x12_block_nets/net-BondiNet_lr-0.001_batch_size-32_split_train_test-0.75_split_train_val-0.75_split_seed-42_in_channels-1_init_period-10_jpeg_bs-12_fl_stride-2_grayscale-True_random_crop-False/bestval.pth</th>\n",
       "      <th rowspan=\"5\" valign=\"top\">0</th>\n",
       "      <th>0</th>\n",
       "      <td>0.005947</td>\n",
       "      <td>0.000006</td>\n",
       "      <td>False</td>\n",
       "    </tr>\n",
       "    <tr>\n",
       "      <th>1</th>\n",
       "      <td>0.005947</td>\n",
       "      <td>0.988184</td>\n",
       "      <td>True</td>\n",
       "    </tr>\n",
       "    <tr>\n",
       "      <th>2</th>\n",
       "      <td>0.074158</td>\n",
       "      <td>0.129553</td>\n",
       "      <td>False</td>\n",
       "    </tr>\n",
       "    <tr>\n",
       "      <th>3</th>\n",
       "      <td>0.074158</td>\n",
       "      <td>0.990478</td>\n",
       "      <td>True</td>\n",
       "    </tr>\n",
       "    <tr>\n",
       "      <th>4</th>\n",
       "      <td>0.001010</td>\n",
       "      <td>0.000021</td>\n",
       "      <td>False</td>\n",
       "    </tr>\n",
       "    <tr>\n",
       "      <th>...</th>\n",
       "      <th>...</th>\n",
       "      <th>...</th>\n",
       "      <td>...</td>\n",
       "      <td>...</td>\n",
       "      <td>...</td>\n",
       "    </tr>\n",
       "    <tr>\n",
       "      <th rowspan=\"5\" valign=\"top\">../models/BondiNets_random_crop/12x12_block_nets/net-BondiNet_lr-0.001_batch_size-32_split_train_test-0.75_split_train_val-0.75_split_seed-42_in_channels-1_init_period-10_jpeg_bs-12_fl_stride-2_grayscale-True_random_crop-True/bestval.pth</th>\n",
       "      <th rowspan=\"5\" valign=\"top\">12</th>\n",
       "      <th>663</th>\n",
       "      <td>0.000000</td>\n",
       "      <td>1.000000</td>\n",
       "      <td>True</td>\n",
       "    </tr>\n",
       "    <tr>\n",
       "      <th>664</th>\n",
       "      <td>0.000102</td>\n",
       "      <td>0.000080</td>\n",
       "      <td>False</td>\n",
       "    </tr>\n",
       "    <tr>\n",
       "      <th>665</th>\n",
       "      <td>0.000102</td>\n",
       "      <td>0.999876</td>\n",
       "      <td>True</td>\n",
       "    </tr>\n",
       "    <tr>\n",
       "      <th>666</th>\n",
       "      <td>0.000323</td>\n",
       "      <td>0.000264</td>\n",
       "      <td>False</td>\n",
       "    </tr>\n",
       "    <tr>\n",
       "      <th>667</th>\n",
       "      <td>0.000323</td>\n",
       "      <td>0.999619</td>\n",
       "      <td>True</td>\n",
       "    </tr>\n",
       "  </tbody>\n",
       "</table>\n",
       "<p>34736 rows × 3 columns</p>\n",
       "</div>"
      ],
      "text/plain": [
       "                                                                          bce_loss  \\\n",
       "Model                                              Grid displacement                 \n",
       "../models/BondiNets/12x12_block_nets/net-BondiN... 0                 0    0.005947   \n",
       "                                                                     1    0.005947   \n",
       "                                                                     2    0.074158   \n",
       "                                                                     3    0.074158   \n",
       "                                                                     4    0.001010   \n",
       "...                                                                            ...   \n",
       "../models/BondiNets_random_crop/12x12_block_net... 12                663  0.000000   \n",
       "                                                                     664  0.000102   \n",
       "                                                                     665  0.000102   \n",
       "                                                                     666  0.000323   \n",
       "                                                                     667  0.000323   \n",
       "\n",
       "                                                                              pred  \\\n",
       "Model                                              Grid displacement                 \n",
       "../models/BondiNets/12x12_block_nets/net-BondiN... 0                 0    0.000006   \n",
       "                                                                     1    0.988184   \n",
       "                                                                     2    0.129553   \n",
       "                                                                     3    0.990478   \n",
       "                                                                     4    0.000021   \n",
       "...                                                                            ...   \n",
       "../models/BondiNets_random_crop/12x12_block_net... 12                663  1.000000   \n",
       "                                                                     664  0.000080   \n",
       "                                                                     665  0.999876   \n",
       "                                                                     666  0.000264   \n",
       "                                                                     667  0.999619   \n",
       "\n",
       "                                                                          labels  \n",
       "Model                                              Grid displacement              \n",
       "../models/BondiNets/12x12_block_nets/net-BondiN... 0                 0     False  \n",
       "                                                                     1      True  \n",
       "                                                                     2     False  \n",
       "                                                                     3      True  \n",
       "                                                                     4     False  \n",
       "...                                                                          ...  \n",
       "../models/BondiNets_random_crop/12x12_block_net... 12                663    True  \n",
       "                                                                     664   False  \n",
       "                                                                     665    True  \n",
       "                                                                     666   False  \n",
       "                                                                     667    True  \n",
       "\n",
       "[34736 rows x 3 columns]"
      ]
     },
     "execution_count": 89,
     "metadata": {},
     "output_type": "execute_result"
    }
   ],
   "source": [
    "# Select the results\n",
    "results_df = all_stride_dfs.loc[2]\n",
    "results_df"
   ]
  },
  {
   "cell_type": "markdown",
   "id": "95ab802c",
   "metadata": {},
   "source": [
    "##### Absolute Score Difference (ASD)"
   ]
  },
  {
   "cell_type": "code",
   "execution_count": 91,
   "id": "da69e8e1",
   "metadata": {},
   "outputs": [
    {
     "name": "stderr",
     "output_type": "stream",
     "text": [
      "/tmp/ipykernel_3671715/3432697340.py:21: PerformanceWarning: indexing past lexsort depth may impact performance.\n",
      "  pred_df = results_df.loc[(model_path), 'pred']\n"
     ]
    },
    {
     "data": {
      "image/png": "[encoded data removed]",
      "text/plain": [
       "<Figure size 1000x300 with 1 Axes>"
      ]
     },
     "metadata": {},
     "output_type": "display_data"
    }
   ],
   "source": [
    "# Prepare plot\n",
    "fig, axs = plt.subplots(1, 1, figsize=(10, 3))\n",
    "fontsize=20\n",
    "markers = ['o', '*', 'v', '^']\n",
    "color_maps = {'BondiNetVS': '#1f77b4', 'AA-BondiNetVS pool only': '#ff7f0e', \n",
    "              'AA-BondiNetVS': '#2ca02c', 'BondiNetVS random crop': '#d62728'}\n",
    "for idx, model_path in enumerate(results_df.index.get_level_values(0).unique()):\n",
    "    fl_stride = int(model_path.split('fl_stride-')[1].split('_')[0])\n",
    "    net_name = model_path.split('net-')[1].split('_')[0]\n",
    "    if net_name == 'BondiNet':\n",
    "        label = f'BondiNetVS {fl_stride}x{fl_stride} random crop' if 'random_crop-True' in model_path else f'BondiNetVS {fl_stride}x{fl_stride}'\n",
    "        color = color_maps['BondiNetVS random crop'] if 'random_crop-True' in model_path else color_maps['BondiNetVS']\n",
    "    else:\n",
    "        label = f'AA-BondiNetVS {fl_stride}x{fl_stride}'\n",
    "        if 'pool_only-False' in model_path:\n",
    "            label += ' full'\n",
    "            color = color_maps['AA-BondiNetVS']\n",
    "        else:\n",
    "            label += ' pool only'\n",
    "            color = color_maps['AA-BondiNetVS pool only']\n",
    "    pred_df = results_df.loc[(model_path), 'pred']\n",
    "    differences = []\n",
    "    for disp in range(int(jpeg_bs)+1):\n",
    "        differences.append(np.mean(np.abs(pred_df.loc[disp].to_numpy() - pred_df.loc[0].to_numpy()))*100)\n",
    "    if markers[idx] == '*':\n",
    "        axs.plot(differences, label=label, marker=markers[idx], linewidth=2, markersize=8, color=color)\n",
    "    else:\n",
    "        axs.plot(differences, label=label, marker=markers[idx], linewidth=2, markersize=6, color=color)\n",
    "axs.legend(fontsize=fontsize-5, ncols=1, loc='upper center')\n",
    "axs.set_ylabel(r'ASD \\%', fontsize=fontsize-5)\n",
    "axs.tick_params('both', labelsize=fontsize-5)\n",
    "axs.set_xlabel(r'Diagonal displacement [\\# pixels]', fontsize=fontsize-5)\n",
    "axs.grid('on')\n",
    "axs.set_ylim([-5, 100])\n",
    "axs.set_yticks(np.arange(0, 110, 10))\n",
    "axs.set_xticks(np.arange(int(jpeg_bs)+1))\n",
    "plt.show()"
   ]
  },
  {
   "cell_type": "markdown",
   "id": "e7ef320a",
   "metadata": {},
   "source": [
    "##### BCE loss"
   ]
  },
  {
   "cell_type": "code",
   "execution_count": 95,
   "id": "a3adc716",
   "metadata": {},
   "outputs": [
    {
     "data": {
      "image/png": "[encoded data removed]",
      "text/plain": [
       "<Figure size 1000x300 with 1 Axes>"
      ]
     },
     "metadata": {},
     "output_type": "display_data"
    }
   ],
   "source": [
    "# Prepare plot\n",
    "fontsize=20\n",
    "fig, axs = plt.subplots(1, 1, figsize=(10, 3))\n",
    "markers = ['o', '*', 'v', '^']\n",
    "color_maps = {'BondiNetVS': '#1f77b4', 'AA-BondiNetVS pool only': '#ff7f0e', \n",
    "              'AA-BondiNetVS': '#2ca02c', 'BondiNetVS random crop': '#d62728'}\n",
    "for idx, model_path in enumerate(results_df.index.get_level_values(0).unique()):\n",
    "    fl_stride = int(model_path.split('fl_stride-')[1].split('_')[0])\n",
    "    net_name = model_path.split('net-')[1].split('_')[0]\n",
    "    if net_name == 'BondiNet':\n",
    "        label = f'BondiNetVS {fl_stride}x{fl_stride} random crop' if 'random_crop-True' in model_path else f'BondiNetVS {fl_stride}x{fl_stride}'\n",
    "        color = color_maps['BondiNetVS random crop'] if 'random_crop-True' in model_path else color_maps['BondiNetVS']\n",
    "    else:\n",
    "        label = f'AA-BondiNetVS {fl_stride}x{fl_stride}'\n",
    "        if 'pool_only-False' in model_path:\n",
    "            label += ' full'\n",
    "            color = color_maps['AA-BondiNetVS']\n",
    "        else:\n",
    "            label += ' pool only'\n",
    "            color = color_maps['AA-BondiNetVS pool only']\n",
    "    test_df = results_df.loc[(model_path)]\n",
    "    mean_df = test_df.groupby('Grid displacement').mean()\n",
    "    marker_size = 8 if markers[idx] == '*' else 6\n",
    "    axs.plot(mean_df['bce_loss'], label=label, marker=markers[idx], markersize=marker_size, linewidth=2,\n",
    "            color=color)\n",
    "axs.legend(fontsize=fontsize-5)\n",
    "axs.set_ylabel(r'BCE loss', fontsize=fontsize-5)\n",
    "axs.tick_params('both', labelsize=fontsize-5)\n",
    "axs.set_xlabel(r'Diagonal displacement [\\# pixels]', fontsize=fontsize-5)\n",
    "axs.grid('on')\n",
    "axs.set_ylim([-0.5, 4])\n",
    "axs.set_xticks(np.arange(int(jpeg_bs)+1))\n",
    "plt.show()"
   ]
  },
  {
   "cell_type": "markdown",
   "id": "23895d2a",
   "metadata": {},
   "source": [
    "#### 3x3 stride networks"
   ]
  },
  {
   "cell_type": "code",
   "execution_count": 96,
   "id": "928f860b",
   "metadata": {},
   "outputs": [
    {
     "data": {
      "text/html": [
       "<div>\n",
       "<style scoped>\n",
       "    .dataframe tbody tr th:only-of-type {\n",
       "        vertical-align: middle;\n",
       "    }\n",
       "\n",
       "    .dataframe tbody tr th {\n",
       "        vertical-align: top;\n",
       "    }\n",
       "\n",
       "    .dataframe thead th {\n",
       "        text-align: right;\n",
       "    }\n",
       "</style>\n",
       "<table border=\"1\" class=\"dataframe\">\n",
       "  <thead>\n",
       "    <tr style=\"text-align: right;\">\n",
       "      <th></th>\n",
       "      <th></th>\n",
       "      <th></th>\n",
       "      <th>bce_loss</th>\n",
       "      <th>pred</th>\n",
       "      <th>labels</th>\n",
       "    </tr>\n",
       "    <tr>\n",
       "      <th>Model</th>\n",
       "      <th>Grid displacement</th>\n",
       "      <th></th>\n",
       "      <th></th>\n",
       "      <th></th>\n",
       "      <th></th>\n",
       "    </tr>\n",
       "  </thead>\n",
       "  <tbody>\n",
       "    <tr>\n",
       "      <th rowspan=\"5\" valign=\"top\">../models/BondiNets/12x12_block_nets/net-BondiNet_lr-0.001_batch_size-32_split_train_test-0.75_split_train_val-0.75_split_seed-42_in_channels-1_init_period-10_jpeg_bs-12_fl_stride-3_grayscale-True_random_crop-False/bestval.pth</th>\n",
       "      <th rowspan=\"5\" valign=\"top\">0</th>\n",
       "      <th>0</th>\n",
       "      <td>0.000117</td>\n",
       "      <td>1.334154e-04</td>\n",
       "      <td>False</td>\n",
       "    </tr>\n",
       "    <tr>\n",
       "      <th>1</th>\n",
       "      <td>0.000117</td>\n",
       "      <td>9.999000e-01</td>\n",
       "      <td>True</td>\n",
       "    </tr>\n",
       "    <tr>\n",
       "      <th>2</th>\n",
       "      <td>0.000003</td>\n",
       "      <td>7.253739e-09</td>\n",
       "      <td>False</td>\n",
       "    </tr>\n",
       "    <tr>\n",
       "      <th>3</th>\n",
       "      <td>0.000003</td>\n",
       "      <td>9.999940e-01</td>\n",
       "      <td>True</td>\n",
       "    </tr>\n",
       "    <tr>\n",
       "      <th>4</th>\n",
       "      <td>0.000087</td>\n",
       "      <td>2.344525e-05</td>\n",
       "      <td>False</td>\n",
       "    </tr>\n",
       "    <tr>\n",
       "      <th>...</th>\n",
       "      <th>...</th>\n",
       "      <th>...</th>\n",
       "      <td>...</td>\n",
       "      <td>...</td>\n",
       "      <td>...</td>\n",
       "    </tr>\n",
       "    <tr>\n",
       "      <th rowspan=\"5\" valign=\"top\">../models/BondiNets_random_crop/12x12_block_nets/net-BondiNet_lr-0.001_batch_size-32_split_train_test-0.75_split_train_val-0.75_split_seed-42_in_channels-1_init_period-10_jpeg_bs-12_fl_stride-3_grayscale-True_random_crop-True/bestval.pth</th>\n",
       "      <th rowspan=\"5\" valign=\"top\">12</th>\n",
       "      <th>663</th>\n",
       "      <td>0.000042</td>\n",
       "      <td>9.999151e-01</td>\n",
       "      <td>True</td>\n",
       "    </tr>\n",
       "    <tr>\n",
       "      <th>664</th>\n",
       "      <td>0.001514</td>\n",
       "      <td>8.028135e-04</td>\n",
       "      <td>False</td>\n",
       "    </tr>\n",
       "    <tr>\n",
       "      <th>665</th>\n",
       "      <td>0.001514</td>\n",
       "      <td>9.977768e-01</td>\n",
       "      <td>True</td>\n",
       "    </tr>\n",
       "    <tr>\n",
       "      <th>666</th>\n",
       "      <td>0.005451</td>\n",
       "      <td>1.082206e-02</td>\n",
       "      <td>False</td>\n",
       "    </tr>\n",
       "    <tr>\n",
       "      <th>667</th>\n",
       "      <td>0.005451</td>\n",
       "      <td>9.999782e-01</td>\n",
       "      <td>True</td>\n",
       "    </tr>\n",
       "  </tbody>\n",
       "</table>\n",
       "<p>34736 rows × 3 columns</p>\n",
       "</div>"
      ],
      "text/plain": [
       "                                                                          bce_loss  \\\n",
       "Model                                              Grid displacement                 \n",
       "../models/BondiNets/12x12_block_nets/net-BondiN... 0                 0    0.000117   \n",
       "                                                                     1    0.000117   \n",
       "                                                                     2    0.000003   \n",
       "                                                                     3    0.000003   \n",
       "                                                                     4    0.000087   \n",
       "...                                                                            ...   \n",
       "../models/BondiNets_random_crop/12x12_block_net... 12                663  0.000042   \n",
       "                                                                     664  0.001514   \n",
       "                                                                     665  0.001514   \n",
       "                                                                     666  0.005451   \n",
       "                                                                     667  0.005451   \n",
       "\n",
       "                                                                                  pred  \\\n",
       "Model                                              Grid displacement                     \n",
       "../models/BondiNets/12x12_block_nets/net-BondiN... 0                 0    1.334154e-04   \n",
       "                                                                     1    9.999000e-01   \n",
       "                                                                     2    7.253739e-09   \n",
       "                                                                     3    9.999940e-01   \n",
       "                                                                     4    2.344525e-05   \n",
       "...                                                                                ...   \n",
       "../models/BondiNets_random_crop/12x12_block_net... 12                663  9.999151e-01   \n",
       "                                                                     664  8.028135e-04   \n",
       "                                                                     665  9.977768e-01   \n",
       "                                                                     666  1.082206e-02   \n",
       "                                                                     667  9.999782e-01   \n",
       "\n",
       "                                                                          labels  \n",
       "Model                                              Grid displacement              \n",
       "../models/BondiNets/12x12_block_nets/net-BondiN... 0                 0     False  \n",
       "                                                                     1      True  \n",
       "                                                                     2     False  \n",
       "                                                                     3      True  \n",
       "                                                                     4     False  \n",
       "...                                                                          ...  \n",
       "../models/BondiNets_random_crop/12x12_block_net... 12                663    True  \n",
       "                                                                     664   False  \n",
       "                                                                     665    True  \n",
       "                                                                     666   False  \n",
       "                                                                     667    True  \n",
       "\n",
       "[34736 rows x 3 columns]"
      ]
     },
     "execution_count": 96,
     "metadata": {},
     "output_type": "execute_result"
    }
   ],
   "source": [
    "# Select the results\n",
    "results_df = all_stride_dfs.loc[3]\n",
    "results_df"
   ]
  },
  {
   "cell_type": "markdown",
   "id": "56abb307",
   "metadata": {},
   "source": [
    "##### Absolute Score Difference (ASD)"
   ]
  },
  {
   "cell_type": "code",
   "execution_count": 102,
   "id": "a6476f7d",
   "metadata": {},
   "outputs": [
    {
     "name": "stderr",
     "output_type": "stream",
     "text": [
      "/tmp/ipykernel_3671715/3284426042.py:21: PerformanceWarning: indexing past lexsort depth may impact performance.\n",
      "  pred_df = results_df.loc[(model_path), 'pred']\n"
     ]
    },
    {
     "data": {
      "image/png": "[encoded data removed]",
      "text/plain": [
       "<Figure size 1000x300 with 1 Axes>"
      ]
     },
     "metadata": {},
     "output_type": "display_data"
    }
   ],
   "source": [
    "# Prepare plot\n",
    "fig, axs = plt.subplots(1, 1, figsize=(10, 3))\n",
    "fontsize=20\n",
    "markers = ['o', '*', 'v', '^']\n",
    "color_maps = {'BondiNetVS': '#1f77b4', 'AA-BondiNetVS pool only': '#ff7f0e', \n",
    "              'AA-BondiNetVS': '#2ca02c', 'BondiNetVS random crop': '#d62728'}\n",
    "for idx, model_path in enumerate(results_df.index.get_level_values(0).unique()):\n",
    "    fl_stride = int(model_path.split('fl_stride-')[1].split('_')[0])\n",
    "    net_name = model_path.split('net-')[1].split('_')[0]\n",
    "    if net_name == 'BondiNet':\n",
    "        label = f'BondiNetVS {fl_stride}x{fl_stride} random crop' if 'random_crop-True' in model_path else f'BondiNetVS {fl_stride}x{fl_stride}'\n",
    "        color = color_maps['BondiNetVS random crop'] if 'random_crop-True' in model_path else color_maps['BondiNetVS']\n",
    "    else:\n",
    "        label = f'AA-BondiNetVS {fl_stride}x{fl_stride}'\n",
    "        if 'pool_only-False' in model_path:\n",
    "            label += ' full'\n",
    "            color = color_maps['AA-BondiNetVS']\n",
    "        else:\n",
    "            label += ' pool only'\n",
    "            color = color_maps['AA-BondiNetVS pool only']\n",
    "    pred_df = results_df.loc[(model_path), 'pred']\n",
    "    differences = []\n",
    "    for disp in range(int(jpeg_bs)+1):\n",
    "        differences.append(np.mean(np.abs(pred_df.loc[disp].to_numpy() - pred_df.loc[0].to_numpy()))*100)\n",
    "    if markers[idx] == '*':\n",
    "        axs.plot(differences, label=label, marker=markers[idx], linewidth=2, markersize=8, color=color)\n",
    "    else:\n",
    "        axs.plot(differences, label=label, marker=markers[idx], linewidth=2, markersize=6, color=color)\n",
    "axs.legend(fontsize=fontsize-5, ncols=1, loc='upper center', bbox_to_anchor=(0.5, 1.05))\n",
    "axs.set_ylabel(r'ASD \\%', fontsize=fontsize-5)\n",
    "axs.tick_params('both', labelsize=fontsize-5)\n",
    "axs.set_xlabel(r'Diagonal displacement [\\# pixels]', fontsize=fontsize-5)\n",
    "axs.grid('on')\n",
    "axs.set_ylim([-5, 100])\n",
    "axs.set_yticks(np.arange(0, 110, 10))\n",
    "axs.set_xticks(np.arange(int(jpeg_bs)+1))\n",
    "plt.show()"
   ]
  },
  {
   "cell_type": "code",
   "execution_count": 103,
   "id": "ebe62460",
   "metadata": {},
   "outputs": [
    {
     "data": {
      "image/png": "[encoded data removed]",
      "text/plain": [
       "<Figure size 1000x300 with 1 Axes>"
      ]
     },
     "metadata": {},
     "output_type": "display_data"
    }
   ],
   "source": [
    "# Prepare plot\n",
    "fontsize=20\n",
    "fig, axs = plt.subplots(1, 1, figsize=(10, 3))\n",
    "markers = ['o', '*', 'v', '^']\n",
    "color_maps = {'BondiNetVS': '#1f77b4', 'AA-BondiNetVS pool only': '#ff7f0e', \n",
    "              'AA-BondiNetVS': '#2ca02c', 'BondiNetVS random crop': '#d62728'}\n",
    "for idx, model_path in enumerate(results_df.index.get_level_values(0).unique()):\n",
    "    fl_stride = int(model_path.split('fl_stride-')[1].split('_')[0])\n",
    "    net_name = model_path.split('net-')[1].split('_')[0]\n",
    "    if net_name == 'BondiNet':\n",
    "        label = f'BondiNetVS {fl_stride}x{fl_stride} random crop' if 'random_crop-True' in model_path else f'BondiNetVS {fl_stride}x{fl_stride}'\n",
    "        color = color_maps['BondiNetVS random crop'] if 'random_crop-True' in model_path else color_maps['BondiNetVS']\n",
    "    else:\n",
    "        label = f'AA-BondiNetVS {fl_stride}x{fl_stride}'\n",
    "        if 'pool_only-False' in model_path:\n",
    "            label += ' full'\n",
    "            color = color_maps['AA-BondiNetVS']\n",
    "        else:\n",
    "            label += ' pool only'\n",
    "            color = color_maps['AA-BondiNetVS pool only']\n",
    "    test_df = results_df.loc[(model_path)]\n",
    "    mean_df = test_df.groupby('Grid displacement').mean()\n",
    "    marker_size = 8 if markers[idx] == '*' else 6\n",
    "    axs.plot(mean_df['bce_loss'], label=label, marker=markers[idx], markersize=marker_size, linewidth=2,\n",
    "            color=color)\n",
    "axs.legend(fontsize=fontsize-5, ncols=1, loc='upper center', bbox_to_anchor=(0.5, 1.05))\n",
    "axs.set_ylabel(r'BCE loss', fontsize=fontsize-5)\n",
    "axs.tick_params('both', labelsize=fontsize-5)\n",
    "axs.set_xlabel(r'Diagonal displacement [\\# pixels]', fontsize=fontsize-5)\n",
    "axs.grid('on')\n",
    "axs.set_ylim([-0.5, 10])\n",
    "axs.set_xticks(np.arange(int(jpeg_bs)+1))\n",
    "plt.show()"
   ]
  },
  {
   "cell_type": "markdown",
   "id": "7ab15239",
   "metadata": {},
   "source": [
    "#### 4x4 stride networks"
   ]
  },
  {
   "cell_type": "code",
   "execution_count": 104,
   "id": "13e149a0",
   "metadata": {},
   "outputs": [
    {
     "data": {
      "text/html": [
       "<div>\n",
       "<style scoped>\n",
       "    .dataframe tbody tr th:only-of-type {\n",
       "        vertical-align: middle;\n",
       "    }\n",
       "\n",
       "    .dataframe tbody tr th {\n",
       "        vertical-align: top;\n",
       "    }\n",
       "\n",
       "    .dataframe thead th {\n",
       "        text-align: right;\n",
       "    }\n",
       "</style>\n",
       "<table border=\"1\" class=\"dataframe\">\n",
       "  <thead>\n",
       "    <tr style=\"text-align: right;\">\n",
       "      <th></th>\n",
       "      <th></th>\n",
       "      <th></th>\n",
       "      <th>bce_loss</th>\n",
       "      <th>pred</th>\n",
       "      <th>labels</th>\n",
       "    </tr>\n",
       "    <tr>\n",
       "      <th>Model</th>\n",
       "      <th>Grid displacement</th>\n",
       "      <th></th>\n",
       "      <th></th>\n",
       "      <th></th>\n",
       "      <th></th>\n",
       "    </tr>\n",
       "  </thead>\n",
       "  <tbody>\n",
       "    <tr>\n",
       "      <th rowspan=\"5\" valign=\"top\">../models/BondiNets/12x12_block_nets/net-BondiNet_lr-0.001_batch_size-32_split_train_test-0.75_split_train_val-0.75_split_seed-42_in_channels-1_init_period-10_jpeg_bs-12_fl_stride-4_grayscale-True_random_crop-False/bestval.pth</th>\n",
       "      <th rowspan=\"5\" valign=\"top\">0</th>\n",
       "      <th>0</th>\n",
       "      <td>3.576278e-07</td>\n",
       "      <td>6.444982e-07</td>\n",
       "      <td>False</td>\n",
       "    </tr>\n",
       "    <tr>\n",
       "      <th>1</th>\n",
       "      <td>3.576278e-07</td>\n",
       "      <td>9.999999e-01</td>\n",
       "      <td>True</td>\n",
       "    </tr>\n",
       "    <tr>\n",
       "      <th>2</th>\n",
       "      <td>5.960464e-08</td>\n",
       "      <td>7.431625e-08</td>\n",
       "      <td>False</td>\n",
       "    </tr>\n",
       "    <tr>\n",
       "      <th>3</th>\n",
       "      <td>5.960464e-08</td>\n",
       "      <td>1.000000e+00</td>\n",
       "      <td>True</td>\n",
       "    </tr>\n",
       "    <tr>\n",
       "      <th>4</th>\n",
       "      <td>2.088055e-03</td>\n",
       "      <td>4.167297e-03</td>\n",
       "      <td>False</td>\n",
       "    </tr>\n",
       "    <tr>\n",
       "      <th>...</th>\n",
       "      <th>...</th>\n",
       "      <th>...</th>\n",
       "      <td>...</td>\n",
       "      <td>...</td>\n",
       "      <td>...</td>\n",
       "    </tr>\n",
       "    <tr>\n",
       "      <th rowspan=\"5\" valign=\"top\">../models/BondiNets_random_crop/12x12_block_nets/net-BondiNet_lr-0.001_batch_size-32_split_train_test-0.75_split_train_val-0.75_split_seed-42_in_channels-1_init_period-10_jpeg_bs-12_fl_stride-4_grayscale-True_random_crop-True/bestval.pth</th>\n",
       "      <th rowspan=\"5\" valign=\"top\">12</th>\n",
       "      <th>663</th>\n",
       "      <td>2.610615e-05</td>\n",
       "      <td>1.000000e+00</td>\n",
       "      <td>True</td>\n",
       "    </tr>\n",
       "    <tr>\n",
       "      <th>664</th>\n",
       "      <td>4.436789e-04</td>\n",
       "      <td>8.868724e-04</td>\n",
       "      <td>False</td>\n",
       "    </tr>\n",
       "    <tr>\n",
       "      <th>665</th>\n",
       "      <td>4.436789e-04</td>\n",
       "      <td>9.999999e-01</td>\n",
       "      <td>True</td>\n",
       "    </tr>\n",
       "    <tr>\n",
       "      <th>666</th>\n",
       "      <td>2.679337e-03</td>\n",
       "      <td>4.554503e-03</td>\n",
       "      <td>False</td>\n",
       "    </tr>\n",
       "    <tr>\n",
       "      <th>667</th>\n",
       "      <td>2.679337e-03</td>\n",
       "      <td>9.992066e-01</td>\n",
       "      <td>True</td>\n",
       "    </tr>\n",
       "  </tbody>\n",
       "</table>\n",
       "<p>34736 rows × 3 columns</p>\n",
       "</div>"
      ],
      "text/plain": [
       "                                                                              bce_loss  \\\n",
       "Model                                              Grid displacement                     \n",
       "../models/BondiNets/12x12_block_nets/net-BondiN... 0                 0    3.576278e-07   \n",
       "                                                                     1    3.576278e-07   \n",
       "                                                                     2    5.960464e-08   \n",
       "                                                                     3    5.960464e-08   \n",
       "                                                                     4    2.088055e-03   \n",
       "...                                                                                ...   \n",
       "../models/BondiNets_random_crop/12x12_block_net... 12                663  2.610615e-05   \n",
       "                                                                     664  4.436789e-04   \n",
       "                                                                     665  4.436789e-04   \n",
       "                                                                     666  2.679337e-03   \n",
       "                                                                     667  2.679337e-03   \n",
       "\n",
       "                                                                                  pred  \\\n",
       "Model                                              Grid displacement                     \n",
       "../models/BondiNets/12x12_block_nets/net-BondiN... 0                 0    6.444982e-07   \n",
       "                                                                     1    9.999999e-01   \n",
       "                                                                     2    7.431625e-08   \n",
       "                                                                     3    1.000000e+00   \n",
       "                                                                     4    4.167297e-03   \n",
       "...                                                                                ...   \n",
       "../models/BondiNets_random_crop/12x12_block_net... 12                663  1.000000e+00   \n",
       "                                                                     664  8.868724e-04   \n",
       "                                                                     665  9.999999e-01   \n",
       "                                                                     666  4.554503e-03   \n",
       "                                                                     667  9.992066e-01   \n",
       "\n",
       "                                                                          labels  \n",
       "Model                                              Grid displacement              \n",
       "../models/BondiNets/12x12_block_nets/net-BondiN... 0                 0     False  \n",
       "                                                                     1      True  \n",
       "                                                                     2     False  \n",
       "                                                                     3      True  \n",
       "                                                                     4     False  \n",
       "...                                                                          ...  \n",
       "../models/BondiNets_random_crop/12x12_block_net... 12                663    True  \n",
       "                                                                     664   False  \n",
       "                                                                     665    True  \n",
       "                                                                     666   False  \n",
       "                                                                     667    True  \n",
       "\n",
       "[34736 rows x 3 columns]"
      ]
     },
     "execution_count": 104,
     "metadata": {},
     "output_type": "execute_result"
    }
   ],
   "source": [
    "# Select the results\n",
    "results_df = all_stride_dfs.loc[4]\n",
    "results_df"
   ]
  },
  {
   "cell_type": "markdown",
   "id": "0aac89f0",
   "metadata": {},
   "source": [
    "##### Absolute Score Difference (ASD)"
   ]
  },
  {
   "cell_type": "code",
   "execution_count": 105,
   "id": "7598eef0",
   "metadata": {},
   "outputs": [
    {
     "name": "stderr",
     "output_type": "stream",
     "text": [
      "/tmp/ipykernel_3671715/1668412918.py:21: PerformanceWarning: indexing past lexsort depth may impact performance.\n",
      "  pred_df = results_df.loc[(model_path), 'pred']\n"
     ]
    },
    {
     "data": {
      "image/png": "[encoded data removed]",
      "text/plain": [
       "<Figure size 1000x300 with 1 Axes>"
      ]
     },
     "metadata": {},
     "output_type": "display_data"
    }
   ],
   "source": [
    "# Prepare plot\n",
    "fig, axs = plt.subplots(1, 1, figsize=(10, 3))\n",
    "fontsize=20\n",
    "markers = ['o', '*', 'v', '^']\n",
    "color_maps = {'BondiNetVS': '#1f77b4', 'AA-BondiNetVS pool only': '#ff7f0e', \n",
    "              'AA-BondiNetVS': '#2ca02c', 'BondiNetVS random crop': '#d62728'}\n",
    "for idx, model_path in enumerate(results_df.index.get_level_values(0).unique()):\n",
    "    fl_stride = int(model_path.split('fl_stride-')[1].split('_')[0])\n",
    "    net_name = model_path.split('net-')[1].split('_')[0]\n",
    "    if net_name == 'BondiNet':\n",
    "        label = f'BondiNetVS {fl_stride}x{fl_stride} random crop' if 'random_crop-True' in model_path else f'BondiNetVS {fl_stride}x{fl_stride}'\n",
    "        color = color_maps['BondiNetVS random crop'] if 'random_crop-True' in model_path else color_maps['BondiNetVS']\n",
    "    else:\n",
    "        label = f'AA-BondiNetVS {fl_stride}x{fl_stride}'\n",
    "        if 'pool_only-False' in model_path:\n",
    "            label += ' full'\n",
    "            color = color_maps['AA-BondiNetVS']\n",
    "        else:\n",
    "            label += ' pool only'\n",
    "            color = color_maps['AA-BondiNetVS pool only']\n",
    "    pred_df = results_df.loc[(model_path), 'pred']\n",
    "    differences = []\n",
    "    for disp in range(int(jpeg_bs)+1):\n",
    "        differences.append(np.mean(np.abs(pred_df.loc[disp].to_numpy() - pred_df.loc[0].to_numpy()))*100)\n",
    "    if markers[idx] == '*':\n",
    "        axs.plot(differences, label=label, marker=markers[idx], linewidth=2, markersize=8, color=color)\n",
    "    else:\n",
    "        axs.plot(differences, label=label, marker=markers[idx], linewidth=2, markersize=6, color=color)\n",
    "axs.legend(fontsize=fontsize-5, ncols=2, loc='upper center')\n",
    "axs.set_ylabel(r'ASD \\%', fontsize=fontsize-5)\n",
    "axs.tick_params('both', labelsize=fontsize-5)\n",
    "axs.set_xlabel(r'Diagonal displacement [\\# pixels]', fontsize=fontsize-5)\n",
    "axs.grid('on')\n",
    "axs.set_ylim([-5, 100])\n",
    "axs.set_yticks(np.arange(0, 110, 10))\n",
    "axs.set_xticks(np.arange(int(jpeg_bs)+1))\n",
    "plt.show()"
   ]
  },
  {
   "cell_type": "markdown",
   "id": "095134aa",
   "metadata": {},
   "source": [
    "##### BCE loss"
   ]
  },
  {
   "cell_type": "code",
   "execution_count": 106,
   "id": "4d19182e",
   "metadata": {},
   "outputs": [
    {
     "data": {
      "image/png": "[encoded data removed]",
      "text/plain": [
       "<Figure size 1000x300 with 1 Axes>"
      ]
     },
     "metadata": {},
     "output_type": "display_data"
    }
   ],
   "source": [
    "# Prepare plot\n",
    "fontsize=20\n",
    "fig, axs = plt.subplots(1, 1, figsize=(10, 3))\n",
    "markers = ['o', '*', 'v', '^']\n",
    "color_maps = {'BondiNetVS': '#1f77b4', 'AA-BondiNetVS pool only': '#ff7f0e', \n",
    "              'AA-BondiNetVS': '#2ca02c', 'BondiNetVS random crop': '#d62728'}\n",
    "for idx, model_path in enumerate(results_df.index.get_level_values(0).unique()):\n",
    "    fl_stride = int(model_path.split('fl_stride-')[1].split('_')[0])\n",
    "    net_name = model_path.split('net-')[1].split('_')[0]\n",
    "    if net_name == 'BondiNet':\n",
    "        label = f'BondiNetVS {fl_stride}x{fl_stride} random crop' if 'random_crop-True' in model_path else f'BondiNetVS {fl_stride}x{fl_stride}'\n",
    "        color = color_maps['BondiNetVS random crop'] if 'random_crop-True' in model_path else color_maps['BondiNetVS']\n",
    "    else:\n",
    "        label = f'AA-BondiNetVS {fl_stride}x{fl_stride}'\n",
    "        if 'pool_only-False' in model_path:\n",
    "            label += ' full'\n",
    "            color = color_maps['AA-BondiNetVS']\n",
    "        else:\n",
    "            label += ' pool only'\n",
    "            color = color_maps['AA-BondiNetVS pool only']\n",
    "    test_df = results_df.loc[(model_path)]\n",
    "    mean_df = test_df.groupby('Grid displacement').mean()\n",
    "    marker_size = 8 if markers[idx] == '*' else 6\n",
    "    axs.plot(mean_df['bce_loss'], label=label, marker=markers[idx], markersize=marker_size, linewidth=2,\n",
    "            color=color)\n",
    "axs.legend(fontsize=fontsize-5, loc='upper center', bbox_to_anchor=(0.5, 1.05))\n",
    "axs.set_ylabel(r'BCE loss', fontsize=fontsize-5)\n",
    "axs.tick_params('both', labelsize=fontsize-5)\n",
    "axs.set_xlabel(r'Diagonal displacement [\\# pixels]', fontsize=fontsize-5)\n",
    "axs.grid('on')\n",
    "axs.set_ylim([-0.5, 10])\n",
    "axs.set_xticks(np.arange(int(jpeg_bs)+1))\n",
    "plt.show()"
   ]
  },
  {
   "cell_type": "markdown",
   "id": "66bba1b5",
   "metadata": {},
   "source": [
    "## Credits\n",
    "[Image and Sound Processing Lab (ISPL)](http://ispl.deib.polimi.it/)\n",
    "- Edoardo Daniele Cannas;\n",
    "- Sara Mandelli;\n",
    "- Paolo Bestagini;\n",
    "- Stefano Tubaro."
   ]
  },
  {
   "cell_type": "code",
   "execution_count": null,
   "id": "8dc4be2e",
   "metadata": {},
   "outputs": [],
   "source": []
  }
 ],
 "metadata": {
  "kernelspec": {
   "display_name": "Python 3 (ipykernel)",
   "language": "python",
   "name": "python3"
  },
  "language_info": {
   "codemirror_mode": {
    "name": "ipython",
    "version": 3
   },
   "file_extension": ".py",
   "mimetype": "text/x-python",
   "name": "python",
   "nbconvert_exporter": "python",
   "pygments_lexer": "ipython3",
   "version": "3.9.16"
  }
 },
 "nbformat": 4,
 "nbformat_minor": 5
}
