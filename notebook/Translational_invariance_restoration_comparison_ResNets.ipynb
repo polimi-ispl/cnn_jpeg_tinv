{
 "cells": [
  {
   "cell_type": "markdown",
   "id": "b7cb1210",
   "metadata": {
    "tags": []
   },
   "source": [
    "# Translational invariance restoration\n",
    "In this notebook we evaluate the solutions proposed by the literature, i.e., anti-aliasing and data augmentation, to restore translational invariance in CNNs in our use case of JPEG image analysis.  \n",
    "We are then going to compare three variants of the various **ResNets50**:\n",
    "1. Standard network;\n",
    "2. Anti-Aliasing (AA) full and pool only;\n",
    "3. Training a standard network with random crop data-augmentation.\n"
   ]
  },
  {
   "cell_type": "code",
   "execution_count": 1,
   "id": "bf531a7a",
   "metadata": {},
   "outputs": [
    {
     "name": "stderr",
     "output_type": "stream",
     "text": [
      "/tmp/ipykernel_533164/2448125026.py:18: MatplotlibDeprecationWarning: Support for setting an rcParam that expects a str value to a non-str value is deprecated since 3.5 and support will be removed two minor releases later.\n",
      "  mpl.rcParams['text.latex.preamble'] = [\n"
     ]
    }
   ],
   "source": [
    "# Sys libraries\n",
    "import os\n",
    "import glob\n",
    "import sys\n",
    "sys.path.append('../')\n",
    "from tqdm.notebook import tqdm\n",
    "\n",
    "# Plotting libraries\n",
    "import matplotlib.pyplot as plt\n",
    "import numpy as np\n",
    "from matplotlib import rc\n",
    "# SETTING THE PLOT parameters to the ACM font\n",
    "import matplotlib as mpl\n",
    "mpl.rcParams['font.family'] = 'serif'\n",
    "mpl.rcParams['font.serif'] = 'Linux Libertine O'\n",
    "mpl.rcParams['text.usetex'] = True\n",
    "mpl.rcParams['text.latex.preamble'] = [\n",
    "    r'\\usepackage{libertine}'\n",
    "]\n",
    "\n",
    "%matplotlib inline\n",
    "\n",
    "# Torch and data libraries\n",
    "import torch\n",
    "import torchvision\n",
    "import torchvision.transforms as transforms\n",
    "import torchvision.transforms.functional as TF\n",
    "from torch.utils.data import SubsetRandomSampler, SequentialSampler, DataLoader\n",
    "from isplutils.data import CustomBlockJPEGBalancedDataset\n",
    "import albumentations as A\n",
    "from albumentations.pytorch import ToTensorV2\n",
    "import pandas as pd\n",
    "from architectures import fornet\n",
    "from architectures.fornet import create_model\n",
    "import cv2"
   ]
  },
  {
   "cell_type": "markdown",
   "id": "8b4c3f0c",
   "metadata": {},
   "source": [
    "## Helpers functions and classes"
   ]
  },
  {
   "cell_type": "code",
   "execution_count": 2,
   "id": "e229c35f",
   "metadata": {},
   "outputs": [],
   "source": [
    "class TestJPEGBalancedDataset(CustomBlockJPEGBalancedDataset):\n",
    "    \n",
    "    # Override get_item\n",
    "    def __getitem__(self, idx):\n",
    "        # Select sample\n",
    "        row = self.df.iloc[idx]\n",
    "        # --- Load and transform uncompressed sample\n",
    "        if self.grayscale:\n",
    "            uncompressed = np.repeat(cv2.imread(os.path.join(self.data_root, row.name), cv2.IMREAD_GRAYSCALE)[:, :, np.newaxis], 3, axis=2).astype(np.float32)\n",
    "        else:\n",
    "            uncompressed = cv2.cvtColor(cv2.imread(os.path.join(self.data_root, row.name)), cv2.COLOR_BGR2RGB).astype(np.float32)\n",
    "        # Crop\n",
    "        if (self.disaligned_grid_patch[0] > 0) or (self.disaligned_grid_patch[1] > 0):\n",
    "            if ((self.patch_size + self.disaligned_grid_patch[0] > uncompressed.shape[0]) or\n",
    "                    (self.patch_size + self.disaligned_grid_patch[1] > uncompressed.shape[1])):\n",
    "                mirrored = cv2.copyMakeBorder(uncompressed,\n",
    "                                              0,\n",
    "                                              np.abs(self.patch_size + self.disaligned_grid_patch[0] - uncompressed.shape[0]),\n",
    "                                              0,\n",
    "                                              np.abs(self.patch_size + self.disaligned_grid_patch[1] - uncompressed.shape[1]),\n",
    "                                              cv2.BORDER_WRAP)\n",
    "                mirrored = mirrored[self.disaligned_grid_patch[0]:self.disaligned_grid_patch[0]+self.patch_size,\n",
    "                                    self.disaligned_grid_patch[1]:self.disaligned_grid_patch[1]+self.patch_size]\n",
    "                uncompressed = self.transforms(image=mirrored)['image']\n",
    "            else:\n",
    "                uncompressed = self.transforms(image=uncompressed[self.disaligned_grid_patch[0]:self.disaligned_grid_patch[0]+self.patch_size,\n",
    "                                                                  self.disaligned_grid_patch[1]:self.disaligned_grid_patch[1]+self.patch_size])['image']\n",
    "        else:\n",
    "            min_shape = np.min(uncompressed.shape)\n",
    "            if self.patch_size > min_shape:\n",
    "                mirrored = cv2.copyMakeBorder(uncompressed, 0, self.patch_size-min_shape, 0, self.patch_size-min_shape,\n",
    "                                              cv2.BORDER_WRAP)\n",
    "                mirrored = mirrored[:self.patch_size, :] if uncompressed.shape[0] > uncompressed.shape[1] \\\n",
    "                           else mirrored[:, :self.patch_size]\n",
    "                uncompressed = self.transforms(image=mirrored)['image']\n",
    "            else:\n",
    "                uncompressed = self.transforms(image=uncompressed[0:self.patch_size, 0:self.patch_size])['image']\n",
    "\n",
    "        # --- Load and transform compressed sample\n",
    "        if self.grayscale:\n",
    "            compressed = np.repeat(cv2.imread(os.path.join(self.data_root, row['jpeg_image_path']), \n",
    "                                              cv2.IMREAD_GRAYSCALE)[:, :, np.newaxis], 3, axis=2).astype(np.float32)\n",
    "        else:\n",
    "            compressed = cv2.cvtColor(cv2.imread(os.path.join(self.data_root, row['jpeg_image_path'])), cv2.COLOR_BGR2RGB).astype(np.float32)\n",
    "        # Crop\n",
    "        if (self.disaligned_grid_patch[0] > 0) or (self.disaligned_grid_patch[1] > 0):\n",
    "            if ((self.patch_size + self.disaligned_grid_patch[0] > compressed.shape[0]) or\n",
    "                    (self.patch_size + self.disaligned_grid_patch[1] > compressed.shape[1])):\n",
    "                mirrored = cv2.copyMakeBorder(compressed,\n",
    "                                              0,\n",
    "                                              np.abs(self.patch_size + self.disaligned_grid_patch[0] - compressed.shape[0]),\n",
    "                                              0,\n",
    "                                              np.abs(self.patch_size + self.disaligned_grid_patch[1] - compressed.shape[1]),\n",
    "                                              cv2.BORDER_WRAP)\n",
    "                mirrored = mirrored[self.disaligned_grid_patch[0]:self.disaligned_grid_patch[0] + self.patch_size,\n",
    "                           self.disaligned_grid_patch[1]:self.disaligned_grid_patch[1] + self.patch_size]\n",
    "                compressed = self.transforms(image=mirrored)['image']\n",
    "            else:\n",
    "                compressed = self.transforms(image=compressed[self.disaligned_grid_patch[0]:self.disaligned_grid_patch[0]+self.patch_size,\n",
    "                                                              self.disaligned_grid_patch[1]:self.disaligned_grid_patch[1]+self.patch_size])['image']\n",
    "        else:\n",
    "            min_shape = np.min(compressed.shape)\n",
    "            if self.patch_size > min_shape:\n",
    "                mirrored = cv2.copyMakeBorder(compressed, 0, self.patch_size - min_shape, 0,\n",
    "                                              self.patch_size - min_shape,\n",
    "                                              cv2.BORDER_WRAP)\n",
    "                mirrored = mirrored[:self.patch_size, :] if compressed.shape[0] > compressed.shape[1] \\\n",
    "                    else mirrored[:, :self.patch_size]\n",
    "                compressed = self.transforms(image=mirrored)['image']\n",
    "            else:\n",
    "                compressed = self.transforms(image=compressed[0:self.patch_size, 0:self.patch_size])['image']\n",
    "        # Patch together the samples\n",
    "        sample = torch.cat((uncompressed.unsqueeze(0), compressed.unsqueeze(0)))\n",
    "        target = torch.Tensor((0, 1))\n",
    "        return sample, target\n",
    "\n",
    "\n",
    "def bin_acc(y_pred, y_test) -> float:\n",
    "    y_pred_sig = torch.sigmoid(y_pred)\n",
    "    y_pred_tags = y_pred_sig > 0.5\n",
    "    correct_pred = (y_pred_tags == y_test).float()\n",
    "    acc = correct_pred.sum() / len(correct_pred)\n",
    "    acc *= 100\n",
    "    return acc\n",
    "\n",
    "\n",
    "def multi_acc(y_pred, y_test):\n",
    "    y_pred_softmax = torch.nn.functional.log_softmax(y_pred, dim = 1)\n",
    "    _, y_pred_tags = torch.max(y_pred_softmax, dim = 1)\n",
    "    correct_pred = (y_pred_tags == y_test).float()\n",
    "    acc = correct_pred.sum() / len(correct_pred)\n",
    "    acc = torch.round(acc) * 100\n",
    "    return acc\n",
    "\n",
    "\n",
    "def batch_forward(net: torch.nn.Module, device, criterion,\n",
    "                  data: torch.Tensor, labels: torch.Tensor) -> (torch.Tensor, float):\n",
    "    if torch.cuda.is_available():\n",
    "        data = data.to(device)\n",
    "        labels = labels.to(device)\n",
    "    out = net(data).squeeze()\n",
    "    loss = criterion(out, labels)\n",
    "    pred = torch.sigmoid(out)\n",
    "    return loss, pred\n",
    "\n",
    "\n",
    "def balanced_collate_fn(batch):\n",
    "    return [torch.cat([elem[0] for elem in batch]), torch.cat([elem[1] for elem in batch])]\n"
   ]
  },
  {
   "cell_type": "markdown",
   "id": "3e113408",
   "metadata": {},
   "source": [
    "## Execution parameters"
   ]
  },
  {
   "cell_type": "code",
   "execution_count": 3,
   "id": "4a13159c",
   "metadata": {},
   "outputs": [],
   "source": [
    "models_dir = '../models/ResNets'\n",
    "gpu_id = 2\n",
    "precomputed = True  # whether to use the precomputed results or let the notebook do the job\n",
    "data_root = '../data'  # PLACE HERE THE DIRECTORY WHERE YOU SAVED THE DATASETS!"
   ]
  },
  {
   "cell_type": "markdown",
   "id": "b45b4c29-ea76-4753-a36a-85064e3abf2f",
   "metadata": {},
   "source": [
    "## Let's start\n",
    "We are gonna cycle over all models and compute the test results first.  \n",
    "We are going to find the correctly classified samples, and then meausure the deviation of the performances as a function of the diagonal displacement."
   ]
  },
  {
   "cell_type": "markdown",
   "id": "df69ad1e",
   "metadata": {},
   "source": [
    "### Let's find all models available first\n",
    "**WATCH OUT:** we did some mess at the beginning of the project and some ResNets models have been trained with a Cross Entropy Loss (CE) with 2 classes instead of one.  \n",
    "Operatively, it does not change the results, but you will see some changes in the code to handle this behavior."
   ]
  },
  {
   "cell_type": "code",
   "execution_count": 4,
   "id": "8a010263",
   "metadata": {},
   "outputs": [
    {
     "data": {
      "text/plain": [
       "['../models/ResNets/net-ResNet50_lr-0.001_batch_size-2_split_train_test-0.75_split_train_val-0.75_split_seed-42_in_channels-1_init_period-10_jpeg_bs-8_grayscale-True_random_crop-False/bestval.pth',\n",
       " '../models/ResNets/net-AAResNet50_lr-0.0001_batch_size-2_split_train_test-0.75_split_train_val-0.75_split_seed-42_in_channels-1_init_period-10_jpeg_bs-8_grayscale-True_random_crop-False_aa_pool_only-False/bestval.pth',\n",
       " '../models/ResNets/net-AAResNet50_lr-0.001_batch_size-2_split_train_test-0.75_split_train_val-0.75_split_seed-42_in_channels-1_init_period-10_jpeg_bs-8_grayscale-True_random_crop-False_aa_pool_only-True/bestval.pth',\n",
       " '../models/ResNets/net-ResNet50_lr-0.001_batch_size-2_split_train_test-0.75_split_train_val-0.75_split_seed-42_in_channels-1_init_period-10_jpeg_bs-8_grayscale-True_random_crop-True/bestval.pth']"
      ]
     },
     "execution_count": 4,
     "metadata": {},
     "output_type": "execute_result"
    }
   ],
   "source": [
    "models_paths = glob.glob(os.path.join(models_dir, '**/bestval.pth'))"
   ]
  },
  {
   "cell_type": "code",
   "execution_count": 10,
   "id": "7cf1e610",
   "metadata": {},
   "outputs": [
    {
     "name": "stderr",
     "output_type": "stream",
     "text": [
      "/nas/home/ecannas/miniconda3/envs/jpeg_expl/lib/python3.9/site-packages/torchvision/models/_utils.py:208: UserWarning: The parameter 'pretrained' is deprecated since 0.13 and may be removed in the future, please use 'weights' instead.\n",
      "  warnings.warn(\n",
      "/nas/home/ecannas/miniconda3/envs/jpeg_expl/lib/python3.9/site-packages/torchvision/models/_utils.py:223: UserWarning: Arguments other than a weight enum or `None` for 'weights' are deprecated since 0.13 and may be removed in the future. The current behavior is equivalent to passing `weights=None`.\n",
      "  warnings.warn(msg)\n"
     ]
    },
    {
     "name": "stdout",
     "output_type": "stream",
     "text": [
      "Loading model ../models/ResNets/net-ResNet50_lr-0.001_batch_size-2_split_train_test-0.75_split_train_val-0.75_split_seed-42_in_channels-1_init_period-10_jpeg_bs-8_grayscale-True_random_crop-False/bestval.pth...\n",
      "<All keys matched successfully>\n",
      "Model loaded!\n"
     ]
    },
    {
     "data": {
      "application/vnd.jupyter.widget-view+json": {
       "model_id": "",
       "version_major": 2,
       "version_minor": 0
      },
      "text/plain": [
       "Test sample:   0%|          | 0/334 [00:00<?, ?it/s]"
      ]
     },
     "metadata": {},
     "output_type": "display_data"
    },
    {
     "data": {
      "application/vnd.jupyter.widget-view+json": {
       "model_id": "",
       "version_major": 2,
       "version_minor": 0
      },
      "text/plain": [
       "Test sample:   0%|          | 0/334 [00:00<?, ?it/s]"
      ]
     },
     "metadata": {},
     "output_type": "display_data"
    },
    {
     "data": {
      "application/vnd.jupyter.widget-view+json": {
       "model_id": "",
       "version_major": 2,
       "version_minor": 0
      },
      "text/plain": [
       "Test sample:   0%|          | 0/334 [00:00<?, ?it/s]"
      ]
     },
     "metadata": {},
     "output_type": "display_data"
    },
    {
     "data": {
      "application/vnd.jupyter.widget-view+json": {
       "model_id": "",
       "version_major": 2,
       "version_minor": 0
      },
      "text/plain": [
       "Test sample:   0%|          | 0/334 [00:00<?, ?it/s]"
      ]
     },
     "metadata": {},
     "output_type": "display_data"
    },
    {
     "data": {
      "application/vnd.jupyter.widget-view+json": {
       "model_id": "",
       "version_major": 2,
       "version_minor": 0
      },
      "text/plain": [
       "Test sample:   0%|          | 0/334 [00:00<?, ?it/s]"
      ]
     },
     "metadata": {},
     "output_type": "display_data"
    },
    {
     "data": {
      "application/vnd.jupyter.widget-view+json": {
       "model_id": "",
       "version_major": 2,
       "version_minor": 0
      },
      "text/plain": [
       "Test sample:   0%|          | 0/334 [00:00<?, ?it/s]"
      ]
     },
     "metadata": {},
     "output_type": "display_data"
    },
    {
     "data": {
      "application/vnd.jupyter.widget-view+json": {
       "model_id": "",
       "version_major": 2,
       "version_minor": 0
      },
      "text/plain": [
       "Test sample:   0%|          | 0/334 [00:00<?, ?it/s]"
      ]
     },
     "metadata": {},
     "output_type": "display_data"
    },
    {
     "data": {
      "application/vnd.jupyter.widget-view+json": {
       "model_id": "",
       "version_major": 2,
       "version_minor": 0
      },
      "text/plain": [
       "Test sample:   0%|          | 0/334 [00:00<?, ?it/s]"
      ]
     },
     "metadata": {},
     "output_type": "display_data"
    },
    {
     "data": {
      "application/vnd.jupyter.widget-view+json": {
       "model_id": "",
       "version_major": 2,
       "version_minor": 0
      },
      "text/plain": [
       "Test sample:   0%|          | 0/334 [00:00<?, ?it/s]"
      ]
     },
     "metadata": {},
     "output_type": "display_data"
    },
    {
     "name": "stdout",
     "output_type": "stream",
     "text": [
      "Loading model ../models/ResNets/net-AAResNet50_lr-0.0001_batch_size-2_split_train_test-0.75_split_train_val-0.75_split_seed-42_in_channels-1_init_period-10_jpeg_bs-8_grayscale-True_random_crop-False_aa_pool_only-False/bestval.pth...\n",
      "<All keys matched successfully>\n",
      "Model loaded!\n"
     ]
    },
    {
     "data": {
      "application/vnd.jupyter.widget-view+json": {
       "model_id": "",
       "version_major": 2,
       "version_minor": 0
      },
      "text/plain": [
       "Test sample:   0%|          | 0/334 [00:00<?, ?it/s]"
      ]
     },
     "metadata": {},
     "output_type": "display_data"
    },
    {
     "data": {
      "application/vnd.jupyter.widget-view+json": {
       "model_id": "",
       "version_major": 2,
       "version_minor": 0
      },
      "text/plain": [
       "Test sample:   0%|          | 0/334 [00:00<?, ?it/s]"
      ]
     },
     "metadata": {},
     "output_type": "display_data"
    },
    {
     "data": {
      "application/vnd.jupyter.widget-view+json": {
       "model_id": "",
       "version_major": 2,
       "version_minor": 0
      },
      "text/plain": [
       "Test sample:   0%|          | 0/334 [00:00<?, ?it/s]"
      ]
     },
     "metadata": {},
     "output_type": "display_data"
    },
    {
     "data": {
      "application/vnd.jupyter.widget-view+json": {
       "model_id": "",
       "version_major": 2,
       "version_minor": 0
      },
      "text/plain": [
       "Test sample:   0%|          | 0/334 [00:00<?, ?it/s]"
      ]
     },
     "metadata": {},
     "output_type": "display_data"
    },
    {
     "data": {
      "application/vnd.jupyter.widget-view+json": {
       "model_id": "",
       "version_major": 2,
       "version_minor": 0
      },
      "text/plain": [
       "Test sample:   0%|          | 0/334 [00:00<?, ?it/s]"
      ]
     },
     "metadata": {},
     "output_type": "display_data"
    },
    {
     "data": {
      "application/vnd.jupyter.widget-view+json": {
       "model_id": "",
       "version_major": 2,
       "version_minor": 0
      },
      "text/plain": [
       "Test sample:   0%|          | 0/334 [00:00<?, ?it/s]"
      ]
     },
     "metadata": {},
     "output_type": "display_data"
    },
    {
     "data": {
      "application/vnd.jupyter.widget-view+json": {
       "model_id": "",
       "version_major": 2,
       "version_minor": 0
      },
      "text/plain": [
       "Test sample:   0%|          | 0/334 [00:00<?, ?it/s]"
      ]
     },
     "metadata": {},
     "output_type": "display_data"
    },
    {
     "data": {
      "application/vnd.jupyter.widget-view+json": {
       "model_id": "",
       "version_major": 2,
       "version_minor": 0
      },
      "text/plain": [
       "Test sample:   0%|          | 0/334 [00:00<?, ?it/s]"
      ]
     },
     "metadata": {},
     "output_type": "display_data"
    },
    {
     "data": {
      "application/vnd.jupyter.widget-view+json": {
       "model_id": "",
       "version_major": 2,
       "version_minor": 0
      },
      "text/plain": [
       "Test sample:   0%|          | 0/334 [00:00<?, ?it/s]"
      ]
     },
     "metadata": {},
     "output_type": "display_data"
    },
    {
     "name": "stdout",
     "output_type": "stream",
     "text": [
      "Loading model ../models/ResNets/net-AAResNet50_lr-0.001_batch_size-2_split_train_test-0.75_split_train_val-0.75_split_seed-42_in_channels-1_init_period-10_jpeg_bs-8_grayscale-True_random_crop-False_aa_pool_only-True/bestval.pth...\n",
      "<All keys matched successfully>\n",
      "Model loaded!\n"
     ]
    },
    {
     "data": {
      "application/vnd.jupyter.widget-view+json": {
       "model_id": "",
       "version_major": 2,
       "version_minor": 0
      },
      "text/plain": [
       "Test sample:   0%|          | 0/334 [00:00<?, ?it/s]"
      ]
     },
     "metadata": {},
     "output_type": "display_data"
    },
    {
     "data": {
      "application/vnd.jupyter.widget-view+json": {
       "model_id": "",
       "version_major": 2,
       "version_minor": 0
      },
      "text/plain": [
       "Test sample:   0%|          | 0/334 [00:00<?, ?it/s]"
      ]
     },
     "metadata": {},
     "output_type": "display_data"
    },
    {
     "data": {
      "application/vnd.jupyter.widget-view+json": {
       "model_id": "",
       "version_major": 2,
       "version_minor": 0
      },
      "text/plain": [
       "Test sample:   0%|          | 0/334 [00:00<?, ?it/s]"
      ]
     },
     "metadata": {},
     "output_type": "display_data"
    },
    {
     "data": {
      "application/vnd.jupyter.widget-view+json": {
       "model_id": "",
       "version_major": 2,
       "version_minor": 0
      },
      "text/plain": [
       "Test sample:   0%|          | 0/334 [00:00<?, ?it/s]"
      ]
     },
     "metadata": {},
     "output_type": "display_data"
    },
    {
     "data": {
      "application/vnd.jupyter.widget-view+json": {
       "model_id": "",
       "version_major": 2,
       "version_minor": 0
      },
      "text/plain": [
       "Test sample:   0%|          | 0/334 [00:00<?, ?it/s]"
      ]
     },
     "metadata": {},
     "output_type": "display_data"
    },
    {
     "data": {
      "application/vnd.jupyter.widget-view+json": {
       "model_id": "",
       "version_major": 2,
       "version_minor": 0
      },
      "text/plain": [
       "Test sample:   0%|          | 0/334 [00:00<?, ?it/s]"
      ]
     },
     "metadata": {},
     "output_type": "display_data"
    },
    {
     "data": {
      "application/vnd.jupyter.widget-view+json": {
       "model_id": "",
       "version_major": 2,
       "version_minor": 0
      },
      "text/plain": [
       "Test sample:   0%|          | 0/334 [00:00<?, ?it/s]"
      ]
     },
     "metadata": {},
     "output_type": "display_data"
    },
    {
     "data": {
      "application/vnd.jupyter.widget-view+json": {
       "model_id": "",
       "version_major": 2,
       "version_minor": 0
      },
      "text/plain": [
       "Test sample:   0%|          | 0/334 [00:00<?, ?it/s]"
      ]
     },
     "metadata": {},
     "output_type": "display_data"
    },
    {
     "data": {
      "application/vnd.jupyter.widget-view+json": {
       "model_id": "",
       "version_major": 2,
       "version_minor": 0
      },
      "text/plain": [
       "Test sample:   0%|          | 0/334 [00:00<?, ?it/s]"
      ]
     },
     "metadata": {},
     "output_type": "display_data"
    },
    {
     "name": "stderr",
     "output_type": "stream",
     "text": [
      "/nas/home/ecannas/miniconda3/envs/jpeg_expl/lib/python3.9/site-packages/torchvision/models/_utils.py:208: UserWarning: The parameter 'pretrained' is deprecated since 0.13 and may be removed in the future, please use 'weights' instead.\n",
      "  warnings.warn(\n",
      "/nas/home/ecannas/miniconda3/envs/jpeg_expl/lib/python3.9/site-packages/torchvision/models/_utils.py:223: UserWarning: Arguments other than a weight enum or `None` for 'weights' are deprecated since 0.13 and may be removed in the future. The current behavior is equivalent to passing `weights=None`.\n",
      "  warnings.warn(msg)\n"
     ]
    },
    {
     "name": "stdout",
     "output_type": "stream",
     "text": [
      "Loading model ../models/ResNets/net-ResNet50_lr-0.001_batch_size-2_split_train_test-0.75_split_train_val-0.75_split_seed-42_in_channels-1_init_period-10_jpeg_bs-8_grayscale-True_random_crop-True/bestval.pth...\n",
      "<All keys matched successfully>\n",
      "Model loaded!\n"
     ]
    },
    {
     "data": {
      "application/vnd.jupyter.widget-view+json": {
       "model_id": "",
       "version_major": 2,
       "version_minor": 0
      },
      "text/plain": [
       "Test sample:   0%|          | 0/334 [00:00<?, ?it/s]"
      ]
     },
     "metadata": {},
     "output_type": "display_data"
    },
    {
     "data": {
      "application/vnd.jupyter.widget-view+json": {
       "model_id": "",
       "version_major": 2,
       "version_minor": 0
      },
      "text/plain": [
       "Test sample:   0%|          | 0/334 [00:00<?, ?it/s]"
      ]
     },
     "metadata": {},
     "output_type": "display_data"
    },
    {
     "data": {
      "application/vnd.jupyter.widget-view+json": {
       "model_id": "",
       "version_major": 2,
       "version_minor": 0
      },
      "text/plain": [
       "Test sample:   0%|          | 0/334 [00:00<?, ?it/s]"
      ]
     },
     "metadata": {},
     "output_type": "display_data"
    },
    {
     "data": {
      "application/vnd.jupyter.widget-view+json": {
       "model_id": "",
       "version_major": 2,
       "version_minor": 0
      },
      "text/plain": [
       "Test sample:   0%|          | 0/334 [00:00<?, ?it/s]"
      ]
     },
     "metadata": {},
     "output_type": "display_data"
    },
    {
     "data": {
      "application/vnd.jupyter.widget-view+json": {
       "model_id": "",
       "version_major": 2,
       "version_minor": 0
      },
      "text/plain": [
       "Test sample:   0%|          | 0/334 [00:00<?, ?it/s]"
      ]
     },
     "metadata": {},
     "output_type": "display_data"
    },
    {
     "data": {
      "application/vnd.jupyter.widget-view+json": {
       "model_id": "",
       "version_major": 2,
       "version_minor": 0
      },
      "text/plain": [
       "Test sample:   0%|          | 0/334 [00:00<?, ?it/s]"
      ]
     },
     "metadata": {},
     "output_type": "display_data"
    },
    {
     "data": {
      "application/vnd.jupyter.widget-view+json": {
       "model_id": "",
       "version_major": 2,
       "version_minor": 0
      },
      "text/plain": [
       "Test sample:   0%|          | 0/334 [00:00<?, ?it/s]"
      ]
     },
     "metadata": {},
     "output_type": "display_data"
    },
    {
     "data": {
      "application/vnd.jupyter.widget-view+json": {
       "model_id": "",
       "version_major": 2,
       "version_minor": 0
      },
      "text/plain": [
       "Test sample:   0%|          | 0/334 [00:00<?, ?it/s]"
      ]
     },
     "metadata": {},
     "output_type": "display_data"
    },
    {
     "data": {
      "application/vnd.jupyter.widget-view+json": {
       "model_id": "",
       "version_major": 2,
       "version_minor": 0
      },
      "text/plain": [
       "Test sample:   0%|          | 0/334 [00:00<?, ?it/s]"
      ]
     },
     "metadata": {},
     "output_type": "display_data"
    },
    {
     "data": {
      "text/html": [
       "<div>\n",
       "<style scoped>\n",
       "    .dataframe tbody tr th:only-of-type {\n",
       "        vertical-align: middle;\n",
       "    }\n",
       "\n",
       "    .dataframe tbody tr th {\n",
       "        vertical-align: top;\n",
       "    }\n",
       "\n",
       "    .dataframe thead th {\n",
       "        text-align: right;\n",
       "    }\n",
       "</style>\n",
       "<table border=\"1\" class=\"dataframe\">\n",
       "  <thead>\n",
       "    <tr style=\"text-align: right;\">\n",
       "      <th></th>\n",
       "      <th></th>\n",
       "      <th></th>\n",
       "      <th>bce_loss</th>\n",
       "      <th>pred</th>\n",
       "      <th>labels</th>\n",
       "    </tr>\n",
       "    <tr>\n",
       "      <th>Model</th>\n",
       "      <th>Grid displacement</th>\n",
       "      <th></th>\n",
       "      <th></th>\n",
       "      <th></th>\n",
       "      <th></th>\n",
       "    </tr>\n",
       "  </thead>\n",
       "  <tbody>\n",
       "    <tr>\n",
       "      <th rowspan=\"5\" valign=\"top\">../models/ResNets/net-ResNet50_lr-0.001_batch_size-2_split_train_test-0.75_split_train_val-0.75_split_seed-42_in_channels-1_init_period-10_jpeg_bs-8_grayscale-True_random_crop-False/bestval.pth</th>\n",
       "      <th rowspan=\"5\" valign=\"top\">0</th>\n",
       "      <th>0</th>\n",
       "      <td>0.000000e+00</td>\n",
       "      <td>0.000061</td>\n",
       "      <td>False</td>\n",
       "    </tr>\n",
       "    <tr>\n",
       "      <th>1</th>\n",
       "      <td>0.000000e+00</td>\n",
       "      <td>0.999957</td>\n",
       "      <td>True</td>\n",
       "    </tr>\n",
       "    <tr>\n",
       "      <th>2</th>\n",
       "      <td>5.960464e-08</td>\n",
       "      <td>0.000020</td>\n",
       "      <td>False</td>\n",
       "    </tr>\n",
       "    <tr>\n",
       "      <th>3</th>\n",
       "      <td>5.960464e-08</td>\n",
       "      <td>0.999577</td>\n",
       "      <td>True</td>\n",
       "    </tr>\n",
       "    <tr>\n",
       "      <th>4</th>\n",
       "      <td>0.000000e+00</td>\n",
       "      <td>0.000078</td>\n",
       "      <td>False</td>\n",
       "    </tr>\n",
       "    <tr>\n",
       "      <th>...</th>\n",
       "      <th>...</th>\n",
       "      <th>...</th>\n",
       "      <td>...</td>\n",
       "      <td>...</td>\n",
       "      <td>...</td>\n",
       "    </tr>\n",
       "    <tr>\n",
       "      <th rowspan=\"5\" valign=\"top\">../models/ResNets/net-ResNet50_lr-0.001_batch_size-2_split_train_test-0.75_split_train_val-0.75_split_seed-42_in_channels-1_init_period-10_jpeg_bs-8_grayscale-True_random_crop-True/bestval.pth</th>\n",
       "      <th rowspan=\"5\" valign=\"top\">8</th>\n",
       "      <th>663</th>\n",
       "      <td>2.145764e-06</td>\n",
       "      <td>0.999292</td>\n",
       "      <td>True</td>\n",
       "    </tr>\n",
       "    <tr>\n",
       "      <th>664</th>\n",
       "      <td>7.533490e-05</td>\n",
       "      <td>0.002098</td>\n",
       "      <td>False</td>\n",
       "    </tr>\n",
       "    <tr>\n",
       "      <th>665</th>\n",
       "      <td>7.533490e-05</td>\n",
       "      <td>0.987518</td>\n",
       "      <td>True</td>\n",
       "    </tr>\n",
       "    <tr>\n",
       "      <th>666</th>\n",
       "      <td>1.466256e-05</td>\n",
       "      <td>0.001551</td>\n",
       "      <td>False</td>\n",
       "    </tr>\n",
       "    <tr>\n",
       "      <th>667</th>\n",
       "      <td>1.466256e-05</td>\n",
       "      <td>0.995029</td>\n",
       "      <td>True</td>\n",
       "    </tr>\n",
       "  </tbody>\n",
       "</table>\n",
       "<p>24048 rows × 3 columns</p>\n",
       "</div>"
      ],
      "text/plain": [
       "                                                                              bce_loss  \\\n",
       "Model                                              Grid displacement                     \n",
       "../models/ResNets/net-ResNet50_lr-0.001_batch_s... 0                 0    0.000000e+00   \n",
       "                                                                     1    0.000000e+00   \n",
       "                                                                     2    5.960464e-08   \n",
       "                                                                     3    5.960464e-08   \n",
       "                                                                     4    0.000000e+00   \n",
       "...                                                                                ...   \n",
       "../models/ResNets/net-ResNet50_lr-0.001_batch_s... 8                 663  2.145764e-06   \n",
       "                                                                     664  7.533490e-05   \n",
       "                                                                     665  7.533490e-05   \n",
       "                                                                     666  1.466256e-05   \n",
       "                                                                     667  1.466256e-05   \n",
       "\n",
       "                                                                              pred  \\\n",
       "Model                                              Grid displacement                 \n",
       "../models/ResNets/net-ResNet50_lr-0.001_batch_s... 0                 0    0.000061   \n",
       "                                                                     1    0.999957   \n",
       "                                                                     2    0.000020   \n",
       "                                                                     3    0.999577   \n",
       "                                                                     4    0.000078   \n",
       "...                                                                            ...   \n",
       "../models/ResNets/net-ResNet50_lr-0.001_batch_s... 8                 663  0.999292   \n",
       "                                                                     664  0.002098   \n",
       "                                                                     665  0.987518   \n",
       "                                                                     666  0.001551   \n",
       "                                                                     667  0.995029   \n",
       "\n",
       "                                                                          labels  \n",
       "Model                                              Grid displacement              \n",
       "../models/ResNets/net-ResNet50_lr-0.001_batch_s... 0                 0     False  \n",
       "                                                                     1      True  \n",
       "                                                                     2     False  \n",
       "                                                                     3      True  \n",
       "                                                                     4     False  \n",
       "...                                                                          ...  \n",
       "../models/ResNets/net-ResNet50_lr-0.001_batch_s... 8                 663    True  \n",
       "                                                                     664   False  \n",
       "                                                                     665    True  \n",
       "                                                                     666   False  \n",
       "                                                                     667    True  \n",
       "\n",
       "[24048 rows x 3 columns]"
      ]
     },
     "execution_count": 10,
     "metadata": {},
     "output_type": "execute_result"
    }
   ],
   "source": [
    "all_models_df = []\n",
    "\n",
    "if os.path.exists('ResNet50_disalignment_results.pkl') and precomputed:\n",
    "    print('Results already computed! Loading them...')\n",
    "    all_models_df = pd.read_pickle('ResNet50_disalignment_results.pkl')\n",
    "else:\n",
    "    for model_path in models_paths:\n",
    "\n",
    "        test_dfs = dict()\n",
    "        \n",
    "        # Parse useful params from the model path\n",
    "        split_seed = int(model_path.split('split_seed-')[1].split('_')[0])\n",
    "        p_train_test = float(model_path.split('train_test-')[1].split('_')[0])\n",
    "        p_train_val = float(model_path.split('train_val-')[1].split('_')[0])\n",
    "        net_name = model_path.split('net-')[1].split('_')[0]\n",
    "        batch_size = 1\n",
    "        if 'aa_pool_only' in model_path:\n",
    "            aa_pool_only = model_path.split('aa_pool_only-')[1].split('/')[0] == 'True'\n",
    "        else:\n",
    "            aa_pool_only = None\n",
    "        num_classes = 1 if aa_pool_only==False else 2\n",
    "        grayscale = True\n",
    "        patch_size = 224\n",
    "\n",
    "        # Set the device\n",
    "        device = f'cuda:{gpu_id}' if torch.cuda.is_available() else 'cpu'\n",
    "        \n",
    "        # Create the model\n",
    "        params = {'in_channels': 3, 'num_classes': num_classes, 'pretrained': False,\n",
    "                  'pool_only': aa_pool_only}\n",
    "        net = create_model(net_name, params, device).eval()\n",
    "\n",
    "        # load model\n",
    "        print(f'Loading model {model_path}...')\n",
    "        state_tmp = torch.load(model_path, map_location='cpu')\n",
    "        if 'net' not in state_tmp.keys():\n",
    "            state = OrderedDict({'net': OrderedDict()})\n",
    "            [state['net'].update({'model.{}'.format(k): v}) for k, v in state_tmp.items()]\n",
    "        else:\n",
    "            state = state_tmp\n",
    "        incomp_keys = net.load_state_dict(state['net'], strict=True)\n",
    "        print(incomp_keys)\n",
    "        print('Model loaded!')\n",
    "\n",
    "        test_dfs = []\n",
    "        for disp in range(9):\n",
    "\n",
    "            # Load the data\n",
    "            net_normalizer = net.get_normalizer()\n",
    "            transforms = [A.Normalize(mean=net_normalizer.mean, std=net_normalizer.std), ToTensorV2()]\n",
    "            transforms = A.Compose(transforms)\n",
    "            dataset = TestJPEGBalancedDataset(data_root=data_root, jpeg_bs=8, patch_size=patch_size, transforms=transforms,\n",
    "                                              grayscale=grayscale, disaligned_grid_patch=[disp, disp],\n",
    "                                              coherent_grid_patch=True if 'random_crop-True' in model_path else False)\n",
    "            \n",
    "            # Split in training, validation and test\n",
    "            dataset_idxs = list(range(len(dataset)))\n",
    "            np.random.seed(split_seed)  # setting the seed for training-test split\n",
    "            np.random.shuffle(dataset_idxs)\n",
    "            test_split_index = int(np.floor((1 - p_train_test) * len(dataset)))\n",
    "            train_val_idxs, test_idxs = dataset_idxs[test_split_index:], dataset_idxs[:test_split_index]\n",
    "            val_split_index = int(np.floor((1 - p_train_val) * len(train_val_idxs)))\n",
    "            train_idx, val_idx = train_val_idxs[val_split_index:], train_val_idxs[:val_split_index]\n",
    "            \n",
    "            # Consider only the test samples indexes\n",
    "            test_idxs = np.array(test_idxs)\n",
    "            test_sampler = SequentialSampler(test_idxs)\n",
    "            test_dl = DataLoader(dataset=dataset, batch_size=batch_size, num_workers=4, shuffle=False, drop_last=False,\n",
    "                                   sampler=test_sampler, collate_fn=balanced_collate_fn,)\n",
    "\n",
    "            # --- TEST LOOP\n",
    "            test_df = pd.DataFrame(index=np.arange(len(test_idxs)*2))\n",
    "            test_df['bce_loss'] = 0.0\n",
    "            test_df['pred'] = 0.0\n",
    "            test_df['labels'] = False\n",
    "            criterion = torch.nn.BCEWithLogitsLoss() if num_classes == 1 else torch.nn.CrossEntropyLoss()\n",
    "            test_loss = test_acc = test_num = 0\n",
    "            for idx, batch_data in enumerate(tqdm(test_dl, desc='Test sample', leave=False, total=len(test_dl))):\n",
    "                \n",
    "                # Fetch data\n",
    "                batch_img, batch_label = batch_data\n",
    "                \n",
    "                # Convert to long tensor if using CE\n",
    "                if num_classes > 1:\n",
    "                    batch_label = batch_label.long()\n",
    "\n",
    "                with torch.no_grad():\n",
    "                    # Forward pass\n",
    "                    batch_loss, batch_pred = batch_forward(net, device, criterion, batch_img, batch_label)\n",
    "\n",
    "                # Save statistics\n",
    "                test_df.loc[idx*2, 'bce_loss'] = batch_loss.detach().cpu().item()\n",
    "                test_df.loc[idx*2, 'labels'] = batch_label[0].detach().cpu().item()>0\n",
    "                if num_classes > 1:\n",
    "                    test_df.loc[idx*2, 'pred'] = batch_pred[0][1].detach().cpu().item()\n",
    "                else:\n",
    "                    test_df.loc[idx*2, 'pred'] = batch_pred[0].detach().cpu().item()\n",
    "                test_df.loc[idx*2+1, 'bce_loss'] = batch_loss.detach().cpu().item()\n",
    "                test_df.loc[idx*2+1, 'labels'] = batch_label[1].detach().cpu().item()>0\n",
    "                if num_classes > 1:\n",
    "                    test_df.loc[idx*2+1, 'pred'] = batch_pred[1][1].detach().cpu().item()\n",
    "                else:\n",
    "                    test_df.loc[idx*2+1, 'pred'] = batch_pred[1].detach().cpu().item()\n",
    "\n",
    "\n",
    "            # Save the results in the bigger dictionary\n",
    "            test_dfs.append(pd.concat({disp: test_df.copy()}, names=['Grid displacement']))\n",
    "\n",
    "        # Concatenate everything\n",
    "        all_models_df.append(pd.concat({model_path: pd.concat(test_dfs)}, names=['Model']))\n",
    "\n",
    "    # Concatenate everything\n",
    "    all_models_df = pd.concat(all_models_df)\n",
    "    \n",
    "    # Clean GPU memory\n",
    "    torch.cuda.empty_cache()\n",
    "\n",
    "all_models_df"
   ]
  },
  {
   "cell_type": "markdown",
   "id": "ee38b6cb",
   "metadata": {},
   "source": [
    "### Let's save the results for precomputation"
   ]
  },
  {
   "cell_type": "code",
   "execution_count": 11,
   "id": "cb751c9c",
   "metadata": {},
   "outputs": [],
   "source": [
    "if os.path.exists('ResNet50_disalignment_results.pkl'):\n",
    "    print('Results already saved!')\n",
    "else:\n",
    "    all_models_df.to_pickle('ResNet50_disalignment_results.pkl')"
   ]
  },
  {
   "cell_type": "markdown",
   "id": "d457799d",
   "metadata": {},
   "source": [
    "## Let's plot the paper's plots"
   ]
  },
  {
   "cell_type": "markdown",
   "id": "5ee83eb1",
   "metadata": {},
   "source": [
    "### Absolute Score Difference (ASD)"
   ]
  },
  {
   "cell_type": "code",
   "execution_count": 13,
   "id": "47ed5902",
   "metadata": {},
   "outputs": [
    {
     "name": "stderr",
     "output_type": "stream",
     "text": [
      "/tmp/ipykernel_533164/2112127737.py:23: PerformanceWarning: indexing past lexsort depth may impact performance.\n",
      "  pred_df = all_models_df.loc[(model_path), 'pred']\n"
     ]
    },
    {
     "data": {
      "image/png": "[encoded data removed]",
      "text/plain": [
       "<Figure size 1000x500 with 1 Axes>"
      ]
     },
     "metadata": {},
     "output_type": "display_data"
    }
   ],
   "source": [
    "# Prepare plot\n",
    "fig, axs = plt.subplots(1, 1, figsize=(10, 5))\n",
    "fontsize=20\n",
    "markers = ['o', '*', 'v', '^']\n",
    "color_map = {'ResNet50': '#1f77b4', 'AA-ResNet50 pool only': '#ff7f0e', \n",
    "              'AA-ResNet50': '#2ca02c', 'ResNet50 random crop': '#d62728'}\n",
    "for idx, model_path in enumerate(models_paths):\n",
    "    net_name = model_path.split('net-')[1].split('_')[0]\n",
    "    random_crop = model_path.split('random_crop-')[1].split('/')[0] == 'True'\n",
    "    if net_name == 'AAResNet50':\n",
    "        aa_pool = model_path.split('aa_pool_only-')[1].split('/')[0] == 'True'\n",
    "        color = color_map['AA-ResNet50 pool only'] if aa_pool else color_map['AA-ResNet50']\n",
    "    if 'AA' in net_name:\n",
    "        if aa_pool:\n",
    "            label = f'AA-ResNet50 pool only'\n",
    "        else:\n",
    "            label = f'AA-ResNet50 full'\n",
    "    else:\n",
    "        label = f'{net_name}'\n",
    "        if random_crop:\n",
    "            label += ', random crop'\n",
    "        color = color_map['ResNet50 random crop'] if random_crop else color_map['ResNet50']\n",
    "    pred_df = all_models_df.loc[(model_path), 'pred']\n",
    "    differences = []\n",
    "    for disp in range(9):\n",
    "        differences.append(np.mean(np.abs(pred_df.loc[disp].to_numpy() - pred_df.loc[0].to_numpy()))*100)\n",
    "    axs.plot(differences, label=label, marker=markers[idx], markersize=8 if markers[idx]=='*' else 6, \n",
    "             linewidth=2, color=color)\n",
    "axs.legend(fontsize=fontsize-5, ncol=2, columnspacing=0.5, loc='upper center')\n",
    "axs.set_ylabel(r'ASD \\%', fontsize=fontsize-5)\n",
    "axs.tick_params('both', labelsize=fontsize-5)\n",
    "axs.set_xlabel(r'Diagonal displacement [\\# pixels]', fontsize=fontsize-5)\n",
    "axs.grid('on')\n",
    "axs.set_ylim([-5, 100])\n",
    "axs.set_yticks(np.arange(0, 110, 10))\n",
    "axs.set_xticks(np.arange(9))\n",
    "plt.show()"
   ]
  },
  {
   "cell_type": "markdown",
   "id": "2db6f7fd",
   "metadata": {},
   "source": [
    "### BCE loss"
   ]
  },
  {
   "cell_type": "code",
   "execution_count": 15,
   "id": "97a84379",
   "metadata": {},
   "outputs": [
    {
     "data": {
      "image/png": "[encoded data removed]",
      "text/plain": [
       "<Figure size 1000x500 with 1 Axes>"
      ]
     },
     "metadata": {},
     "output_type": "display_data"
    }
   ],
   "source": [
    "# Prepare plot\n",
    "fig, axs = plt.subplots(1, 1, figsize=(10, 5))\n",
    "fontsize=20\n",
    "markers = ['o', '*', 'v', '^']\n",
    "color_map = {'ResNet50': '#1f77b4', 'AA-ResNet50 pool only': '#ff7f0e', \n",
    "              'AA-ResNet50': '#2ca02c', 'ResNet50 random crop': '#d62728'}\n",
    "for model_path in models_paths:\n",
    "    net_name = model_path.split('net-')[1].split('_')[0]\n",
    "    random_crop = model_path.split('random_crop-')[1].split('/')[0] == 'True'\n",
    "    if net_name == 'AAResNet50':\n",
    "        aa_pool = model_path.split('aa_pool_only-')[1].split('/')[0] == 'True'\n",
    "        color = color_map['AA-ResNet50 pool only'] if aa_pool else color_map['AA-ResNet50']\n",
    "    if 'AA' in net_name:\n",
    "        if aa_pool:\n",
    "            label = f'AA-ResNet50 pool only'\n",
    "        else:\n",
    "            label = f'AA-ResNet50 full'\n",
    "    else:\n",
    "        label = f'{net_name}'\n",
    "        if random_crop:\n",
    "            label += ', random crop'\n",
    "        color = color_map['ResNet50 random crop'] if random_crop else color_map['ResNet50']\n",
    "    test_df = all_models_df.loc[(model_path)]\n",
    "    mean_df = test_df.groupby('Grid displacement').mean()\n",
    "    axs.plot(mean_df['bce_loss'], label=label, marker=markers[idx], markersize=8 if markers[idx]=='*' else 6, \n",
    "             linewidth=2, color=color)\n",
    "axs.legend(fontsize=fontsize-5, ncol=2, columnspacing=0.5, loc='upper center')\n",
    "axs.set_ylabel(r'BCE loss', fontsize=fontsize-5)\n",
    "axs.tick_params('both', labelsize=fontsize-5)\n",
    "axs.set_xlabel(r'Diagonal displacement [\\# pixels]', fontsize=fontsize-5)\n",
    "axs.grid('on')\n",
    "axs.set_ylim([-0.5, 12])\n",
    "axs.set_xticks(np.arange(9))\n",
    "plt.show()"
   ]
  },
  {
   "cell_type": "markdown",
   "id": "834c182d",
   "metadata": {},
   "source": [
    "## Credits\n",
    "[Image and Sound Processing Lab (ISPL)](http://ispl.deib.polimi.it/)\n",
    "- Edoardo Daniele Cannas;\n",
    "- Sara Mandelli;\n",
    "- Paolo Bestagini;\n",
    "- Stefano Tubaro."
   ]
  },
  {
   "cell_type": "code",
   "execution_count": null,
   "id": "00535bd7",
   "metadata": {},
   "outputs": [],
   "source": []
  }
 ],
 "metadata": {
  "kernelspec": {
   "display_name": "Python 3 (ipykernel)",
   "language": "python",
   "name": "python3"
  },
  "language_info": {
   "codemirror_mode": {
    "name": "ipython",
    "version": 3
   },
   "file_extension": ".py",
   "mimetype": "text/x-python",
   "name": "python",
   "nbconvert_exporter": "python",
   "pygments_lexer": "ipython3",
   "version": "3.9.16"
  }
 },
 "nbformat": 4,
 "nbformat_minor": 5
}
